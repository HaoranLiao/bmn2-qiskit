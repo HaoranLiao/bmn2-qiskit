{
 "metadata": {
  "language_info": {
   "codemirror_mode": {
    "name": "ipython",
    "version": 3
   },
   "file_extension": ".py",
   "mimetype": "text/x-python",
   "name": "python",
   "nbconvert_exporter": "python",
   "pygments_lexer": "ipython3",
   "version": "3.9.2"
  },
  "orig_nbformat": 2,
  "kernelspec": {
   "name": "python392jvsc74a57bd05ef24b7070357fb8e5b617d6f2cac47635e0a99e9e0b7fbdd27214ca7963c085",
   "display_name": "Python 3.9.2 64-bit ('qiskit': conda)"
  },
  "metadata": {
   "interpreter": {
    "hash": "5ef24b7070357fb8e5b617d6f2cac47635e0a99e9e0b7fbdd27214ca7963c085"
   }
  }
 },
 "nbformat": 4,
 "nbformat_minor": 2,
 "cells": [
  {
   "source": [
    "# Annihilation operator for a single boson"
   ],
   "cell_type": "markdown",
   "metadata": {}
  },
  {
   "source": [
    "The cutoff L needs to be a power of 2 because we want to use qubit operators."
   ],
   "cell_type": "markdown",
   "metadata": {}
  },
  {
   "cell_type": "code",
   "execution_count": 1,
   "metadata": {},
   "outputs": [],
   "source": [
    "import numpy as np\n",
    "from scipy.sparse import diags\n",
    "L = 2  # cutoff for Fock space\n",
    "a = diags(np.sqrt(np.linspace(1,L-1,L-1)),offsets=1)"
   ]
  },
  {
   "source": [
    "## Representation in QISKIT"
   ],
   "cell_type": "markdown",
   "metadata": {}
  },
  {
   "cell_type": "code",
   "execution_count": 2,
   "metadata": {},
   "outputs": [
    {
     "output_type": "stream",
     "name": "stdout",
     "text": [
      "1\n"
     ]
    }
   ],
   "source": [
    "from qiskit.aqua.operators import MatrixOp\n",
    "\n",
    "qubitOp = MatrixOp(primitive=a)\n",
    "print(qubitOp.num_qubits)"
   ]
  },
  {
   "source": [
    "Express the annihilation operator of a single boson in terms of N-qubit operators represented by Pauli matrices (2x2)"
   ],
   "cell_type": "markdown",
   "metadata": {}
  },
  {
   "cell_type": "code",
   "execution_count": 3,
   "metadata": {},
   "outputs": [
    {
     "output_type": "stream",
     "name": "stdout",
     "text": [
      "SummedOp([\n  0.5 * X,\n  0.5j * Y\n])\n"
     ]
    }
   ],
   "source": [
    "a_pauli = qubitOp.to_pauli_op()\n",
    "print(a_pauli)"
   ]
  },
  {
   "cell_type": "code",
   "execution_count": 4,
   "metadata": {},
   "outputs": [
    {
     "output_type": "execute_result",
     "data": {
      "text/plain": [
       "array([[0.+0.j, 1.+0.j],\n",
       "       [0.+0.j, 0.+0.j]])"
      ]
     },
     "metadata": {},
     "execution_count": 4
    }
   ],
   "source": [
    "a_pauli.to_matrix()"
   ]
  },
  {
   "source": [
    "# Identity operator for a single boson"
   ],
   "cell_type": "markdown",
   "metadata": {}
  },
  {
   "cell_type": "code",
   "execution_count": 5,
   "metadata": {},
   "outputs": [],
   "source": [
    "from scipy.sparse import identity\n",
    "iden = identity(L)"
   ]
  },
  {
   "cell_type": "code",
   "execution_count": 6,
   "metadata": {},
   "outputs": [
    {
     "output_type": "stream",
     "name": "stdout",
     "text": [
      "1\n"
     ]
    }
   ],
   "source": [
    "qubitOp = MatrixOp(primitive=iden)\n",
    "print(qubitOp.num_qubits)"
   ]
  },
  {
   "cell_type": "code",
   "execution_count": 7,
   "metadata": {},
   "outputs": [
    {
     "output_type": "stream",
     "name": "stdout",
     "text": [
      "I\n"
     ]
    }
   ],
   "source": [
    "i_pauli = qubitOp.to_pauli_op()\n",
    "print(i_pauli)"
   ]
  },
  {
   "cell_type": "code",
   "execution_count": 8,
   "metadata": {},
   "outputs": [
    {
     "output_type": "execute_result",
     "data": {
      "text/plain": [
       "array([[1.+0.j, 0.+0.j],\n",
       "       [0.+0.j, 1.+0.j]])"
      ]
     },
     "metadata": {},
     "execution_count": 8
    }
   ],
   "source": [
    "i_pauli.to_matrix()"
   ]
  },
  {
   "source": [
    "# Create the Hamiltonian for 6 interacting bosons"
   ],
   "cell_type": "markdown",
   "metadata": {}
  },
  {
   "source": [
    "Try to use the information in [this QISKIT tutorial](https://qiskit.org/documentation/tutorials/operators/01_operator_flow.html)"
   ],
   "cell_type": "markdown",
   "metadata": {}
  },
  {
   "cell_type": "code",
   "execution_count": 9,
   "metadata": {},
   "outputs": [],
   "source": [
    "Nmat = 6  # BMN2 for SU(2) has 6 bosonic matrices"
   ]
  },
  {
   "cell_type": "code",
   "execution_count": 10,
   "metadata": {},
   "outputs": [
    {
     "output_type": "stream",
     "name": "stdout",
     "text": [
      "ListOp([\n  I,\n  I,\n  I,\n  I,\n  I,\n  I\n])\n"
     ]
    }
   ],
   "source": [
    "from qiskit.aqua.operators.list_ops import ListOp, TensoredOp\n",
    "\n",
    "boson = ListOp([i_pauli]*6)\n",
    "print(boson)"
   ]
  },
  {
   "cell_type": "code",
   "execution_count": 11,
   "metadata": {},
   "outputs": [
    {
     "output_type": "stream",
     "name": "stdout",
     "text": [
      "I\n"
     ]
    }
   ],
   "source": [
    "print(boson[0])"
   ]
  },
  {
   "source": [
    "Since assignment is not possible, we construct the Nmat operators manually"
   ],
   "cell_type": "markdown",
   "metadata": {}
  },
  {
   "cell_type": "code",
   "execution_count": 12,
   "metadata": {},
   "outputs": [],
   "source": [
    "# this does not work because the dimension of the spaces is not consisten\n",
    "# boson0 = a_pauli^(i_pauli^5)"
   ]
  },
  {
   "cell_type": "code",
   "execution_count": 13,
   "metadata": {},
   "outputs": [],
   "source": [
    "boson0 = TensoredOp([a_pauli, i_pauli, i_pauli, i_pauli, i_pauli, i_pauli])"
   ]
  },
  {
   "cell_type": "code",
   "execution_count": 14,
   "metadata": {},
   "outputs": [
    {
     "output_type": "stream",
     "name": "stdout",
     "text": [
      "TensoredOp([\n  SummedOp([\n    0.5 * X,\n    0.5j * Y\n  ]),\n  I,\n  I,\n  I,\n  I,\n  I\n])\n"
     ]
    }
   ],
   "source": [
    "print(boson0)"
   ]
  },
  {
   "cell_type": "code",
   "execution_count": 15,
   "metadata": {},
   "outputs": [
    {
     "output_type": "execute_result",
     "data": {
      "text/plain": [
       "6"
      ]
     },
     "metadata": {},
     "execution_count": 15
    }
   ],
   "source": [
    "boson0.num_qubits"
   ]
  },
  {
   "cell_type": "code",
   "execution_count": 16,
   "metadata": {},
   "outputs": [
    {
     "output_type": "execute_result",
     "data": {
      "text/plain": [
       "<2x2 sparse matrix of type '<class 'numpy.complex128'>'\n",
       "\twith 1 stored elements in Compressed Sparse Row format>"
      ]
     },
     "metadata": {},
     "execution_count": 16
    }
   ],
   "source": [
    "boson0.to_spmatrix()"
   ]
  },
  {
   "cell_type": "code",
   "execution_count": 17,
   "metadata": {},
   "outputs": [
    {
     "output_type": "execute_result",
     "data": {
      "text/plain": [
       "array([[0.+0.j, 0.+0.j, 0.+0.j, ..., 0.+0.j, 0.+0.j, 0.+0.j],\n",
       "       [0.+0.j, 0.+0.j, 0.+0.j, ..., 0.+0.j, 0.+0.j, 0.+0.j],\n",
       "       [0.+0.j, 0.+0.j, 0.+0.j, ..., 0.+0.j, 0.+0.j, 0.+0.j],\n",
       "       ...,\n",
       "       [0.+0.j, 0.+0.j, 0.+0.j, ..., 0.+0.j, 0.+0.j, 0.+0.j],\n",
       "       [0.+0.j, 0.+0.j, 0.+0.j, ..., 0.+0.j, 0.+0.j, 0.+0.j],\n",
       "       [0.+0.j, 0.+0.j, 0.+0.j, ..., 0.+0.j, 0.+0.j, 0.+0.j]])"
      ]
     },
     "metadata": {},
     "execution_count": 17
    }
   ],
   "source": [
    "boson0.to_matrix()"
   ]
  },
  {
   "cell_type": "code",
   "execution_count": 18,
   "metadata": {},
   "outputs": [
    {
     "output_type": "execute_result",
     "data": {
      "text/plain": [
       "(64, 64)"
      ]
     },
     "metadata": {},
     "execution_count": 18
    }
   ],
   "source": [
    "boson0.to_matrix().shape"
   ]
  },
  {
   "cell_type": "code",
   "execution_count": 19,
   "metadata": {},
   "outputs": [],
   "source": [
    "boson1 = TensoredOp([i_pauli, a_pauli, i_pauli, i_pauli, i_pauli, i_pauli])"
   ]
  },
  {
   "cell_type": "code",
   "execution_count": 20,
   "metadata": {},
   "outputs": [
    {
     "output_type": "stream",
     "name": "stdout",
     "text": [
      "TensoredOp([\n  I,\n  SummedOp([\n    0.5 * X,\n    0.5j * Y\n  ]),\n  I,\n  I,\n  I,\n  I\n])\n"
     ]
    }
   ],
   "source": [
    "print(boson1)"
   ]
  },
  {
   "cell_type": "code",
   "execution_count": 21,
   "metadata": {},
   "outputs": [
    {
     "output_type": "execute_result",
     "data": {
      "text/plain": [
       "<2x2 sparse matrix of type '<class 'numpy.complex128'>'\n",
       "\twith 1 stored elements in Compressed Sparse Row format>"
      ]
     },
     "metadata": {},
     "execution_count": 21
    }
   ],
   "source": [
    "boson1.to_spmatrix()"
   ]
  },
  {
   "cell_type": "code",
   "execution_count": 22,
   "metadata": {},
   "outputs": [
    {
     "output_type": "execute_result",
     "data": {
      "text/plain": [
       "scipy.sparse.csr.csr_matrix"
      ]
     },
     "metadata": {},
     "execution_count": 22
    }
   ],
   "source": [
    "sparse = boson1.to_spmatrix()\n",
    "type(sparse)"
   ]
  },
  {
   "cell_type": "code",
   "execution_count": 23,
   "metadata": {},
   "outputs": [
    {
     "output_type": "execute_result",
     "data": {
      "text/plain": [
       "(2, 2)"
      ]
     },
     "metadata": {},
     "execution_count": 23
    }
   ],
   "source": [
    "sparse.shape"
   ]
  },
  {
   "cell_type": "code",
   "execution_count": 24,
   "metadata": {},
   "outputs": [
    {
     "output_type": "execute_result",
     "data": {
      "text/plain": [
       "array([[0.+0.j, 0.+0.j, 0.+0.j, ..., 0.+0.j, 0.+0.j, 0.+0.j],\n",
       "       [0.+0.j, 0.+0.j, 0.+0.j, ..., 0.+0.j, 0.+0.j, 0.+0.j],\n",
       "       [0.+0.j, 0.+0.j, 0.+0.j, ..., 0.+0.j, 0.+0.j, 0.+0.j],\n",
       "       ...,\n",
       "       [0.+0.j, 0.+0.j, 0.+0.j, ..., 0.+0.j, 0.+0.j, 0.+0.j],\n",
       "       [0.+0.j, 0.+0.j, 0.+0.j, ..., 0.+0.j, 0.+0.j, 0.+0.j],\n",
       "       [0.+0.j, 0.+0.j, 0.+0.j, ..., 0.+0.j, 0.+0.j, 0.+0.j]])"
      ]
     },
     "metadata": {},
     "execution_count": 24
    }
   ],
   "source": [
    "boson1.to_matrix()"
   ]
  },
  {
   "cell_type": "code",
   "execution_count": 25,
   "metadata": {},
   "outputs": [
    {
     "output_type": "execute_result",
     "data": {
      "text/plain": [
       "64"
      ]
     },
     "metadata": {},
     "execution_count": 25
    }
   ],
   "source": [
    "full = boson1.to_matrix()\n",
    "len(full)"
   ]
  },
  {
   "cell_type": "code",
   "execution_count": 26,
   "metadata": {},
   "outputs": [
    {
     "output_type": "execute_result",
     "data": {
      "text/plain": [
       "numpy.ndarray"
      ]
     },
     "metadata": {},
     "execution_count": 26
    }
   ],
   "source": [
    "type(full)"
   ]
  },
  {
   "cell_type": "code",
   "execution_count": 27,
   "metadata": {},
   "outputs": [
    {
     "output_type": "execute_result",
     "data": {
      "text/plain": [
       "(64, 64)"
      ]
     },
     "metadata": {},
     "execution_count": 27
    }
   ],
   "source": [
    "full.shape"
   ]
  },
  {
   "source": [
    "We can use a list of `ListOp` and then perform the tensor product using `TensoredOp`"
   ],
   "cell_type": "markdown",
   "metadata": {}
  },
  {
   "cell_type": "code",
   "execution_count": 28,
   "metadata": {},
   "outputs": [],
   "source": [
    "# generically speaking, we construct the list of bosons and then take the outer product\n",
    "a_list = []  # this will contain a1...a6 as a list of ListOp\n",
    "for i in np.arange(0,Nmat):  # loop over all operators\n",
    "    operator_list = [i_pauli] * Nmat  # only the identity repeated Nmat times\n",
    "    operator_list[i] = a_pauli  # the i^th element is now the annihilation operator for a single boson\n",
    "    a_list.append(ListOp(operator_list))\n"
   ]
  },
  {
   "cell_type": "code",
   "execution_count": 29,
   "metadata": {},
   "outputs": [
    {
     "output_type": "stream",
     "name": "stdout",
     "text": [
      "ListOp([\n  SummedOp([\n    0.5 * X,\n    0.5j * Y\n  ]),\n  I,\n  I,\n  I,\n  I,\n  I\n])\n"
     ]
    }
   ],
   "source": [
    "print(a_list[0])"
   ]
  },
  {
   "cell_type": "code",
   "execution_count": 30,
   "metadata": {},
   "outputs": [],
   "source": [
    "# here we create a list of operators which are the tensor products...\n",
    "a_tensor = [TensoredOp(x) for x in a_list]\n"
   ]
  },
  {
   "cell_type": "code",
   "execution_count": 31,
   "metadata": {},
   "outputs": [
    {
     "output_type": "stream",
     "name": "stdout",
     "text": [
      "TensoredOp([\n  SummedOp([\n    0.5 * X,\n    0.5j * Y\n  ]),\n  I,\n  I,\n  I,\n  I,\n  I\n])\n"
     ]
    }
   ],
   "source": [
    "print(a_tensor[0])"
   ]
  },
  {
   "cell_type": "code",
   "execution_count": 32,
   "metadata": {},
   "outputs": [],
   "source": [
    "assert a_tensor[0] == boson0"
   ]
  },
  {
   "cell_type": "code",
   "execution_count": 33,
   "metadata": {},
   "outputs": [
    {
     "output_type": "stream",
     "name": "stdout",
     "text": [
      "TensoredOp([\n  SummedOp([\n    0.5 * X,\n    0.5j * Y\n  ]),\n  I,\n  I,\n  I,\n  I,\n  I\n])\n"
     ]
    }
   ],
   "source": [
    "print(a_tensor[0].to_pauli_op())"
   ]
  },
  {
   "source": [
    "The representation is already in terms of Pauli operators."
   ],
   "cell_type": "markdown",
   "metadata": {}
  },
  {
   "cell_type": "code",
   "execution_count": 34,
   "metadata": {},
   "outputs": [
    {
     "output_type": "execute_result",
     "data": {
      "text/plain": [
       "6"
      ]
     },
     "metadata": {},
     "execution_count": 34
    }
   ],
   "source": [
    "a_tensor[0].num_qubits"
   ]
  },
  {
   "cell_type": "code",
   "execution_count": 35,
   "metadata": {},
   "outputs": [
    {
     "output_type": "execute_result",
     "data": {
      "text/plain": [
       "scipy.sparse.csr.csr_matrix"
      ]
     },
     "metadata": {},
     "execution_count": 35
    }
   ],
   "source": [
    "sparse = a_tensor[0].to_spmatrix()\n",
    "type(sparse)"
   ]
  },
  {
   "cell_type": "code",
   "execution_count": 36,
   "metadata": {},
   "outputs": [
    {
     "output_type": "execute_result",
     "data": {
      "text/plain": [
       "(2, 2)"
      ]
     },
     "metadata": {},
     "execution_count": 36
    }
   ],
   "source": [
    "sparse.shape"
   ]
  },
  {
   "cell_type": "code",
   "execution_count": 37,
   "metadata": {},
   "outputs": [
    {
     "output_type": "execute_result",
     "data": {
      "text/plain": [
       "64"
      ]
     },
     "metadata": {},
     "execution_count": 37
    }
   ],
   "source": [
    "full = a_tensor[0].to_matrix()\n",
    "len(full)"
   ]
  },
  {
   "cell_type": "code",
   "execution_count": 38,
   "metadata": {},
   "outputs": [
    {
     "output_type": "execute_result",
     "data": {
      "text/plain": [
       "(64, 64)"
      ]
     },
     "metadata": {},
     "execution_count": 38
    }
   ],
   "source": [
    "full.shape"
   ]
  },
  {
   "source": [
    "We also create the identity in this new tensor space of 6 bosons"
   ],
   "cell_type": "markdown",
   "metadata": {}
  },
  {
   "cell_type": "code",
   "execution_count": 39,
   "metadata": {},
   "outputs": [],
   "source": [
    "i_tensor = TensoredOp(ListOp([i_pauli] * Nmat))"
   ]
  },
  {
   "cell_type": "code",
   "execution_count": 40,
   "metadata": {},
   "outputs": [
    {
     "output_type": "stream",
     "name": "stdout",
     "text": [
      "TensoredOp([\n  I,\n  I,\n  I,\n  I,\n  I,\n  I\n])\n"
     ]
    }
   ],
   "source": [
    "print(i_tensor)"
   ]
  },
  {
   "cell_type": "code",
   "execution_count": 41,
   "metadata": {},
   "outputs": [
    {
     "output_type": "execute_result",
     "data": {
      "text/plain": [
       "6"
      ]
     },
     "metadata": {},
     "execution_count": 41
    }
   ],
   "source": [
    "i_tensor.num_qubits"
   ]
  },
  {
   "cell_type": "code",
   "execution_count": 42,
   "metadata": {},
   "outputs": [
    {
     "output_type": "execute_result",
     "data": {
      "text/plain": [
       "64"
      ]
     },
     "metadata": {},
     "execution_count": 42
    }
   ],
   "source": [
    "full = i_tensor.to_matrix()\n",
    "len(full)"
   ]
  },
  {
   "cell_type": "code",
   "execution_count": 43,
   "metadata": {},
   "outputs": [
    {
     "output_type": "stream",
     "name": "stdout",
     "text": [
      "  (0, 0)\t(1+0j)\n  (1, 1)\t(1+0j)\n"
     ]
    }
   ],
   "source": [
    "print(i_tensor.to_spmatrix())"
   ]
  },
  {
   "source": [
    "## Create the position operators"
   ],
   "cell_type": "markdown",
   "metadata": {}
  },
  {
   "cell_type": "code",
   "execution_count": 44,
   "metadata": {},
   "outputs": [],
   "source": [
    "# for each boson they are constructed using a and adag\n",
    "x_tensor = [1/np.sqrt(2)*(~x + x) for x in a_tensor]"
   ]
  },
  {
   "cell_type": "code",
   "execution_count": 45,
   "metadata": {},
   "outputs": [
    {
     "output_type": "stream",
     "name": "stdout",
     "text": [
      "0.7071067811865475 * SummedOp([\n  TensoredOp([\n    SummedOp([\n      0.5 * X,\n      -0.5j * Y\n    ]),\n    I,\n    I,\n    I,\n    I,\n    I\n  ]),\n  TensoredOp([\n    SummedOp([\n      0.5 * X,\n      0.5j * Y\n    ]),\n    I,\n    I,\n    I,\n    I,\n    I\n  ])\n])\n"
     ]
    }
   ],
   "source": [
    "print(x_tensor[0])"
   ]
  },
  {
   "source": [
    "## Create the full Hamiltonian"
   ],
   "cell_type": "markdown",
   "metadata": {}
  },
  {
   "cell_type": "code",
   "execution_count": 46,
   "metadata": {},
   "outputs": [],
   "source": [
    "from qiskit.aqua.operators.list_ops import SummedOp"
   ]
  },
  {
   "cell_type": "code",
   "execution_count": 47,
   "metadata": {},
   "outputs": [],
   "source": [
    "H_zero = 0.5*Nmat*i_tensor"
   ]
  },
  {
   "cell_type": "code",
   "execution_count": 48,
   "metadata": {},
   "outputs": [
    {
     "output_type": "stream",
     "name": "stdout",
     "text": [
      "3.0 * TensoredOp([\n  I,\n  I,\n  I,\n  I,\n  I,\n  I\n])\n"
     ]
    }
   ],
   "source": [
    "print(H_zero)"
   ]
  },
  {
   "cell_type": "code",
   "execution_count": 49,
   "metadata": {},
   "outputs": [
    {
     "output_type": "execute_result",
     "data": {
      "text/plain": [
       "<2x2 sparse matrix of type '<class 'numpy.complex128'>'\n",
       "\twith 2 stored elements in Compressed Sparse Row format>"
      ]
     },
     "metadata": {},
     "execution_count": 49
    }
   ],
   "source": [
    "H_zero.to_spmatrix()"
   ]
  },
  {
   "cell_type": "code",
   "execution_count": 50,
   "metadata": {},
   "outputs": [],
   "source": [
    "### Harmonic oscillator\n",
    "# this should be summed over all the bosons (Nmat)\n",
    "H_list = [H_zero]\n",
    "for op in a_tensor:\n",
    "    H_list.append((~op @ op))\n",
    "H_osc = SummedOp(H_list)\n"
   ]
  },
  {
   "cell_type": "code",
   "execution_count": 51,
   "metadata": {},
   "outputs": [
    {
     "output_type": "stream",
     "name": "stdout",
     "text": [
      "SummedOp([\n  3.0 * TensoredOp([\n    I,\n    I,\n    I,\n    I,\n    I,\n    I\n  ]),\n  ComposedOp([\n    TensoredOp([\n      SummedOp([\n        0.5 * X,\n        -0.5j * Y\n      ]),\n      I,\n      I,\n      I,\n      I,\n      I\n    ]),\n    TensoredOp([\n      SummedOp([\n        0.5 * X,\n        0.5j * Y\n      ]),\n      I,\n      I,\n      I,\n      I,\n      I\n    ])\n  ]),\n  ComposedOp([\n    TensoredOp([\n      I,\n      SummedOp([\n        0.5 * X,\n        -0.5j * Y\n      ]),\n      I,\n      I,\n      I,\n      I\n    ]),\n    TensoredOp([\n      I,\n      SummedOp([\n        0.5 * X,\n        0.5j * Y\n      ]),\n      I,\n      I,\n      I,\n      I\n    ])\n  ]),\n  ComposedOp([\n    TensoredOp([\n      I,\n      I,\n      SummedOp([\n        0.5 * X,\n        -0.5j * Y\n      ]),\n      I,\n      I,\n      I\n    ]),\n    TensoredOp([\n      I,\n      I,\n      SummedOp([\n        0.5 * X,\n        0.5j * Y\n      ]),\n      I,\n      I,\n      I\n    ])\n  ]),\n  ComposedOp([\n    TensoredOp([\n      I,\n      I,\n      I,\n      SummedOp([\n        0.5 * X,\n        -0.5j * Y\n      ]),\n      I,\n      I\n    ]),\n    TensoredOp([\n      I,\n      I,\n      I,\n      SummedOp([\n        0.5 * X,\n        0.5j * Y\n      ]),\n      I,\n      I\n    ])\n  ]),\n  ComposedOp([\n    TensoredOp([\n      I,\n      I,\n      I,\n      I,\n      SummedOp([\n        0.5 * X,\n        -0.5j * Y\n      ]),\n      I\n    ]),\n    TensoredOp([\n      I,\n      I,\n      I,\n      I,\n      SummedOp([\n        0.5 * X,\n        0.5j * Y\n      ]),\n      I\n    ])\n  ]),\n  ComposedOp([\n    TensoredOp([\n      I,\n      I,\n      I,\n      I,\n      I,\n      SummedOp([\n        0.5 * X,\n        -0.5j * Y\n      ])\n    ]),\n    TensoredOp([\n      I,\n      I,\n      I,\n      I,\n      I,\n      SummedOp([\n        0.5 * X,\n        0.5j * Y\n      ])\n    ])\n  ])\n])\n"
     ]
    }
   ],
   "source": [
    "print(H_osc)"
   ]
  },
  {
   "cell_type": "code",
   "execution_count": 52,
   "metadata": {},
   "outputs": [
    {
     "output_type": "execute_result",
     "data": {
      "text/plain": [
       "qiskit.aqua.operators.list_ops.summed_op.SummedOp"
      ]
     },
     "metadata": {},
     "execution_count": 52
    }
   ],
   "source": [
    "type(H_osc)"
   ]
  },
  {
   "cell_type": "code",
   "execution_count": 53,
   "metadata": {},
   "outputs": [
    {
     "output_type": "execute_result",
     "data": {
      "text/plain": [
       "SummedOp([PauliOp(Pauli(z=[False, False, False, False, False, False], x=[False, False, False, False, False, False]), coeff=3.0), ComposedOp([TensoredOp([SummedOp([PauliOp(Pauli(z=[False], x=[True]), coeff=0.5), PauliOp(Pauli(z=[True], x=[True]), coeff=-0.5j)], coeff=1.0, abelian=False), PauliOp(Pauli(z=[False], x=[False]), coeff=1.0), PauliOp(Pauli(z=[False], x=[False]), coeff=1.0), PauliOp(Pauli(z=[False], x=[False]), coeff=1.0), PauliOp(Pauli(z=[False], x=[False]), coeff=1.0), PauliOp(Pauli(z=[False], x=[False]), coeff=1.0)], coeff=1.0, abelian=False), TensoredOp([SummedOp([PauliOp(Pauli(z=[False], x=[True]), coeff=0.5), PauliOp(Pauli(z=[True], x=[True]), coeff=0.5j)], coeff=1.0, abelian=False), PauliOp(Pauli(z=[False], x=[False]), coeff=1.0), PauliOp(Pauli(z=[False], x=[False]), coeff=1.0), PauliOp(Pauli(z=[False], x=[False]), coeff=1.0), PauliOp(Pauli(z=[False], x=[False]), coeff=1.0), PauliOp(Pauli(z=[False], x=[False]), coeff=1.0)], coeff=1.0, abelian=False)], coeff=1.0, abelian=False), ComposedOp([TensoredOp([PauliOp(Pauli(z=[False], x=[False]), coeff=1.0), SummedOp([PauliOp(Pauli(z=[False], x=[True]), coeff=0.5), PauliOp(Pauli(z=[True], x=[True]), coeff=-0.5j)], coeff=1.0, abelian=False), PauliOp(Pauli(z=[False], x=[False]), coeff=1.0), PauliOp(Pauli(z=[False], x=[False]), coeff=1.0), PauliOp(Pauli(z=[False], x=[False]), coeff=1.0), PauliOp(Pauli(z=[False], x=[False]), coeff=1.0)], coeff=1.0, abelian=False), TensoredOp([PauliOp(Pauli(z=[False], x=[False]), coeff=1.0), SummedOp([PauliOp(Pauli(z=[False], x=[True]), coeff=0.5), PauliOp(Pauli(z=[True], x=[True]), coeff=0.5j)], coeff=1.0, abelian=False), PauliOp(Pauli(z=[False], x=[False]), coeff=1.0), PauliOp(Pauli(z=[False], x=[False]), coeff=1.0), PauliOp(Pauli(z=[False], x=[False]), coeff=1.0), PauliOp(Pauli(z=[False], x=[False]), coeff=1.0)], coeff=1.0, abelian=False)], coeff=1.0, abelian=False), ComposedOp([TensoredOp([PauliOp(Pauli(z=[False, False], x=[False, False]), coeff=1.0), SummedOp([PauliOp(Pauli(z=[False], x=[True]), coeff=0.5), PauliOp(Pauli(z=[True], x=[True]), coeff=-0.5j)], coeff=1.0, abelian=False), PauliOp(Pauli(z=[False], x=[False]), coeff=1.0), PauliOp(Pauli(z=[False], x=[False]), coeff=1.0), PauliOp(Pauli(z=[False], x=[False]), coeff=1.0)], coeff=1.0, abelian=False), TensoredOp([PauliOp(Pauli(z=[False, False], x=[False, False]), coeff=1.0), SummedOp([PauliOp(Pauli(z=[False], x=[True]), coeff=0.5), PauliOp(Pauli(z=[True], x=[True]), coeff=0.5j)], coeff=1.0, abelian=False), PauliOp(Pauli(z=[False], x=[False]), coeff=1.0), PauliOp(Pauli(z=[False], x=[False]), coeff=1.0), PauliOp(Pauli(z=[False], x=[False]), coeff=1.0)], coeff=1.0, abelian=False)], coeff=1.0, abelian=False), ComposedOp([TensoredOp([PauliOp(Pauli(z=[False, False, False], x=[False, False, False]), coeff=1.0), SummedOp([PauliOp(Pauli(z=[False], x=[True]), coeff=0.5), PauliOp(Pauli(z=[True], x=[True]), coeff=-0.5j)], coeff=1.0, abelian=False), PauliOp(Pauli(z=[False], x=[False]), coeff=1.0), PauliOp(Pauli(z=[False], x=[False]), coeff=1.0)], coeff=1.0, abelian=False), TensoredOp([PauliOp(Pauli(z=[False, False, False], x=[False, False, False]), coeff=1.0), SummedOp([PauliOp(Pauli(z=[False], x=[True]), coeff=0.5), PauliOp(Pauli(z=[True], x=[True]), coeff=0.5j)], coeff=1.0, abelian=False), PauliOp(Pauli(z=[False], x=[False]), coeff=1.0), PauliOp(Pauli(z=[False], x=[False]), coeff=1.0)], coeff=1.0, abelian=False)], coeff=1.0, abelian=False), ComposedOp([TensoredOp([PauliOp(Pauli(z=[False, False, False, False], x=[False, False, False, False]), coeff=1.0), SummedOp([PauliOp(Pauli(z=[False], x=[True]), coeff=0.5), PauliOp(Pauli(z=[True], x=[True]), coeff=-0.5j)], coeff=1.0, abelian=False), PauliOp(Pauli(z=[False], x=[False]), coeff=1.0)], coeff=1.0, abelian=False), TensoredOp([PauliOp(Pauli(z=[False, False, False, False], x=[False, False, False, False]), coeff=1.0), SummedOp([PauliOp(Pauli(z=[False], x=[True]), coeff=0.5), PauliOp(Pauli(z=[True], x=[True]), coeff=0.5j)], coeff=1.0, abelian=False), PauliOp(Pauli(z=[False], x=[False]), coeff=1.0)], coeff=1.0, abelian=False)], coeff=1.0, abelian=False), ComposedOp([TensoredOp([PauliOp(Pauli(z=[False, False, False, False, False], x=[False, False, False, False, False]), coeff=1.0), SummedOp([PauliOp(Pauli(z=[False], x=[True]), coeff=0.5), PauliOp(Pauli(z=[True], x=[True]), coeff=-0.5j)], coeff=1.0, abelian=False)], coeff=1.0, abelian=False), TensoredOp([PauliOp(Pauli(z=[False, False, False, False, False], x=[False, False, False, False, False]), coeff=1.0), SummedOp([PauliOp(Pauli(z=[False], x=[True]), coeff=0.5), PauliOp(Pauli(z=[True], x=[True]), coeff=0.5j)], coeff=1.0, abelian=False)], coeff=1.0, abelian=False)], coeff=1.0, abelian=False)], coeff=1.0, abelian=False)"
      ]
     },
     "metadata": {},
     "execution_count": 53
    }
   ],
   "source": [
    "H_osc.to_pauli_op()"
   ]
  },
  {
   "cell_type": "code",
   "execution_count": 54,
   "metadata": {},
   "outputs": [
    {
     "output_type": "execute_result",
     "data": {
      "text/plain": [
       "6"
      ]
     },
     "metadata": {},
     "execution_count": 54
    }
   ],
   "source": [
    "H_osc.num_qubits"
   ]
  },
  {
   "cell_type": "code",
   "execution_count": 55,
   "metadata": {},
   "outputs": [
    {
     "output_type": "execute_result",
     "data": {
      "text/plain": [
       "<2x2 sparse matrix of type '<class 'numpy.complex128'>'\n",
       "\twith 2 stored elements in Compressed Sparse Row format>"
      ]
     },
     "metadata": {},
     "execution_count": 55
    }
   ],
   "source": [
    "H_osc.to_spmatrix()"
   ]
  },
  {
   "cell_type": "code",
   "execution_count": 56,
   "metadata": {},
   "outputs": [],
   "source": [
    "quartic1 = SummedOp([x_tensor[2]@x_tensor[2]@x_tensor[3]@x_tensor[3], \\\n",
    "                    x_tensor[2]@x_tensor[2]@x_tensor[4]@x_tensor[4], \\\n",
    "                    x_tensor[1]@x_tensor[1]@x_tensor[3]@x_tensor[3], \\\n",
    "                    x_tensor[1]@x_tensor[1]@x_tensor[5]@x_tensor[5], \\\n",
    "                    x_tensor[0]@x_tensor[0]@x_tensor[4]@x_tensor[4], \\\n",
    "                    x_tensor[0]@x_tensor[0]@x_tensor[5]@x_tensor[5]])\n",
    "                    "
   ]
  },
  {
   "cell_type": "code",
   "execution_count": 57,
   "metadata": {},
   "outputs": [],
   "source": [
    "quartic2 = SummedOp([x_tensor[0]@x_tensor[2]@x_tensor[3]@x_tensor[5],\\\n",
    "                    x_tensor[0]@x_tensor[1]@x_tensor[3]@x_tensor[4],\\\n",
    "                    x_tensor[1]@x_tensor[2]@x_tensor[4]@x_tensor[5]], coeff = -2.0)"
   ]
  },
  {
   "cell_type": "code",
   "execution_count": 58,
   "metadata": {
    "tags": []
   },
   "outputs": [
    {
     "output_type": "stream",
     "name": "stdout",
     "text": [
      "-2.0 * SummedOp([\n  ComposedOp([\n    0.7071067811865475 * SummedOp([\n      TensoredOp([\n        SummedOp([\n          0.5 * X,\n          -0.5j * Y\n        ]),\n        I,\n        I,\n        I,\n        I,\n        I\n      ]),\n      TensoredOp([\n        SummedOp([\n          0.5 * X,\n          0.5j * Y\n        ]),\n        I,\n        I,\n        I,\n        I,\n        I\n      ])\n    ]),\n    0.7071067811865475 * SummedOp([\n      TensoredOp([\n        I,\n        I,\n        SummedOp([\n          0.5 * X,\n          -0.5j * Y\n        ]),\n        I,\n        I,\n        I\n      ]),\n      TensoredOp([\n        I,\n        I,\n        SummedOp([\n          0.5 * X,\n          0.5j * Y\n        ]),\n        I,\n        I,\n        I\n      ])\n    ]),\n    0.7071067811865475 * SummedOp([\n      TensoredOp([\n        I,\n        I,\n        I,\n        SummedOp([\n          0.5 * X,\n          -0.5j * Y\n        ]),\n        I,\n        I\n      ]),\n      TensoredOp([\n        I,\n        I,\n        I,\n        SummedOp([\n          0.5 * X,\n          0.5j * Y\n        ]),\n        I,\n        I\n      ])\n    ]),\n    0.7071067811865475 * SummedOp([\n      TensoredOp([\n        I,\n        I,\n        I,\n        I,\n        I,\n        SummedOp([\n          0.5 * X,\n          -0.5j * Y\n        ])\n      ]),\n      TensoredOp([\n        I,\n        I,\n        I,\n        I,\n        I,\n        SummedOp([\n          0.5 * X,\n          0.5j * Y\n        ])\n      ])\n    ])\n  ]),\n  ComposedOp([\n    0.7071067811865475 * SummedOp([\n      TensoredOp([\n        SummedOp([\n          0.5 * X,\n          -0.5j * Y\n        ]),\n        I,\n        I,\n        I,\n        I,\n        I\n      ]),\n      TensoredOp([\n        SummedOp([\n          0.5 * X,\n          0.5j * Y\n        ]),\n        I,\n        I,\n        I,\n        I,\n        I\n      ])\n    ]),\n    0.7071067811865475 * SummedOp([\n      TensoredOp([\n        I,\n        SummedOp([\n          0.5 * X,\n          -0.5j * Y\n        ]),\n        I,\n        I,\n        I,\n        I\n      ]),\n      TensoredOp([\n        I,\n        SummedOp([\n          0.5 * X,\n          0.5j * Y\n        ]),\n        I,\n        I,\n        I,\n        I\n      ])\n    ]),\n    0.7071067811865475 * SummedOp([\n      TensoredOp([\n        I,\n        I,\n        I,\n        SummedOp([\n          0.5 * X,\n          -0.5j * Y\n        ]),\n        I,\n        I\n      ]),\n      TensoredOp([\n        I,\n        I,\n        I,\n        SummedOp([\n          0.5 * X,\n          0.5j * Y\n        ]),\n        I,\n        I\n      ])\n    ]),\n    0.7071067811865475 * SummedOp([\n      TensoredOp([\n        I,\n        I,\n        I,\n        I,\n        SummedOp([\n          0.5 * X,\n          -0.5j * Y\n        ]),\n        I\n      ]),\n      TensoredOp([\n        I,\n        I,\n        I,\n        I,\n        SummedOp([\n          0.5 * X,\n          0.5j * Y\n        ]),\n        I\n      ])\n    ])\n  ]),\n  ComposedOp([\n    0.7071067811865475 * SummedOp([\n      TensoredOp([\n        I,\n        SummedOp([\n          0.5 * X,\n          -0.5j * Y\n        ]),\n        I,\n        I,\n        I,\n        I\n      ]),\n      TensoredOp([\n        I,\n        SummedOp([\n          0.5 * X,\n          0.5j * Y\n        ]),\n        I,\n        I,\n        I,\n        I\n      ])\n    ]),\n    0.7071067811865475 * SummedOp([\n      TensoredOp([\n        I,\n        I,\n        SummedOp([\n          0.5 * X,\n          -0.5j * Y\n        ]),\n        I,\n        I,\n        I\n      ]),\n      TensoredOp([\n        I,\n        I,\n        SummedOp([\n          0.5 * X,\n          0.5j * Y\n        ]),\n        I,\n        I,\n        I\n      ])\n    ]),\n    0.7071067811865475 * SummedOp([\n      TensoredOp([\n        I,\n        I,\n        I,\n        I,\n        SummedOp([\n          0.5 * X,\n          -0.5j * Y\n        ]),\n        I\n      ]),\n      TensoredOp([\n        I,\n        I,\n        I,\n        I,\n        SummedOp([\n          0.5 * X,\n          0.5j * Y\n        ]),\n        I\n      ])\n    ]),\n    0.7071067811865475 * SummedOp([\n      TensoredOp([\n        I,\n        I,\n        I,\n        I,\n        I,\n        SummedOp([\n          0.5 * X,\n          -0.5j * Y\n        ])\n      ]),\n      TensoredOp([\n        I,\n        I,\n        I,\n        I,\n        I,\n        SummedOp([\n          0.5 * X,\n          0.5j * Y\n        ])\n      ])\n    ])\n  ])\n])\n"
     ]
    }
   ],
   "source": [
    "print(quartic2)"
   ]
  },
  {
   "cell_type": "code",
   "execution_count": 59,
   "metadata": {},
   "outputs": [
    {
     "output_type": "execute_result",
     "data": {
      "text/plain": [
       "qiskit.aqua.operators.list_ops.summed_op.SummedOp"
      ]
     },
     "metadata": {},
     "execution_count": 59
    }
   ],
   "source": [
    "type(quartic2)"
   ]
  },
  {
   "cell_type": "code",
   "execution_count": 60,
   "metadata": {},
   "outputs": [],
   "source": [
    "### Quartic Interaction\n",
    "V =  quartic1 + quartic2"
   ]
  },
  {
   "cell_type": "code",
   "execution_count": 61,
   "metadata": {},
   "outputs": [
    {
     "output_type": "execute_result",
     "data": {
      "text/plain": [
       "6"
      ]
     },
     "metadata": {},
     "execution_count": 61
    }
   ],
   "source": [
    "V.num_qubits"
   ]
  },
  {
   "cell_type": "code",
   "execution_count": 62,
   "metadata": {},
   "outputs": [
    {
     "output_type": "execute_result",
     "data": {
      "text/plain": [
       "<2x2 sparse matrix of type '<class 'numpy.complex128'>'\n",
       "\twith 2 stored elements in Compressed Sparse Row format>"
      ]
     },
     "metadata": {},
     "execution_count": 62
    }
   ],
   "source": [
    "V.to_spmatrix()"
   ]
  },
  {
   "source": [
    "## Define the 'tHooft coupling"
   ],
   "cell_type": "markdown",
   "metadata": {}
  },
  {
   "cell_type": "code",
   "execution_count": 63,
   "metadata": {},
   "outputs": [],
   "source": [
    "g2 = 1.0"
   ]
  },
  {
   "cell_type": "code",
   "execution_count": 64,
   "metadata": {},
   "outputs": [],
   "source": [
    "### Full Hamiltonian\n",
    "H = H_osc + 0.5*g2*V"
   ]
  },
  {
   "cell_type": "code",
   "execution_count": 65,
   "metadata": {},
   "outputs": [
    {
     "output_type": "execute_result",
     "data": {
      "text/plain": [
       "qiskit.aqua.operators.list_ops.summed_op.SummedOp"
      ]
     },
     "metadata": {},
     "execution_count": 65
    }
   ],
   "source": [
    "type(H)"
   ]
  },
  {
   "cell_type": "code",
   "execution_count": 66,
   "metadata": {},
   "outputs": [
    {
     "output_type": "execute_result",
     "data": {
      "text/plain": [
       "auliOp(Pauli(z=[True], x=[True]), coeff=0.5j)], coeff=1.0, abelian=False), PauliOp(Pauli(z=[False], x=[False]), coeff=1.0)], coeff=0.7071067811865475, abelian=False), TensoredOp([PauliOp(Pauli(z=[False, False, False, False, False], x=[False, False, False, False, False]), coeff=1.0), SummedOp([PauliOp(Pauli(z=[False], x=[True]), coeff=0.5), PauliOp(Pauli(z=[True], x=[True]), coeff=-0.5j)], coeff=1.0, abelian=False)], coeff=0.7071067811865475, abelian=False)], coeff=-1.0, abelian=False), ComposedOp([TensoredOp([PauliOp(Pauli(z=[False], x=[False]), coeff=1.0), SummedOp([PauliOp(Pauli(z=[False], x=[True]), coeff=0.5), PauliOp(Pauli(z=[True], x=[True]), coeff=-0.5j)], coeff=1.0, abelian=False), PauliOp(Pauli(z=[False], x=[False]), coeff=1.0), PauliOp(Pauli(z=[False], x=[False]), coeff=1.0), PauliOp(Pauli(z=[False], x=[False]), coeff=1.0), PauliOp(Pauli(z=[False], x=[False]), coeff=1.0)], coeff=0.7071067811865475, abelian=False), TensoredOp([PauliOp(Pauli(z=[False, False], x=[False, False]), coeff=1.0), SummedOp([PauliOp(Pauli(z=[False], x=[True]), coeff=0.5), PauliOp(Pauli(z=[True], x=[True]), coeff=-0.5j)], coeff=1.0, abelian=False), PauliOp(Pauli(z=[False], x=[False]), coeff=1.0), PauliOp(Pauli(z=[False], x=[False]), coeff=1.0), PauliOp(Pauli(z=[False], x=[False]), coeff=1.0)], coeff=0.7071067811865475, abelian=False), TensoredOp([PauliOp(Pauli(z=[False, False, False, False], x=[False, False, False, False]), coeff=1.0), SummedOp([PauliOp(Pauli(z=[False], x=[True]), coeff=0.5), PauliOp(Pauli(z=[True], x=[True]), coeff=0.5j)], coeff=1.0, abelian=False), PauliOp(Pauli(z=[False], x=[False]), coeff=1.0)], coeff=0.7071067811865475, abelian=False), TensoredOp([PauliOp(Pauli(z=[False, False, False, False, False], x=[False, False, False, False, False]), coeff=1.0), SummedOp([PauliOp(Pauli(z=[False], x=[True]), coeff=0.5), PauliOp(Pauli(z=[True], x=[True]), coeff=0.5j)], coeff=1.0, abelian=False)], coeff=0.7071067811865475, abelian=False)], coeff=-1.0, abelian=False), ComposedOp([TensoredOp([PauliOp(Pauli(z=[False], x=[False]), coeff=1.0), SummedOp([PauliOp(Pauli(z=[False], x=[True]), coeff=0.5), PauliOp(Pauli(z=[True], x=[True]), coeff=-0.5j)], coeff=1.0, abelian=False), PauliOp(Pauli(z=[False], x=[False]), coeff=1.0), PauliOp(Pauli(z=[False], x=[False]), coeff=1.0), PauliOp(Pauli(z=[False], x=[False]), coeff=1.0), PauliOp(Pauli(z=[False], x=[False]), coeff=1.0)], coeff=0.7071067811865475, abelian=False), TensoredOp([PauliOp(Pauli(z=[False, False], x=[False, False]), coeff=1.0), SummedOp([PauliOp(Pauli(z=[False], x=[True]), coeff=0.5), PauliOp(Pauli(z=[True], x=[True]), coeff=0.5j)], coeff=1.0, abelian=False), PauliOp(Pauli(z=[False], x=[False]), coeff=1.0), PauliOp(Pauli(z=[False], x=[False]), coeff=1.0), PauliOp(Pauli(z=[False], x=[False]), coeff=1.0)], coeff=0.7071067811865475, abelian=False), TensoredOp([PauliOp(Pauli(z=[False, False, False, False], x=[False, False, False, False]), coeff=1.0), SummedOp([PauliOp(Pauli(z=[False], x=[True]), coeff=0.5), PauliOp(Pauli(z=[True], x=[True]), coeff=-0.5j)], coeff=1.0, abelian=False), PauliOp(Pauli(z=[False], x=[False]), coeff=1.0)], coeff=0.7071067811865475, abelian=False), TensoredOp([PauliOp(Pauli(z=[False, False, False, False, False], x=[False, False, False, False, False]), coeff=1.0), SummedOp([PauliOp(Pauli(z=[False], x=[True]), coeff=0.5), PauliOp(Pauli(z=[True], x=[True]), coeff=-0.5j)], coeff=1.0, abelian=False)], coeff=0.7071067811865475, abelian=False)], coeff=-1.0, abelian=False), ComposedOp([TensoredOp([PauliOp(Pauli(z=[False], x=[False]), coeff=1.0), SummedOp([PauliOp(Pauli(z=[False], x=[True]), coeff=0.5), PauliOp(Pauli(z=[True], x=[True]), coeff=-0.5j)], coeff=1.0, abelian=False), PauliOp(Pauli(z=[False], x=[False]), coeff=1.0), PauliOp(Pauli(z=[False], x=[False]), coeff=1.0), PauliOp(Pauli(z=[False], x=[False]), coeff=1.0), PauliOp(Pauli(z=[False], x=[False]), coeff=1.0)], coeff=0.7071067811865475, abelian=False), TensoredOp([PauliOp(Pauli(z=[False, False], x=[False, False]), coeff=1.0), SummedOp([PauliOp(Pauli(z=[False], x=[True]), coeff=0.5), PauliOp(Pauli(z=[True], x=[True]), coeff=0.5j)], coeff=1.0, abelian=False), PauliOp(Pauli(z=[False], x=[False]), coeff=1.0), PauliOp(Pauli(z=[False], x=[False]), coeff=1.0), PauliOp(Pauli(z=[False], x=[False]), coeff=1.0)], coeff=0.7071067811865475, abelian=False), TensoredOp([PauliOp(Pauli(z=[False, False, False, False], x=[False, False, False, False]), coeff=1.0), SummedOp([PauliOp(Pauli(z=[False], x=[True]), coeff=0.5), PauliOp(Pauli(z=[True], x=[True]), coeff=-0.5j)], coeff=1.0, abelian=False), PauliOp(Pauli(z=[False], x=[False]), coeff=1.0)], coeff=0.7071067811865475, abelian=False), TensoredOp([PauliOp(Pauli(z=[False, False, False, False, False], x=[False, False, False, False, False]), coeff=1.0), SummedOp([PauliOp(Pauli(z=[False], x=[True]), coeff=0.5), PauliOp(Pauli(z=[True], x=[True]), coeff=0.5j)], coeff=1.0, abelian=False)], coeff=0.7071067811865475, abelian=False)], coeff=-1.0, abelian=False), ComposedOp([TensoredOp([PauliOp(Pauli(z=[False], x=[False]), coeff=1.0), SummedOp([PauliOp(Pauli(z=[False], x=[True]), coeff=0.5), PauliOp(Pauli(z=[True], x=[True]), coeff=-0.5j)], coeff=1.0, abelian=False), PauliOp(Pauli(z=[False], x=[False]), coeff=1.0), PauliOp(Pauli(z=[False], x=[False]), coeff=1.0), PauliOp(Pauli(z=[False], x=[False]), coeff=1.0), PauliOp(Pauli(z=[False], x=[False]), coeff=1.0)], coeff=0.7071067811865475, abelian=False), TensoredOp([PauliOp(Pauli(z=[False, False], x=[False, False]), coeff=1.0), SummedOp([PauliOp(Pauli(z=[False], x=[True]), coeff=0.5), PauliOp(Pauli(z=[True], x=[True]), coeff=0.5j)], coeff=1.0, abelian=False), PauliOp(Pauli(z=[False], x=[False]), coeff=1.0), PauliOp(Pauli(z=[False], x=[False]), coeff=1.0), PauliOp(Pauli(z=[False], x=[False]), coeff=1.0)], coeff=0.7071067811865475, abelian=False), TensoredOp([PauliOp(Pauli(z=[False, False, False, False], x=[False, False, False, False]), coeff=1.0), SummedOp([PauliOp(Pauli(z=[False], x=[True]), coeff=0.5), PauliOp(Pauli(z=[True], x=[True]), coeff=0.5j)], coeff=1.0, abelian=False), PauliOp(Pauli(z=[False], x=[False]), coeff=1.0)], coeff=0.7071067811865475, abelian=False), TensoredOp([PauliOp(Pauli(z=[False, False, False, False, False], x=[False, False, False, False, False]), coeff=1.0), SummedOp([PauliOp(Pauli(z=[False], x=[True]), coeff=0.5), PauliOp(Pauli(z=[True], x=[True]), coeff=-0.5j)], coeff=1.0, abelian=False)], coeff=0.7071067811865475, abelian=False)], coeff=-1.0, abelian=False), ComposedOp([TensoredOp([PauliOp(Pauli(z=[False], x=[False]), coeff=1.0), SummedOp([PauliOp(Pauli(z=[False], x=[True]), coeff=0.5), PauliOp(Pauli(z=[True], x=[True]), coeff=-0.5j)], coeff=1.0, abelian=False), PauliOp(Pauli(z=[False], x=[False]), coeff=1.0), PauliOp(Pauli(z=[False], x=[False]), coeff=1.0), PauliOp(Pauli(z=[False], x=[False]), coeff=1.0), PauliOp(Pauli(z=[False], x=[False]), coeff=1.0)], coeff=0.7071067811865475, abelian=False), TensoredOp([PauliOp(Pauli(z=[False, False], x=[False, False]), coeff=1.0), SummedOp([PauliOp(Pauli(z=[False], x=[True]), coeff=0.5), PauliOp(Pauli(z=[True], x=[True]), coeff=0.5j)], coeff=1.0, abelian=False), PauliOp(Pauli(z=[False], x=[False]), coeff=1.0), PauliOp(Pauli(z=[False], x=[False]), coeff=1.0), PauliOp(Pauli(z=[False], x=[False]), coeff=1.0)], coeff=0.7071067811865475, abelian=False), TensoredOp([PauliOp(Pauli(z=[False, False, False, False], x=[False, False, False, False]), coeff=1.0), SummedOp([PauliOp(Pauli(z=[False], x=[True]), coeff=0.5), PauliOp(Pauli(z=[True], x=[True]), coeff=0.5j)], coeff=1.0, abelian=False), PauliOp(Pauli(z=[False], x=[False]), coeff=1.0)], coeff=0.7071067811865475, abelian=False), TensoredOp([PauliOp(Pauli(z=[False, False, False, False, False], x=[False, False, False, False, False]), coeff=1.0), SummedOp([PauliOp(Pauli(z=[False], x=[True]), coeff=0.5), PauliOp(Pauli(z=[True], x=[True]), coeff=0.5j)], coeff=1.0, abelian=False)], coeff=0.7071067811865475, abelian=False)], coeff=-1.0, abelian=False), ComposedOp([TensoredOp([PauliOp(Pauli(z=[False], x=[False]), coeff=1.0), SummedOp([PauliOp(Pauli(z=[False], x=[True]), coeff=0.5), PauliOp(Pauli(z=[True], x=[True]), coeff=0.5j)], coeff=1.0, abelian=False), PauliOp(Pauli(z=[False], x=[False]), coeff=1.0), PauliOp(Pauli(z=[False], x=[False]), coeff=1.0), PauliOp(Pauli(z=[False], x=[False]), coeff=1.0), PauliOp(Pauli(z=[False], x=[False]), coeff=1.0)], coeff=0.7071067811865475, abelian=False), TensoredOp([PauliOp(Pauli(z=[False, False], x=[False, False]), coeff=1.0), SummedOp([PauliOp(Pauli(z=[False], x=[True]), coeff=0.5), PauliOp(Pauli(z=[True], x=[True]), coeff=-0.5j)], coeff=1.0, abelian=False), PauliOp(Pauli(z=[False], x=[False]), coeff=1.0), PauliOp(Pauli(z=[False], x=[False]), coeff=1.0), PauliOp(Pauli(z=[False], x=[False]), coeff=1.0)], coeff=0.7071067811865475, abelian=False), TensoredOp([PauliOp(Pauli(z=[False, False, False, False], x=[False, False, False, False]), coeff=1.0), SummedOp([PauliOp(Pauli(z=[False], x=[True]), coeff=0.5), PauliOp(Pauli(z=[True], x=[True]), coeff=-0.5j)], coeff=1.0, abelian=False), PauliOp(Pauli(z=[False], x=[False]), coeff=1.0)], coeff=0.7071067811865475, abelian=False), TensoredOp([PauliOp(Pauli(z=[False, False, False, False, False], x=[False, False, False, False, False]), coeff=1.0), SummedOp([PauliOp(Pauli(z=[False], x=[True]), coeff=0.5), PauliOp(Pauli(z=[True], x=[True]), coeff=-0.5j)], coeff=1.0, abelian=False)], coeff=0.7071067811865475, abelian=False)], coeff=-1.0, abelian=False), ComposedOp([TensoredOp([PauliOp(Pauli(z=[False], x=[False]), coeff=1.0), SummedOp([PauliOp(Pauli(z=[False], x=[True]), coeff=0.5), PauliOp(Pauli(z=[True], x=[True]), coeff=0.5j)], coeff=1.0, abelian=False), PauliOp(Pauli(z=[False], x=[False]), coeff=1.0), PauliOp(Pauli(z=[False], x=[False]), coeff=1.0), PauliOp(Pauli(z=[False], x=[False]), coeff=1.0), PauliOp(Pauli(z=[False], x=[False]), coeff=1.0)], coeff=0.7071067811865475, abelian=False), TensoredOp([PauliOp(Pauli(z=[False, False], x=[False, False]), coeff=1.0), SummedOp([PauliOp(Pauli(z=[False], x=[True]), coeff=0.5), PauliOp(Pauli(z=[True], x=[True]), coeff=-0.5j)], coeff=1.0, abelian=False), PauliOp(Pauli(z=[False], x=[False]), coeff=1.0), PauliOp(Pauli(z=[False], x=[False]), coeff=1.0), PauliOp(Pauli(z=[False], x=[False]), coeff=1.0)], coeff=0.7071067811865475, abelian=False), TensoredOp([PauliOp(Pauli(z=[False, False, False, False], x=[False, False, False, False]), coeff=1.0), SummedOp([PauliOp(Pauli(z=[False], x=[True]), coeff=0.5), PauliOp(Pauli(z=[True], x=[True]), coeff=-0.5j)], coeff=1.0, abelian=False), PauliOp(Pauli(z=[False], x=[False]), coeff=1.0)], coeff=0.7071067811865475, abelian=False), TensoredOp([PauliOp(Pauli(z=[False, False, False, False, False], x=[False, False, False, False, False]), coeff=1.0), SummedOp([PauliOp(Pauli(z=[False], x=[True]), coeff=0.5), PauliOp(Pauli(z=[True], x=[True]), coeff=0.5j)], coeff=1.0, abelian=False)], coeff=0.7071067811865475, abelian=False)], coeff=-1.0, abelian=False), ComposedOp([TensoredOp([PauliOp(Pauli(z=[False], x=[False]), coeff=1.0), SummedOp([PauliOp(Pauli(z=[False], x=[True]), coeff=0.5), PauliOp(Pauli(z=[True], x=[True]), coeff=0.5j)], coeff=1.0, abelian=False), PauliOp(Pauli(z=[False], x=[False]), coeff=1.0), PauliOp(Pauli(z=[False], x=[False]), coeff=1.0), PauliOp(Pauli(z=[False], x=[False]), coeff=1.0), PauliOp(Pauli(z=[False], x=[False]), coeff=1.0)], coeff=0.7071067811865475, abelian=False), TensoredOp([PauliOp(Pauli(z=[False, False], x=[False, False]), coeff=1.0), SummedOp([PauliOp(Pauli(z=[False], x=[True]), coeff=0.5), PauliOp(Pauli(z=[True], x=[True]), coeff=-0.5j)], coeff=1.0, abelian=False), PauliOp(Pauli(z=[False], x=[False]), coeff=1.0), PauliOp(Pauli(z=[False], x=[False]), coeff=1.0), PauliOp(Pauli(z=[False], x=[False]), coeff=1.0)], coeff=0.7071067811865475, abelian=False), TensoredOp([PauliOp(Pauli(z=[False, False, False, False], x=[False, False, False, False]), coeff=1.0), SummedOp([PauliOp(Pauli(z=[False], x=[True]), coeff=0.5), PauliOp(Pauli(z=[True], x=[True]), coeff=0.5j)], coeff=1.0, abelian=False), PauliOp(Pauli(z=[False], x=[False]), coeff=1.0)], coeff=0.7071067811865475, abelian=False), TensoredOp([PauliOp(Pauli(z=[False, False, False, False, False], x=[False, False, False, False, False]), coeff=1.0), SummedOp([PauliOp(Pauli(z=[False], x=[True]), coeff=0.5), PauliOp(Pauli(z=[True], x=[True]), coeff=-0.5j)], coeff=1.0, abelian=False)], coeff=0.7071067811865475, abelian=False)], coeff=-1.0, abelian=False), ComposedOp([TensoredOp([PauliOp(Pauli(z=[False], x=[False]), coeff=1.0), SummedOp([PauliOp(Pauli(z=[False], x=[True]), coeff=0.5), PauliOp(Pauli(z=[True], x=[True]), coeff=0.5j)], coeff=1.0, abelian=False), PauliOp(Pauli(z=[False], x=[False]), coeff=1.0), PauliOp(Pauli(z=[False], x=[False]), coeff=1.0), PauliOp(Pauli(z=[False], x=[False]), coeff=1.0), PauliOp(Pauli(z=[False], x=[False]), coeff=1.0)], coeff=0.7071067811865475, abelian=False), TensoredOp([PauliOp(Pauli(z=[False, False], x=[False, False]), coeff=1.0), SummedOp([PauliOp(Pauli(z=[False], x=[True]), coeff=0.5), PauliOp(Pauli(z=[True], x=[True]), coeff=-0.5j)], coeff=1.0, abelian=False), PauliOp(Pauli(z=[False], x=[False]), coeff=1.0), PauliOp(Pauli(z=[False], x=[False]), coeff=1.0), PauliOp(Pauli(z=[False], x=[False]), coeff=1.0)], coeff=0.7071067811865475, abelian=False), TensoredOp([PauliOp(Pauli(z=[False, False, False, False], x=[False, False, False, False]), coeff=1.0), SummedOp([PauliOp(Pauli(z=[False], x=[True]), coeff=0.5), PauliOp(Pauli(z=[True], x=[True]), coeff=0.5j)], coeff=1.0, abelian=False), PauliOp(Pauli(z=[False], x=[False]), coeff=1.0)], coeff=0.7071067811865475, abelian=False), TensoredOp([PauliOp(Pauli(z=[False, False, False, False, False], x=[False, False, False, False, False]), coeff=1.0), SummedOp([PauliOp(Pauli(z=[False], x=[True]), coeff=0.5), PauliOp(Pauli(z=[True], x=[True]), coeff=0.5j)], coeff=1.0, abelian=False)], coeff=0.7071067811865475, abelian=False)], coeff=-1.0, abelian=False), ComposedOp([TensoredOp([PauliOp(Pauli(z=[False], x=[False]), coeff=1.0), SummedOp([PauliOp(Pauli(z=[False], x=[True]), coeff=0.5), PauliOp(Pauli(z=[True], x=[True]), coeff=0.5j)], coeff=1.0, abelian=False), PauliOp(Pauli(z=[False], x=[False]), coeff=1.0), PauliOp(Pauli(z=[False], x=[False]), coeff=1.0), PauliOp(Pauli(z=[False], x=[False]), coeff=1.0), PauliOp(Pauli(z=[False], x=[False]), coeff=1.0)], coeff=0.7071067811865475, abelian=False), TensoredOp([PauliOp(Pauli(z=[False, False], x=[False, False]), coeff=1.0), SummedOp([PauliOp(Pauli(z=[False], x=[True]), coeff=0.5), PauliOp(Pauli(z=[True], x=[True]), coeff=0.5j)], coeff=1.0, abelian=False), PauliOp(Pauli(z=[False], x=[False]), coeff=1.0), PauliOp(Pauli(z=[False], x=[False]), coeff=1.0), PauliOp(Pauli(z=[False], x=[False]), coeff=1.0)], coeff=0.7071067811865475, abelian=False), TensoredOp([PauliOp(Pauli(z=[False, False, False, False], x=[False, False, False, False]), coeff=1.0), SummedOp([PauliOp(Pauli(z=[False], x=[True]), coeff=0.5), PauliOp(Pauli(z=[True], x=[True]), coeff=-0.5j)], coeff=1.0, abelian=False), PauliOp(Pauli(z=[False], x=[False]), coeff=1.0)], coeff=0.7071067811865475, abelian=False), TensoredOp([PauliOp(Pauli(z=[False, False, False, False, False], x=[False, False, False, False, False]), coeff=1.0), SummedOp([PauliOp(Pauli(z=[False], x=[True]), coeff=0.5), PauliOp(Pauli(z=[True], x=[True]), coeff=-0.5j)], coeff=1.0, abelian=False)], coeff=0.7071067811865475, abelian=False)], coeff=-1.0, abelian=False), ComposedOp([TensoredOp([PauliOp(Pauli(z=[False], x=[False]), coeff=1.0), SummedOp([PauliOp(Pauli(z=[False], x=[True]), coeff=0.5), PauliOp(Pauli(z=[True], x=[True]), coeff=0.5j)], coeff=1.0, abelian=False), PauliOp(Pauli(z=[False], x=[False]), coeff=1.0), PauliOp(Pauli(z=[False], x=[False]), coeff=1.0), PauliOp(Pauli(z=[False], x=[False]), coeff=1.0), PauliOp(Pauli(z=[False], x=[False]), coeff=1.0)], coeff=0.7071067811865475, abelian=False), TensoredOp([PauliOp(Pauli(z=[False, False], x=[False, False]), coeff=1.0), SummedOp([PauliOp(Pauli(z=[False], x=[True]), coeff=0.5), PauliOp(Pauli(z=[True], x=[True]), coeff=0.5j)], coeff=1.0, abelian=False), PauliOp(Pauli(z=[False], x=[False]), coeff=1.0), PauliOp(Pauli(z=[False], x=[False]), coeff=1.0), PauliOp(Pauli(z=[False], x=[False]), coeff=1.0)], coeff=0.7071067811865475, abelian=False), TensoredOp([PauliOp(Pauli(z=[False, False, False, False], x=[False, False, False, False]), coeff=1.0), SummedOp([PauliOp(Pauli(z=[False], x=[True]), coeff=0.5), PauliOp(Pauli(z=[True], x=[True]), coeff=-0.5j)], coeff=1.0, abelian=False), PauliOp(Pauli(z=[False], x=[False]), coeff=1.0)], coeff=0.7071067811865475, abelian=False), TensoredOp([PauliOp(Pauli(z=[False, False, False, False, False], x=[False, False, False, False, False]), coeff=1.0), SummedOp([PauliOp(Pauli(z=[False], x=[True]), coeff=0.5), PauliOp(Pauli(z=[True], x=[True]), coeff=0.5j)], coeff=1.0, abelian=False)], coeff=0.7071067811865475, abelian=False)], coeff=-1.0, abelian=False), ComposedOp([TensoredOp([PauliOp(Pauli(z=[False], x=[False]), coeff=1.0), SummedOp([PauliOp(Pauli(z=[False], x=[True]), coeff=0.5), PauliOp(Pauli(z=[True], x=[True]), coeff=0.5j)], coeff=1.0, abelian=False), PauliOp(Pauli(z=[False], x=[False]), coeff=1.0), PauliOp(Pauli(z=[False], x=[False]), coeff=1.0), PauliOp(Pauli(z=[False], x=[False]), coeff=1.0), PauliOp(Pauli(z=[False], x=[False]), coeff=1.0)], coeff=0.7071067811865475, abelian=False), TensoredOp([PauliOp(Pauli(z=[False, False], x=[False, False]), coeff=1.0), SummedOp([PauliOp(Pauli(z=[False], x=[True]), coeff=0.5), PauliOp(Pauli(z=[True], x=[True]), coeff=0.5j)], coeff=1.0, abelian=False), PauliOp(Pauli(z=[False], x=[False]), coeff=1.0), PauliOp(Pauli(z=[False], x=[False]), coeff=1.0), PauliOp(Pauli(z=[False], x=[False]), coeff=1.0)], coeff=0.7071067811865475, abelian=False), TensoredOp([PauliOp(Pauli(z=[False, False, False, False], x=[False, False, False, False]), coeff=1.0), SummedOp([PauliOp(Pauli(z=[False], x=[True]), coeff=0.5), PauliOp(Pauli(z=[True], x=[True]), coeff=0.5j)], coeff=1.0, abelian=False), PauliOp(Pauli(z=[False], x=[False]), coeff=1.0)], coeff=0.7071067811865475, abelian=False), TensoredOp([PauliOp(Pauli(z=[False, False, False, False, False], x=[False, False, False, False, False]), coeff=1.0), SummedOp([PauliOp(Pauli(z=[False], x=[True]), coeff=0.5), PauliOp(Pauli(z=[True], x=[True]), coeff=-0.5j)], coeff=1.0, abelian=False)], coeff=0.7071067811865475, abelian=False)], coeff=-1.0, abelian=False), ComposedOp([TensoredOp([PauliOp(Pauli(z=[False], x=[False]), coeff=1.0), SummedOp([PauliOp(Pauli(z=[False], x=[True]), coeff=0.5), PauliOp(Pauli(z=[True], x=[True]), coeff=0.5j)], coeff=1.0, abelian=False), PauliOp(Pauli(z=[False], x=[False]), coeff=1.0), PauliOp(Pauli(z=[False], x=[False]), coeff=1.0), PauliOp(Pauli(z=[False], x=[False]), coeff=1.0), PauliOp(Pauli(z=[False], x=[False]), coeff=1.0)], coeff=0.7071067811865475, abelian=False), TensoredOp([PauliOp(Pauli(z=[False, False], x=[False, False]), coeff=1.0), SummedOp([PauliOp(Pauli(z=[False], x=[True]), coeff=0.5), PauliOp(Pauli(z=[True], x=[True]), coeff=0.5j)], coeff=1.0, abelian=False), PauliOp(Pauli(z=[False], x=[False]), coeff=1.0), PauliOp(Pauli(z=[False], x=[False]), coeff=1.0), PauliOp(Pauli(z=[False], x=[False]), coeff=1.0)], coeff=0.7071067811865475, abelian=False), TensoredOp([PauliOp(Pauli(z=[False, False, False, False], x=[False, False, False, False]), coeff=1.0), SummedOp([PauliOp(Pauli(z=[False], x=[True]), coeff=0.5), PauliOp(Pauli(z=[True], x=[True]), coeff=0.5j)], coeff=1.0, abelian=False), PauliOp(Pauli(z=[False], x=[False]), coeff=1.0)], coeff=0.7071067811865475, abelian=False), TensoredOp([PauliOp(Pauli(z=[False, False, False, False, False], x=[False, False, False, False, False]), coeff=1.0), SummedOp([PauliOp(Pauli(z=[False], x=[True]), coeff=0.5), PauliOp(Pauli(z=[True], x=[True]), coeff=0.5j)], coeff=1.0, abelian=False)], coeff=0.7071067811865475, abelian=False)], coeff=-1.0, abelian=False)], coeff=1.0, abelian=False)"
      ]
     },
     "metadata": {},
     "execution_count": 66
    }
   ],
   "source": [
    "H.to_pauli_op()"
   ]
  },
  {
   "cell_type": "code",
   "execution_count": 67,
   "metadata": {},
   "outputs": [
    {
     "output_type": "execute_result",
     "data": {
      "text/plain": [
       "6"
      ]
     },
     "metadata": {},
     "execution_count": 67
    }
   ],
   "source": [
    "H.num_qubits"
   ]
  },
  {
   "source": [
    "# Diagonalize the Hamiltonian to find the groundstate"
   ],
   "cell_type": "markdown",
   "metadata": {}
  },
  {
   "cell_type": "code",
   "execution_count": 68,
   "metadata": {},
   "outputs": [],
   "source": [
    "from qiskit.aqua.algorithms import NumPyMinimumEigensolver"
   ]
  },
  {
   "cell_type": "code",
   "execution_count": 69,
   "metadata": {},
   "outputs": [],
   "source": [
    "npme = NumPyMinimumEigensolver()\n",
    "#result = npme.compute_minimum_eigenvalue(operator=H_osc)\n",
    "result = npme.compute_minimum_eigenvalue(operator=H)"
   ]
  },
  {
   "cell_type": "code",
   "execution_count": 70,
   "metadata": {},
   "outputs": [
    {
     "output_type": "stream",
     "name": "stdout",
     "text": [
      "Ground state energy value: 3.00000\n"
     ]
    }
   ],
   "source": [
    "ref_value = result.eigenvalue.real\n",
    "print(f'Ground state energy value: {ref_value:.5f}')"
   ]
  },
  {
   "source": [
    "I can not get anything different from 3.000 even if I have the interactions turned on..."
   ],
   "cell_type": "markdown",
   "metadata": {}
  },
  {
   "source": [
    "## Construct the Hamiltonian matrix as usual\n",
    "This only works for cutoffs smaller than 5 due to memory requirements in `MatrixOp`."
   ],
   "cell_type": "markdown",
   "metadata": {}
  },
  {
   "cell_type": "code",
   "execution_count": 75,
   "metadata": {},
   "outputs": [],
   "source": [
    "am = MatrixOp(a)"
   ]
  },
  {
   "cell_type": "code",
   "execution_count": 78,
   "metadata": {},
   "outputs": [
    {
     "output_type": "execute_result",
     "data": {
      "text/plain": [
       "array([[0.+0.j, 1.+0.j],\n",
       "       [0.+0.j, 0.+0.j]])"
      ]
     },
     "metadata": {},
     "execution_count": 78
    }
   ],
   "source": [
    "am.to_matrix()"
   ]
  },
  {
   "cell_type": "code",
   "execution_count": null,
   "metadata": {},
   "outputs": [],
   "source": []
  }
 ]
}