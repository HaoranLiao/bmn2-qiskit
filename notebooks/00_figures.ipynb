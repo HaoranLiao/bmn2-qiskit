{
    "cells": [
        {
            "cell_type": "markdown",
            "source": [
                "# Convergence plot. Minimal BMN"
            ],
            "metadata": {}
        },
        {
            "cell_type": "code",
            "execution_count": 1,
            "source": [
                "import pandas as pd\n",
                "import numpy as np\n",
                "import matplotlib.pyplot as plt\n",
                "plt.rc(\"text\", usetex=True)\n",
                "plt.style.use(\"../figures/paper.mplstyle\")"
            ],
            "outputs": [],
            "metadata": {}
        },
        {
            "cell_type": "markdown",
            "source": [
                "## Read data from disk"
            ],
            "metadata": {}
        },
        {
            "cell_type": "code",
            "execution_count": 37,
            "source": [
                "# parameters\n",
                "opt_label = [\"COBYLA\",\"L-BFGS-B\",\"SLSQP\",\"NELDER-MEAD\"]\n",
                "var_label = 'ry-rz'\n",
                "coupling = '02'\n",
                "depth = '3'\n",
                "nrep = '10'\n",
                "maxiter = '10000'"
            ],
            "outputs": [],
            "metadata": {}
        },
        {
            "cell_type": "code",
            "execution_count": 38,
            "source": [
                "def read_data(optimizer):\n",
                "    filename = f\"../data/miniBMN_l{coupling}_convergence_{optimizer}_{var_label}_depth{depth}_reps{nrep}_max{maxiter}.h5\"\n",
                "    return pd.read_hdf(filename,\"vqe\")"
            ],
            "outputs": [],
            "metadata": {}
        },
        {
            "cell_type": "code",
            "execution_count": 39,
            "source": [
                "df = read_data(opt_label[0])"
            ],
            "outputs": [],
            "metadata": {}
        },
        {
            "cell_type": "code",
            "execution_count": 40,
            "source": [
                "df.head()"
            ],
            "outputs": [
                {
                    "output_type": "execute_result",
                    "data": {
                        "text/plain": [
                            "     counts    energy\n",
                            "rep                  \n",
                            "0         1  3.565884\n",
                            "0         2  4.808009\n",
                            "0         3  4.211399\n",
                            "0         4  3.881846\n",
                            "0         5  3.836754"
                        ],
                        "text/html": [
                            "<div>\n",
                            "<style scoped>\n",
                            "    .dataframe tbody tr th:only-of-type {\n",
                            "        vertical-align: middle;\n",
                            "    }\n",
                            "\n",
                            "    .dataframe tbody tr th {\n",
                            "        vertical-align: top;\n",
                            "    }\n",
                            "\n",
                            "    .dataframe thead th {\n",
                            "        text-align: right;\n",
                            "    }\n",
                            "</style>\n",
                            "<table border=\"1\" class=\"dataframe\">\n",
                            "  <thead>\n",
                            "    <tr style=\"text-align: right;\">\n",
                            "      <th></th>\n",
                            "      <th>counts</th>\n",
                            "      <th>energy</th>\n",
                            "    </tr>\n",
                            "    <tr>\n",
                            "      <th>rep</th>\n",
                            "      <th></th>\n",
                            "      <th></th>\n",
                            "    </tr>\n",
                            "  </thead>\n",
                            "  <tbody>\n",
                            "    <tr>\n",
                            "      <th>0</th>\n",
                            "      <td>1</td>\n",
                            "      <td>3.565884</td>\n",
                            "    </tr>\n",
                            "    <tr>\n",
                            "      <th>0</th>\n",
                            "      <td>2</td>\n",
                            "      <td>4.808009</td>\n",
                            "    </tr>\n",
                            "    <tr>\n",
                            "      <th>0</th>\n",
                            "      <td>3</td>\n",
                            "      <td>4.211399</td>\n",
                            "    </tr>\n",
                            "    <tr>\n",
                            "      <th>0</th>\n",
                            "      <td>4</td>\n",
                            "      <td>3.881846</td>\n",
                            "    </tr>\n",
                            "    <tr>\n",
                            "      <th>0</th>\n",
                            "      <td>5</td>\n",
                            "      <td>3.836754</td>\n",
                            "    </tr>\n",
                            "  </tbody>\n",
                            "</table>\n",
                            "</div>"
                        ]
                    },
                    "metadata": {},
                    "execution_count": 40
                }
            ],
            "metadata": {}
        },
        {
            "cell_type": "code",
            "execution_count": 41,
            "source": [
                "best_values = df[\"energy\"].groupby(\"rep\").apply(min)"
            ],
            "outputs": [],
            "metadata": {}
        },
        {
            "cell_type": "code",
            "execution_count": 42,
            "source": [
                "best_values.sort_values()"
            ],
            "outputs": [
                {
                    "output_type": "execute_result",
                    "data": {
                        "text/plain": [
                            "rep\n",
                            "2    0.103518\n",
                            "3    0.125041\n",
                            "1    0.150000\n",
                            "0    0.150000\n",
                            "8    0.150000\n",
                            "9    0.150001\n",
                            "6    0.150011\n",
                            "7    0.150021\n",
                            "5    0.150028\n",
                            "4    0.150039\n",
                            "Name: energy, dtype: float64"
                        ]
                    },
                    "metadata": {},
                    "execution_count": 42
                }
            ],
            "metadata": {}
        },
        {
            "cell_type": "markdown",
            "source": [
                "Collect multiple data in one frame"
            ],
            "metadata": {}
        },
        {
            "cell_type": "code",
            "execution_count": 43,
            "source": [
                "frames = [read_data(o) for o in opt_label]\n",
                "result = pd.concat(frames, keys=opt_label,names=['Optimizer'])"
            ],
            "outputs": [],
            "metadata": {}
        },
        {
            "cell_type": "code",
            "execution_count": 44,
            "source": [
                "result.head()"
            ],
            "outputs": [
                {
                    "output_type": "execute_result",
                    "data": {
                        "text/plain": [
                            "               counts    energy\n",
                            "Optimizer rep                  \n",
                            "COBYLA    0         1  3.565884\n",
                            "          0         2  4.808009\n",
                            "          0         3  4.211399\n",
                            "          0         4  3.881846\n",
                            "          0         5  3.836754"
                        ],
                        "text/html": [
                            "<div>\n",
                            "<style scoped>\n",
                            "    .dataframe tbody tr th:only-of-type {\n",
                            "        vertical-align: middle;\n",
                            "    }\n",
                            "\n",
                            "    .dataframe tbody tr th {\n",
                            "        vertical-align: top;\n",
                            "    }\n",
                            "\n",
                            "    .dataframe thead th {\n",
                            "        text-align: right;\n",
                            "    }\n",
                            "</style>\n",
                            "<table border=\"1\" class=\"dataframe\">\n",
                            "  <thead>\n",
                            "    <tr style=\"text-align: right;\">\n",
                            "      <th></th>\n",
                            "      <th></th>\n",
                            "      <th>counts</th>\n",
                            "      <th>energy</th>\n",
                            "    </tr>\n",
                            "    <tr>\n",
                            "      <th>Optimizer</th>\n",
                            "      <th>rep</th>\n",
                            "      <th></th>\n",
                            "      <th></th>\n",
                            "    </tr>\n",
                            "  </thead>\n",
                            "  <tbody>\n",
                            "    <tr>\n",
                            "      <th rowspan=\"5\" valign=\"top\">COBYLA</th>\n",
                            "      <th>0</th>\n",
                            "      <td>1</td>\n",
                            "      <td>3.565884</td>\n",
                            "    </tr>\n",
                            "    <tr>\n",
                            "      <th>0</th>\n",
                            "      <td>2</td>\n",
                            "      <td>4.808009</td>\n",
                            "    </tr>\n",
                            "    <tr>\n",
                            "      <th>0</th>\n",
                            "      <td>3</td>\n",
                            "      <td>4.211399</td>\n",
                            "    </tr>\n",
                            "    <tr>\n",
                            "      <th>0</th>\n",
                            "      <td>4</td>\n",
                            "      <td>3.881846</td>\n",
                            "    </tr>\n",
                            "    <tr>\n",
                            "      <th>0</th>\n",
                            "      <td>5</td>\n",
                            "      <td>3.836754</td>\n",
                            "    </tr>\n",
                            "  </tbody>\n",
                            "</table>\n",
                            "</div>"
                        ]
                    },
                    "metadata": {},
                    "execution_count": 44
                }
            ],
            "metadata": {}
        },
        {
            "cell_type": "markdown",
            "source": [
                "## Get stats"
            ],
            "metadata": {}
        },
        {
            "cell_type": "code",
            "execution_count": 45,
            "source": [
                "result.groupby('Optimizer').apply(min).energy"
            ],
            "outputs": [
                {
                    "output_type": "execute_result",
                    "data": {
                        "text/plain": [
                            "Optimizer\n",
                            "COBYLA         0.103518\n",
                            "L-BFGS-B       0.150001\n",
                            "SLSQP          0.150000\n",
                            "NELDER-MEAD    2.910476\n",
                            "Name: energy, dtype: float64"
                        ]
                    },
                    "metadata": {},
                    "execution_count": 45
                }
            ],
            "metadata": {}
        },
        {
            "cell_type": "code",
            "execution_count": 46,
            "source": [
                "result.loc[\"COBYLA\"].groupby('rep').apply(min).energy"
            ],
            "outputs": [
                {
                    "output_type": "execute_result",
                    "data": {
                        "text/plain": [
                            "rep\n",
                            "0    0.150000\n",
                            "1    0.150000\n",
                            "2    0.103518\n",
                            "3    0.125041\n",
                            "4    0.150039\n",
                            "5    0.150028\n",
                            "6    0.150011\n",
                            "7    0.150021\n",
                            "8    0.150000\n",
                            "9    0.150001\n",
                            "Name: energy, dtype: float64"
                        ]
                    },
                    "metadata": {},
                    "execution_count": 46
                }
            ],
            "metadata": {}
        },
        {
            "cell_type": "code",
            "execution_count": 47,
            "source": [
                "for r in opt_label:\n",
                "    print(\"Optimizer:\",r)\n",
                "    print(\"Mean: \",result.loc[r].groupby('rep').apply(min).energy.mean())\n",
                "    print(\"Std: \",result.loc[r].groupby('rep').apply(min).energy.std())\n",
                "    print(\"Min: \",result.loc[r].groupby('rep').apply(min).energy.min())\n",
                "    print(\"Max: \",result.loc[r].groupby('rep').apply(min).energy.max())"
            ],
            "outputs": [
                {
                    "output_type": "stream",
                    "name": "stdout",
                    "text": [
                        "Optimizer: COBYLA\n",
                        "Mean:  0.1428658510031972\n",
                        "Std:  0.015897573267420324\n",
                        "Min:  0.10351767672268163\n",
                        "Max:  0.1500390135796044\n",
                        "Optimizer: L-BFGS-B\n",
                        "Mean:  0.15076084938043288\n",
                        "Std:  0.0009209663873685163\n",
                        "Min:  0.15000113711091315\n",
                        "Max:  0.1525410180061702\n",
                        "Optimizer: SLSQP\n",
                        "Mean:  0.15000058887466305\n",
                        "Std:  6.054313843273407e-07\n",
                        "Min:  0.15000012589340295\n",
                        "Max:  0.1500017432120342\n",
                        "Optimizer: NELDER-MEAD\n",
                        "Mean:  3.3906185277924976\n",
                        "Std:  0.32692690492361587\n",
                        "Min:  2.9104759538029032\n",
                        "Max:  3.882205184688683\n"
                    ]
                }
            ],
            "metadata": {}
        },
        {
            "cell_type": "code",
            "execution_count": 48,
            "source": [
                "gs = dict()\n",
                "for r in opt_label:\n",
                "    gs[r] = result.loc[r].groupby('rep').apply(min).energy\n",
                "gsdf = pd.DataFrame.from_dict(gs, dtype=float)"
            ],
            "outputs": [],
            "metadata": {}
        },
        {
            "cell_type": "code",
            "execution_count": 49,
            "source": [
                "gsdf"
            ],
            "outputs": [
                {
                    "output_type": "execute_result",
                    "data": {
                        "text/plain": [
                            "       COBYLA  L-BFGS-B     SLSQP  NELDER-MEAD\n",
                            "rep                                           \n",
                            "0    0.150000  0.151414  0.150002     2.910476\n",
                            "1    0.150000  0.152541  0.150000     3.653528\n",
                            "2    0.103518  0.151003  0.150000     3.587732\n",
                            "3    0.125041  0.150441  0.150001     3.882205\n",
                            "4    0.150039  0.150001  0.150000     3.195625\n",
                            "5    0.150028  0.150110  0.150000     3.565522\n",
                            "6    0.150011  0.150002  0.150001     3.716195\n",
                            "7    0.150021  0.151932  0.150002     3.136449\n",
                            "8    0.150000  0.150144  0.150000     3.183510\n",
                            "9    0.150001  0.150021  0.150000     3.074943"
                        ],
                        "text/html": [
                            "<div>\n",
                            "<style scoped>\n",
                            "    .dataframe tbody tr th:only-of-type {\n",
                            "        vertical-align: middle;\n",
                            "    }\n",
                            "\n",
                            "    .dataframe tbody tr th {\n",
                            "        vertical-align: top;\n",
                            "    }\n",
                            "\n",
                            "    .dataframe thead th {\n",
                            "        text-align: right;\n",
                            "    }\n",
                            "</style>\n",
                            "<table border=\"1\" class=\"dataframe\">\n",
                            "  <thead>\n",
                            "    <tr style=\"text-align: right;\">\n",
                            "      <th></th>\n",
                            "      <th>COBYLA</th>\n",
                            "      <th>L-BFGS-B</th>\n",
                            "      <th>SLSQP</th>\n",
                            "      <th>NELDER-MEAD</th>\n",
                            "    </tr>\n",
                            "    <tr>\n",
                            "      <th>rep</th>\n",
                            "      <th></th>\n",
                            "      <th></th>\n",
                            "      <th></th>\n",
                            "      <th></th>\n",
                            "    </tr>\n",
                            "  </thead>\n",
                            "  <tbody>\n",
                            "    <tr>\n",
                            "      <th>0</th>\n",
                            "      <td>0.150000</td>\n",
                            "      <td>0.151414</td>\n",
                            "      <td>0.150002</td>\n",
                            "      <td>2.910476</td>\n",
                            "    </tr>\n",
                            "    <tr>\n",
                            "      <th>1</th>\n",
                            "      <td>0.150000</td>\n",
                            "      <td>0.152541</td>\n",
                            "      <td>0.150000</td>\n",
                            "      <td>3.653528</td>\n",
                            "    </tr>\n",
                            "    <tr>\n",
                            "      <th>2</th>\n",
                            "      <td>0.103518</td>\n",
                            "      <td>0.151003</td>\n",
                            "      <td>0.150000</td>\n",
                            "      <td>3.587732</td>\n",
                            "    </tr>\n",
                            "    <tr>\n",
                            "      <th>3</th>\n",
                            "      <td>0.125041</td>\n",
                            "      <td>0.150441</td>\n",
                            "      <td>0.150001</td>\n",
                            "      <td>3.882205</td>\n",
                            "    </tr>\n",
                            "    <tr>\n",
                            "      <th>4</th>\n",
                            "      <td>0.150039</td>\n",
                            "      <td>0.150001</td>\n",
                            "      <td>0.150000</td>\n",
                            "      <td>3.195625</td>\n",
                            "    </tr>\n",
                            "    <tr>\n",
                            "      <th>5</th>\n",
                            "      <td>0.150028</td>\n",
                            "      <td>0.150110</td>\n",
                            "      <td>0.150000</td>\n",
                            "      <td>3.565522</td>\n",
                            "    </tr>\n",
                            "    <tr>\n",
                            "      <th>6</th>\n",
                            "      <td>0.150011</td>\n",
                            "      <td>0.150002</td>\n",
                            "      <td>0.150001</td>\n",
                            "      <td>3.716195</td>\n",
                            "    </tr>\n",
                            "    <tr>\n",
                            "      <th>7</th>\n",
                            "      <td>0.150021</td>\n",
                            "      <td>0.151932</td>\n",
                            "      <td>0.150002</td>\n",
                            "      <td>3.136449</td>\n",
                            "    </tr>\n",
                            "    <tr>\n",
                            "      <th>8</th>\n",
                            "      <td>0.150000</td>\n",
                            "      <td>0.150144</td>\n",
                            "      <td>0.150000</td>\n",
                            "      <td>3.183510</td>\n",
                            "    </tr>\n",
                            "    <tr>\n",
                            "      <th>9</th>\n",
                            "      <td>0.150001</td>\n",
                            "      <td>0.150021</td>\n",
                            "      <td>0.150000</td>\n",
                            "      <td>3.074943</td>\n",
                            "    </tr>\n",
                            "  </tbody>\n",
                            "</table>\n",
                            "</div>"
                        ]
                    },
                    "metadata": {},
                    "execution_count": 49
                }
            ],
            "metadata": {}
        },
        {
            "cell_type": "code",
            "execution_count": 50,
            "source": [
                "gsdf.describe().T[[\"min\",\"max\",\"mean\",\"std\"]]"
            ],
            "outputs": [
                {
                    "output_type": "execute_result",
                    "data": {
                        "text/plain": [
                            "                  min       max      mean           std\n",
                            "COBYLA       0.103518  0.150039  0.142866  1.589757e-02\n",
                            "L-BFGS-B     0.150001  0.152541  0.150761  9.209664e-04\n",
                            "SLSQP        0.150000  0.150002  0.150001  6.054314e-07\n",
                            "NELDER-MEAD  2.910476  3.882205  3.390619  3.269269e-01"
                        ],
                        "text/html": [
                            "<div>\n",
                            "<style scoped>\n",
                            "    .dataframe tbody tr th:only-of-type {\n",
                            "        vertical-align: middle;\n",
                            "    }\n",
                            "\n",
                            "    .dataframe tbody tr th {\n",
                            "        vertical-align: top;\n",
                            "    }\n",
                            "\n",
                            "    .dataframe thead th {\n",
                            "        text-align: right;\n",
                            "    }\n",
                            "</style>\n",
                            "<table border=\"1\" class=\"dataframe\">\n",
                            "  <thead>\n",
                            "    <tr style=\"text-align: right;\">\n",
                            "      <th></th>\n",
                            "      <th>min</th>\n",
                            "      <th>max</th>\n",
                            "      <th>mean</th>\n",
                            "      <th>std</th>\n",
                            "    </tr>\n",
                            "  </thead>\n",
                            "  <tbody>\n",
                            "    <tr>\n",
                            "      <th>COBYLA</th>\n",
                            "      <td>0.103518</td>\n",
                            "      <td>0.150039</td>\n",
                            "      <td>0.142866</td>\n",
                            "      <td>1.589757e-02</td>\n",
                            "    </tr>\n",
                            "    <tr>\n",
                            "      <th>L-BFGS-B</th>\n",
                            "      <td>0.150001</td>\n",
                            "      <td>0.152541</td>\n",
                            "      <td>0.150761</td>\n",
                            "      <td>9.209664e-04</td>\n",
                            "    </tr>\n",
                            "    <tr>\n",
                            "      <th>SLSQP</th>\n",
                            "      <td>0.150000</td>\n",
                            "      <td>0.150002</td>\n",
                            "      <td>0.150001</td>\n",
                            "      <td>6.054314e-07</td>\n",
                            "    </tr>\n",
                            "    <tr>\n",
                            "      <th>NELDER-MEAD</th>\n",
                            "      <td>2.910476</td>\n",
                            "      <td>3.882205</td>\n",
                            "      <td>3.390619</td>\n",
                            "      <td>3.269269e-01</td>\n",
                            "    </tr>\n",
                            "  </tbody>\n",
                            "</table>\n",
                            "</div>"
                        ]
                    },
                    "metadata": {},
                    "execution_count": 50
                }
            ],
            "metadata": {}
        },
        {
            "cell_type": "code",
            "execution_count": null,
            "source": [],
            "outputs": [],
            "metadata": {}
        }
    ],
    "metadata": {
        "orig_nbformat": 4,
        "language_info": {
            "name": "python",
            "version": "3.9.6",
            "mimetype": "text/x-python",
            "codemirror_mode": {
                "name": "ipython",
                "version": 3
            },
            "pygments_lexer": "ipython3",
            "nbconvert_exporter": "python",
            "file_extension": ".py"
        },
        "kernelspec": {
            "name": "python3",
            "display_name": "Python 3.9.6 64-bit ('qiskit-env': conda)"
        },
        "interpreter": {
            "hash": "cba0a9903e245d180c6cf0fc7f680c314447a948093ed8b007f03f8cc0b74c3b"
        }
    },
    "nbformat": 4,
    "nbformat_minor": 2
}