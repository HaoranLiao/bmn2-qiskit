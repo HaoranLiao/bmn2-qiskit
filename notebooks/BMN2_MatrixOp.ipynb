{
 "metadata": {
  "language_info": {
   "codemirror_mode": {
    "name": "ipython",
    "version": 3
   },
   "file_extension": ".py",
   "mimetype": "text/x-python",
   "name": "python",
   "nbconvert_exporter": "python",
   "pygments_lexer": "ipython3",
   "version": "3.9.2"
  },
  "orig_nbformat": 2,
  "kernelspec": {
   "name": "python39264bitqiskitconda219a0ba8a06c4a089469c81648c02dd1",
   "display_name": "Python 3.9.2 64-bit ('qiskit': conda)"
  },
  "metadata": {
   "interpreter": {
    "hash": "5ef24b7070357fb8e5b617d6f2cac47635e0a99e9e0b7fbdd27214ca7963c085"
   }
  }
 },
 "nbformat": 4,
 "nbformat_minor": 2,
 "cells": [
  {
   "source": [
    "## Annihilation operator for a single boson"
   ],
   "cell_type": "markdown",
   "metadata": {}
  },
  {
   "source": [
    "The cutoff L needs to be a power of 2 if we want to use qubit operators. Otherwise `qiskit` will make everything a single qubit operator."
   ],
   "cell_type": "markdown",
   "metadata": {}
  },
  {
   "source": [
    "It is convenient to use sparse matrices if we want to save memory. However, `qiskit` will transform them to dense matrices when using objects like `MatrixOp`"
   ],
   "cell_type": "markdown",
   "metadata": {}
  },
  {
   "cell_type": "code",
   "execution_count": 1,
   "metadata": {},
   "outputs": [],
   "source": [
    "import numpy as np\n",
    "from scipy.sparse import diags\n",
    "L = 2  # cutoff for Fock space\n",
    "a = diags(np.sqrt(np.linspace(1,L-1,L-1)),offsets=1)"
   ]
  },
  {
   "source": [
    "### Representation in QISKIT\n",
    "\n",
    "A qubit operator in `qiskit` can be initialized from a matrix using `MatrixOp`"
   ],
   "cell_type": "markdown",
   "metadata": {}
  },
  {
   "cell_type": "code",
   "execution_count": 2,
   "metadata": {},
   "outputs": [
    {
     "output_type": "stream",
     "name": "stdout",
     "text": [
      "1\n"
     ]
    }
   ],
   "source": [
    "from qiskit.opflow import MatrixOp\n",
    "\n",
    "qubitOp = MatrixOp(primitive=a)\n",
    "print(qubitOp.num_qubits)"
   ]
  },
  {
   "source": [
    "Express the annihilation operator of a single boson in terms of N-qubit operators represented by Pauli matrices (2x2)"
   ],
   "cell_type": "markdown",
   "metadata": {}
  },
  {
   "cell_type": "code",
   "execution_count": 3,
   "metadata": {},
   "outputs": [
    {
     "output_type": "stream",
     "name": "stdout",
     "text": [
      "SummedOp([\n  0.5 * X,\n  0.5j * Y\n])\n"
     ]
    }
   ],
   "source": [
    "a_pauli = qubitOp.to_pauli_op()\n",
    "print(a_pauli)"
   ]
  },
  {
   "cell_type": "code",
   "execution_count": 4,
   "metadata": {},
   "outputs": [
    {
     "output_type": "execute_result",
     "data": {
      "text/plain": [
       "array([[0.+0.j, 1.+0.j],\n",
       "       [0.+0.j, 0.+0.j]])"
      ]
     },
     "metadata": {},
     "execution_count": 4
    }
   ],
   "source": [
    "a_pauli.to_matrix()"
   ]
  },
  {
   "cell_type": "code",
   "execution_count": 5,
   "metadata": {},
   "outputs": [
    {
     "output_type": "execute_result",
     "data": {
      "text/plain": [
       "array([[0.+0.j, 1.+0.j],\n",
       "       [0.+0.j, 0.+0.j]])"
      ]
     },
     "metadata": {},
     "execution_count": 5
    }
   ],
   "source": [
    "qubitOp.to_matrix()"
   ]
  },
  {
   "source": [
    "The Pauli representation and the matrix representation match."
   ],
   "cell_type": "markdown",
   "metadata": {}
  },
  {
   "source": [
    "## Identity operator for a single boson"
   ],
   "cell_type": "markdown",
   "metadata": {}
  },
  {
   "cell_type": "code",
   "execution_count": 6,
   "metadata": {},
   "outputs": [],
   "source": [
    "from scipy.sparse import identity\n",
    "iden = identity(L)"
   ]
  },
  {
   "cell_type": "code",
   "execution_count": 7,
   "metadata": {},
   "outputs": [
    {
     "output_type": "stream",
     "name": "stdout",
     "text": [
      "1\n"
     ]
    }
   ],
   "source": [
    "qubitOp = MatrixOp(primitive=iden)\n",
    "print(qubitOp.num_qubits)"
   ]
  },
  {
   "cell_type": "code",
   "execution_count": 8,
   "metadata": {},
   "outputs": [
    {
     "output_type": "stream",
     "name": "stdout",
     "text": [
      "I\n"
     ]
    }
   ],
   "source": [
    "i_pauli = qubitOp.to_pauli_op()\n",
    "print(i_pauli)"
   ]
  },
  {
   "cell_type": "code",
   "execution_count": 9,
   "metadata": {},
   "outputs": [
    {
     "output_type": "execute_result",
     "data": {
      "text/plain": [
       "array([[1.+0.j, 0.+0.j],\n",
       "       [0.+0.j, 1.+0.j]])"
      ]
     },
     "metadata": {},
     "execution_count": 9
    }
   ],
   "source": [
    "i_pauli.to_matrix()"
   ]
  },
  {
   "cell_type": "code",
   "execution_count": 10,
   "metadata": {},
   "outputs": [
    {
     "output_type": "execute_result",
     "data": {
      "text/plain": [
       "array([[1.+0.j, 0.+0.j],\n",
       "       [0.+0.j, 1.+0.j]])"
      ]
     },
     "metadata": {},
     "execution_count": 10
    }
   ],
   "source": [
    "qubitOp.to_matrix()"
   ]
  },
  {
   "source": [
    "## Use the class `Operator`\n",
    "\n",
    "The `Operator` class likes `numpy` arrays or lists."
   ],
   "cell_type": "markdown",
   "metadata": {}
  },
  {
   "cell_type": "code",
   "execution_count": 11,
   "metadata": {},
   "outputs": [
    {
     "output_type": "stream",
     "name": "stdout",
     "text": [
      "Operator([[0.+0.j, 1.+0.j],\n          [0.+0.j, 0.+0.j]],\n         input_dims=(2,), output_dims=(2,))\n"
     ]
    }
   ],
   "source": [
    "from qiskit.quantum_info.operators import Operator\n",
    "\n",
    "a_op = Operator(a.toarray())\n",
    "print(a_op)"
   ]
  },
  {
   "cell_type": "code",
   "execution_count": 12,
   "metadata": {},
   "outputs": [
    {
     "output_type": "stream",
     "name": "stdout",
     "text": [
      "Operator([[1.+0.j, 0.+0.j],\n          [0.+0.j, 1.+0.j]],\n         input_dims=(2,), output_dims=(2,))\n"
     ]
    }
   ],
   "source": [
    "i_op = Operator(iden.toarray())\n",
    "print(i_op)"
   ]
  },
  {
   "source": [
    "The tensor product is:"
   ],
   "cell_type": "markdown",
   "metadata": {}
  },
  {
   "cell_type": "code",
   "execution_count": 13,
   "metadata": {},
   "outputs": [
    {
     "output_type": "execute_result",
     "data": {
      "text/plain": [
       "Operator([[0.+0.j, 0.+0.j, 1.+0.j, 0.+0.j],\n",
       "          [0.+0.j, 0.+0.j, 0.+0.j, 1.+0.j],\n",
       "          [0.+0.j, 0.+0.j, 0.+0.j, 0.+0.j],\n",
       "          [0.+0.j, 0.+0.j, 0.+0.j, 0.+0.j]],\n",
       "         input_dims=(2, 2), output_dims=(2, 2))"
      ]
     },
     "metadata": {},
     "execution_count": 13
    }
   ],
   "source": [
    "a_op^i_op"
   ]
  },
  {
   "source": [
    "and it keeps track of the dimensions of the individual sub-systems."
   ],
   "cell_type": "markdown",
   "metadata": {}
  },
  {
   "source": [
    "# Create the Hamiltonian for 6 interacting bosons"
   ],
   "cell_type": "markdown",
   "metadata": {}
  },
  {
   "source": [
    "Try to use the information in [this QISKIT tutorial](https://qiskit.org/documentation/tutorials/operators/01_operator_flow.html) and [this other one](https://qiskit.org/documentation/tutorials/circuits_advanced/02_operators_overview.html)"
   ],
   "cell_type": "markdown",
   "metadata": {}
  },
  {
   "cell_type": "code",
   "execution_count": 14,
   "metadata": {},
   "outputs": [],
   "source": [
    "Nmat = 6  # BMN2 for SU(2) has 6 bosonic matrices"
   ]
  },
  {
   "cell_type": "code",
   "execution_count": 15,
   "metadata": {},
   "outputs": [
    {
     "output_type": "stream",
     "name": "stdout",
     "text": [
      "ListOp([\n  I,\n  I,\n  I,\n  I,\n  I,\n  I\n])\n"
     ]
    }
   ],
   "source": [
    "from qiskit.opflow.list_ops import ListOp, TensoredOp\n",
    "\n",
    "boson = ListOp([i_pauli]*6)\n",
    "print(boson)"
   ]
  },
  {
   "cell_type": "code",
   "execution_count": 16,
   "metadata": {},
   "outputs": [
    {
     "output_type": "stream",
     "name": "stdout",
     "text": [
      "I\n"
     ]
    }
   ],
   "source": [
    "print(boson[0])"
   ]
  },
  {
   "source": [
    "Since assignment is not possible, we construct the Nmat operators manually"
   ],
   "cell_type": "markdown",
   "metadata": {}
  },
  {
   "cell_type": "code",
   "execution_count": 17,
   "metadata": {},
   "outputs": [],
   "source": [
    "# this does not work because the dimension of the spaces is not consisten\n",
    "# boson0 = a_pauli^(i_pauli^5)"
   ]
  },
  {
   "cell_type": "code",
   "execution_count": 18,
   "metadata": {},
   "outputs": [],
   "source": [
    "boson0 = TensoredOp([a_pauli, i_pauli, i_pauli, i_pauli, i_pauli, i_pauli])"
   ]
  },
  {
   "cell_type": "code",
   "execution_count": 19,
   "metadata": {},
   "outputs": [
    {
     "output_type": "stream",
     "name": "stdout",
     "text": [
      "TensoredOp([\n  SummedOp([\n    0.5 * X,\n    0.5j * Y\n  ]),\n  I,\n  I,\n  I,\n  I,\n  I\n])\n"
     ]
    }
   ],
   "source": [
    "print(boson0)"
   ]
  },
  {
   "cell_type": "code",
   "execution_count": 20,
   "metadata": {},
   "outputs": [
    {
     "output_type": "execute_result",
     "data": {
      "text/plain": [
       "6"
      ]
     },
     "metadata": {},
     "execution_count": 20
    }
   ],
   "source": [
    "boson0.num_qubits"
   ]
  },
  {
   "cell_type": "code",
   "execution_count": 21,
   "metadata": {},
   "outputs": [
    {
     "output_type": "execute_result",
     "data": {
      "text/plain": [
       "<2x2 sparse matrix of type '<class 'numpy.complex128'>'\n",
       "\twith 1 stored elements in Compressed Sparse Row format>"
      ]
     },
     "metadata": {},
     "execution_count": 21
    }
   ],
   "source": [
    "boson0.to_spmatrix()"
   ]
  },
  {
   "cell_type": "code",
   "execution_count": 22,
   "metadata": {},
   "outputs": [
    {
     "output_type": "execute_result",
     "data": {
      "text/plain": [
       "array([[0.+0.j, 0.+0.j, 0.+0.j, ..., 0.+0.j, 0.+0.j, 0.+0.j],\n",
       "       [0.+0.j, 0.+0.j, 0.+0.j, ..., 0.+0.j, 0.+0.j, 0.+0.j],\n",
       "       [0.+0.j, 0.+0.j, 0.+0.j, ..., 0.+0.j, 0.+0.j, 0.+0.j],\n",
       "       ...,\n",
       "       [0.+0.j, 0.+0.j, 0.+0.j, ..., 0.+0.j, 0.+0.j, 0.+0.j],\n",
       "       [0.+0.j, 0.+0.j, 0.+0.j, ..., 0.+0.j, 0.+0.j, 0.+0.j],\n",
       "       [0.+0.j, 0.+0.j, 0.+0.j, ..., 0.+0.j, 0.+0.j, 0.+0.j]])"
      ]
     },
     "metadata": {},
     "execution_count": 22
    }
   ],
   "source": [
    "boson0.to_matrix()"
   ]
  },
  {
   "cell_type": "code",
   "execution_count": 23,
   "metadata": {},
   "outputs": [
    {
     "output_type": "execute_result",
     "data": {
      "text/plain": [
       "(64, 64)"
      ]
     },
     "metadata": {},
     "execution_count": 23
    }
   ],
   "source": [
    "boson0.to_matrix().shape"
   ]
  },
  {
   "cell_type": "code",
   "execution_count": 24,
   "metadata": {},
   "outputs": [
    {
     "output_type": "execute_result",
     "data": {
      "text/plain": [
       "{'Pauli'}"
      ]
     },
     "metadata": {},
     "execution_count": 24
    }
   ],
   "source": [
    "boson0.primitive_strings()"
   ]
  },
  {
   "cell_type": "code",
   "execution_count": 25,
   "metadata": {},
   "outputs": [],
   "source": [
    "boson1 = TensoredOp([i_pauli, a_pauli, i_pauli, i_pauli, i_pauli, i_pauli])"
   ]
  },
  {
   "cell_type": "code",
   "execution_count": 26,
   "metadata": {},
   "outputs": [
    {
     "output_type": "stream",
     "name": "stdout",
     "text": [
      "TensoredOp([\n  I,\n  SummedOp([\n    0.5 * X,\n    0.5j * Y\n  ]),\n  I,\n  I,\n  I,\n  I\n])\n"
     ]
    }
   ],
   "source": [
    "print(boson1)"
   ]
  },
  {
   "cell_type": "code",
   "execution_count": 27,
   "metadata": {},
   "outputs": [
    {
     "output_type": "execute_result",
     "data": {
      "text/plain": [
       "<2x2 sparse matrix of type '<class 'numpy.complex128'>'\n",
       "\twith 1 stored elements in Compressed Sparse Row format>"
      ]
     },
     "metadata": {},
     "execution_count": 27
    }
   ],
   "source": [
    "boson1.to_spmatrix()"
   ]
  },
  {
   "cell_type": "code",
   "execution_count": 28,
   "metadata": {},
   "outputs": [
    {
     "output_type": "execute_result",
     "data": {
      "text/plain": [
       "scipy.sparse.csr.csr_matrix"
      ]
     },
     "metadata": {},
     "execution_count": 28
    }
   ],
   "source": [
    "sparse = boson1.to_spmatrix()\n",
    "type(sparse)"
   ]
  },
  {
   "cell_type": "code",
   "execution_count": 29,
   "metadata": {},
   "outputs": [
    {
     "output_type": "execute_result",
     "data": {
      "text/plain": [
       "(2, 2)"
      ]
     },
     "metadata": {},
     "execution_count": 29
    }
   ],
   "source": [
    "sparse.shape"
   ]
  },
  {
   "cell_type": "code",
   "execution_count": 30,
   "metadata": {},
   "outputs": [
    {
     "output_type": "execute_result",
     "data": {
      "text/plain": [
       "array([[0.+0.j, 0.+0.j, 0.+0.j, ..., 0.+0.j, 0.+0.j, 0.+0.j],\n",
       "       [0.+0.j, 0.+0.j, 0.+0.j, ..., 0.+0.j, 0.+0.j, 0.+0.j],\n",
       "       [0.+0.j, 0.+0.j, 0.+0.j, ..., 0.+0.j, 0.+0.j, 0.+0.j],\n",
       "       ...,\n",
       "       [0.+0.j, 0.+0.j, 0.+0.j, ..., 0.+0.j, 0.+0.j, 0.+0.j],\n",
       "       [0.+0.j, 0.+0.j, 0.+0.j, ..., 0.+0.j, 0.+0.j, 0.+0.j],\n",
       "       [0.+0.j, 0.+0.j, 0.+0.j, ..., 0.+0.j, 0.+0.j, 0.+0.j]])"
      ]
     },
     "metadata": {},
     "execution_count": 30
    }
   ],
   "source": [
    "boson1.to_matrix()"
   ]
  },
  {
   "cell_type": "code",
   "execution_count": 31,
   "metadata": {},
   "outputs": [
    {
     "output_type": "execute_result",
     "data": {
      "text/plain": [
       "64"
      ]
     },
     "metadata": {},
     "execution_count": 31
    }
   ],
   "source": [
    "full = boson1.to_matrix()\n",
    "len(full)"
   ]
  },
  {
   "cell_type": "code",
   "execution_count": 32,
   "metadata": {},
   "outputs": [
    {
     "output_type": "execute_result",
     "data": {
      "text/plain": [
       "numpy.ndarray"
      ]
     },
     "metadata": {},
     "execution_count": 32
    }
   ],
   "source": [
    "type(full)"
   ]
  },
  {
   "cell_type": "code",
   "execution_count": 33,
   "metadata": {},
   "outputs": [
    {
     "output_type": "execute_result",
     "data": {
      "text/plain": [
       "(64, 64)"
      ]
     },
     "metadata": {},
     "execution_count": 33
    }
   ],
   "source": [
    "full.shape"
   ]
  },
  {
   "source": [
    "We can use a list of `ListOp` and then perform the tensor product using `TensoredOp`"
   ],
   "cell_type": "markdown",
   "metadata": {}
  },
  {
   "cell_type": "code",
   "execution_count": 34,
   "metadata": {},
   "outputs": [],
   "source": [
    "# generically speaking, we construct the list of bosons and then take the outer product\n",
    "a_list = []  # this will contain a1...a6 as a list of ListOp\n",
    "for i in np.arange(0,Nmat):  # loop over all operators\n",
    "    operator_list = [i_pauli] * Nmat  # only the identity repeated Nmat times\n",
    "    operator_list[i] = a_pauli  # the i^th element is now the annihilation operator for a single boson\n",
    "    a_list.append(ListOp(operator_list))\n"
   ]
  },
  {
   "cell_type": "code",
   "execution_count": 35,
   "metadata": {},
   "outputs": [
    {
     "output_type": "stream",
     "name": "stdout",
     "text": [
      "ListOp([\n  SummedOp([\n    0.5 * X,\n    0.5j * Y\n  ]),\n  I,\n  I,\n  I,\n  I,\n  I\n])\n"
     ]
    }
   ],
   "source": [
    "print(a_list[0])"
   ]
  },
  {
   "source": [
    "This is simply a list of 6 operators in Pauli form."
   ],
   "cell_type": "markdown",
   "metadata": {}
  },
  {
   "cell_type": "code",
   "execution_count": 36,
   "metadata": {},
   "outputs": [
    {
     "output_type": "execute_result",
     "data": {
      "text/plain": [
       "{'Pauli'}"
      ]
     },
     "metadata": {},
     "execution_count": 36
    }
   ],
   "source": [
    "a_list[0].primitive_strings()"
   ]
  },
  {
   "cell_type": "code",
   "execution_count": 37,
   "metadata": {},
   "outputs": [],
   "source": [
    "# here we create a list of operators which are the tensor products...\n",
    "a_tensor = [TensoredOp(a) for a in a_list]\n"
   ]
  },
  {
   "cell_type": "code",
   "execution_count": 38,
   "metadata": {},
   "outputs": [
    {
     "output_type": "stream",
     "name": "stdout",
     "text": [
      "TensoredOp([\n  SummedOp([\n    0.5 * X,\n    0.5j * Y\n  ]),\n  I,\n  I,\n  I,\n  I,\n  I\n])\n"
     ]
    }
   ],
   "source": [
    "print(a_tensor[0])"
   ]
  },
  {
   "cell_type": "code",
   "execution_count": 39,
   "metadata": {},
   "outputs": [],
   "source": [
    "assert a_tensor[0] == boson0"
   ]
  },
  {
   "source": [
    "The tensor operator create from the list of Pauli operators is the same as the one created by manually doing the tensor product."
   ],
   "cell_type": "markdown",
   "metadata": {}
  },
  {
   "cell_type": "code",
   "execution_count": 40,
   "metadata": {},
   "outputs": [
    {
     "output_type": "execute_result",
     "data": {
      "text/plain": [
       "{'Pauli'}"
      ]
     },
     "metadata": {},
     "execution_count": 40
    }
   ],
   "source": [
    "a_tensor[0].primitive_strings()"
   ]
  },
  {
   "cell_type": "code",
   "execution_count": 41,
   "metadata": {},
   "outputs": [
    {
     "output_type": "stream",
     "name": "stdout",
     "text": [
      "0.5 * XIIIII\n+ 0.5j * YIIIII\n"
     ]
    }
   ],
   "source": [
    "print(a_tensor[0].to_pauli_op())"
   ]
  },
  {
   "source": [
    "The representation is already in terms of Pauli operators."
   ],
   "cell_type": "markdown",
   "metadata": {}
  },
  {
   "cell_type": "code",
   "execution_count": 42,
   "metadata": {},
   "outputs": [
    {
     "output_type": "execute_result",
     "data": {
      "text/plain": [
       "6"
      ]
     },
     "metadata": {},
     "execution_count": 42
    }
   ],
   "source": [
    "a_tensor[0].num_qubits"
   ]
  },
  {
   "cell_type": "code",
   "execution_count": 43,
   "metadata": {},
   "outputs": [
    {
     "output_type": "execute_result",
     "data": {
      "text/plain": [
       "scipy.sparse.csr.csr_matrix"
      ]
     },
     "metadata": {},
     "execution_count": 43
    }
   ],
   "source": [
    "sparse = a_tensor[0].to_spmatrix()\n",
    "type(sparse)"
   ]
  },
  {
   "cell_type": "code",
   "execution_count": 44,
   "metadata": {},
   "outputs": [
    {
     "output_type": "execute_result",
     "data": {
      "text/plain": [
       "(2, 2)"
      ]
     },
     "metadata": {},
     "execution_count": 44
    }
   ],
   "source": [
    "sparse.shape"
   ]
  },
  {
   "cell_type": "code",
   "execution_count": 45,
   "metadata": {},
   "outputs": [
    {
     "output_type": "execute_result",
     "data": {
      "text/plain": [
       "64"
      ]
     },
     "metadata": {},
     "execution_count": 45
    }
   ],
   "source": [
    "full = a_tensor[0].to_matrix()\n",
    "len(full)"
   ]
  },
  {
   "cell_type": "code",
   "execution_count": 46,
   "metadata": {},
   "outputs": [
    {
     "output_type": "execute_result",
     "data": {
      "text/plain": [
       "(64, 64)"
      ]
     },
     "metadata": {},
     "execution_count": 46
    }
   ],
   "source": [
    "full.shape"
   ]
  },
  {
   "source": [
    "The matrix operator can be created from this matrix for example"
   ],
   "cell_type": "markdown",
   "metadata": {}
  },
  {
   "cell_type": "code",
   "execution_count": 47,
   "metadata": {},
   "outputs": [],
   "source": [
    "boson0_op = Operator(full)"
   ]
  },
  {
   "cell_type": "code",
   "execution_count": 48,
   "metadata": {},
   "outputs": [
    {
     "output_type": "execute_result",
     "data": {
      "text/plain": [
       "Operator([[0.+0.j, 0.+0.j, 0.+0.j, ..., 0.+0.j, 0.+0.j, 0.+0.j],\n",
       "          [0.+0.j, 0.+0.j, 0.+0.j, ..., 0.+0.j, 0.+0.j, 0.+0.j],\n",
       "          [0.+0.j, 0.+0.j, 0.+0.j, ..., 0.+0.j, 0.+0.j, 0.+0.j],\n",
       "          ...,\n",
       "          [0.+0.j, 0.+0.j, 0.+0.j, ..., 0.+0.j, 0.+0.j, 0.+0.j],\n",
       "          [0.+0.j, 0.+0.j, 0.+0.j, ..., 0.+0.j, 0.+0.j, 0.+0.j],\n",
       "          [0.+0.j, 0.+0.j, 0.+0.j, ..., 0.+0.j, 0.+0.j, 0.+0.j]],\n",
       "         input_dims=(2, 2, 2, 2, 2, 2), output_dims=(2, 2, 2, 2, 2, 2))"
      ]
     },
     "metadata": {},
     "execution_count": 48
    }
   ],
   "source": [
    "boson0_op"
   ]
  },
  {
   "cell_type": "code",
   "execution_count": 49,
   "metadata": {},
   "outputs": [
    {
     "output_type": "stream",
     "name": "stdout",
     "text": [
      "Operator([[0.+0.j, 0.+0.j, 0.+0.j, ..., 0.+0.j, 0.+0.j, 0.+0.j],\n          [0.+0.j, 0.+0.j, 0.+0.j, ..., 0.+0.j, 0.+0.j, 0.+0.j],\n          [0.+0.j, 0.+0.j, 0.+0.j, ..., 0.+0.j, 0.+0.j, 0.+0.j],\n          ...,\n          [0.+0.j, 0.+0.j, 0.+0.j, ..., 0.+0.j, 0.+0.j, 0.+0.j],\n          [0.+0.j, 0.+0.j, 0.+0.j, ..., 0.+0.j, 0.+0.j, 0.+0.j],\n          [0.+0.j, 0.+0.j, 0.+0.j, ..., 0.+0.j, 0.+0.j, 0.+0.j]],\n         input_dims=(2, 2, 2, 2, 2, 2), output_dims=(2, 2, 2, 2, 2, 2))\n"
     ]
    }
   ],
   "source": [
    "testop = Operator(a_tensor[0])\n",
    "print(testop)"
   ]
  },
  {
   "source": [
    "From the test above we see that we can use the Pauli representation to get a full matrix operator directly."
   ],
   "cell_type": "markdown",
   "metadata": {}
  },
  {
   "source": [
    "We also create the identity in this new tensor space of 6 bosons"
   ],
   "cell_type": "markdown",
   "metadata": {}
  },
  {
   "cell_type": "code",
   "execution_count": 50,
   "metadata": {},
   "outputs": [],
   "source": [
    "i_tensor = TensoredOp(ListOp([i_pauli] * Nmat))"
   ]
  },
  {
   "cell_type": "code",
   "execution_count": 51,
   "metadata": {},
   "outputs": [
    {
     "output_type": "stream",
     "name": "stdout",
     "text": [
      "TensoredOp([\n  I,\n  I,\n  I,\n  I,\n  I,\n  I\n])\n"
     ]
    }
   ],
   "source": [
    "print(i_tensor)"
   ]
  },
  {
   "cell_type": "code",
   "execution_count": 52,
   "metadata": {},
   "outputs": [
    {
     "output_type": "execute_result",
     "data": {
      "text/plain": [
       "6"
      ]
     },
     "metadata": {},
     "execution_count": 52
    }
   ],
   "source": [
    "i_tensor.num_qubits"
   ]
  },
  {
   "cell_type": "code",
   "execution_count": 53,
   "metadata": {},
   "outputs": [
    {
     "output_type": "execute_result",
     "data": {
      "text/plain": [
       "64"
      ]
     },
     "metadata": {},
     "execution_count": 53
    }
   ],
   "source": [
    "full = i_tensor.to_matrix()\n",
    "len(full)"
   ]
  },
  {
   "cell_type": "code",
   "execution_count": 54,
   "metadata": {},
   "outputs": [
    {
     "output_type": "stream",
     "name": "stdout",
     "text": [
      "  (0, 0)\t(1+0j)\n  (1, 1)\t(1+0j)\n"
     ]
    }
   ],
   "source": [
    "print(i_tensor.to_spmatrix())"
   ]
  },
  {
   "cell_type": "code",
   "execution_count": 55,
   "metadata": {},
   "outputs": [
    {
     "output_type": "stream",
     "name": "stdout",
     "text": [
      "Operator([[1.+0.j, 0.+0.j, 0.+0.j, ..., 0.+0.j, 0.+0.j, 0.+0.j],\n          [0.+0.j, 1.+0.j, 0.+0.j, ..., 0.+0.j, 0.+0.j, 0.+0.j],\n          [0.+0.j, 0.+0.j, 1.+0.j, ..., 0.+0.j, 0.+0.j, 0.+0.j],\n          ...,\n          [0.+0.j, 0.+0.j, 0.+0.j, ..., 1.+0.j, 0.+0.j, 0.+0.j],\n          [0.+0.j, 0.+0.j, 0.+0.j, ..., 0.+0.j, 1.+0.j, 0.+0.j],\n          [0.+0.j, 0.+0.j, 0.+0.j, ..., 0.+0.j, 0.+0.j, 1.+0.j]],\n         input_dims=(2, 2, 2, 2, 2, 2), output_dims=(2, 2, 2, 2, 2, 2))\n"
     ]
    }
   ],
   "source": [
    "i_op = Operator(i_tensor)\n",
    "print(i_op)"
   ]
  },
  {
   "source": [
    "## Create the position operators"
   ],
   "cell_type": "markdown",
   "metadata": {}
  },
  {
   "cell_type": "code",
   "execution_count": 96,
   "metadata": {},
   "outputs": [],
   "source": [
    "# for each boson they are constructed using a and adag\n",
    "x_tensor = [1/np.sqrt(2)*(~a + a) for a in a_tensor]"
   ]
  },
  {
   "cell_type": "code",
   "execution_count": 97,
   "metadata": {},
   "outputs": [
    {
     "output_type": "stream",
     "name": "stdout",
     "text": [
      "0.7071067811865475 * SummedOp([\n  TensoredOp([\n    SummedOp([\n      0.5 * X,\n      -0.5j * Y\n    ]),\n    I,\n    I,\n    I,\n    I,\n    I\n  ]),\n  TensoredOp([\n    SummedOp([\n      0.5 * X,\n      0.5j * Y\n    ]),\n    I,\n    I,\n    I,\n    I,\n    I\n  ])\n])\n"
     ]
    }
   ],
   "source": [
    "print(x_tensor[0])"
   ]
  },
  {
   "cell_type": "code",
   "execution_count": 98,
   "metadata": {},
   "outputs": [
    {
     "output_type": "stream",
     "name": "stdout",
     "text": [
      "TensoredOp([\n  SummedOp([\n    0.5 * X,\n    0.5j * Y\n  ]),\n  I,\n  I,\n  I,\n  I,\n  I\n]) TensoredOp([\n  SummedOp([\n    0.5 * X,\n    -0.5j * Y\n  ]),\n  I,\n  I,\n  I,\n  I,\n  I\n])\n"
     ]
    }
   ],
   "source": [
    "print(a_tensor[0],~a_tensor[0])"
   ]
  },
  {
   "cell_type": "code",
   "execution_count": 99,
   "metadata": {},
   "outputs": [
    {
     "output_type": "stream",
     "name": "stdout",
     "text": [
      "Operator([[0.+0.j, 0.+0.j, 0.+0.j, ..., 0.+0.j, 0.+0.j, 0.+0.j],\n          [0.+0.j, 0.+0.j, 0.+0.j, ..., 0.+0.j, 0.+0.j, 0.+0.j],\n          [0.+0.j, 0.+0.j, 0.+0.j, ..., 0.+0.j, 0.+0.j, 0.+0.j],\n          ...,\n          [0.+0.j, 0.+0.j, 0.+0.j, ..., 0.+0.j, 0.+0.j, 0.+0.j],\n          [0.+0.j, 0.+0.j, 0.+0.j, ..., 0.+0.j, 0.+0.j, 0.+0.j],\n          [0.+0.j, 0.+0.j, 0.+0.j, ..., 0.+0.j, 0.+0.j, 0.+0.j]],\n         input_dims=(2, 2, 2, 2, 2, 2), output_dims=(2, 2, 2, 2, 2, 2))\n"
     ]
    }
   ],
   "source": [
    "x0_op = Operator(x_tensor[0])\n",
    "print(x0_op)"
   ]
  },
  {
   "source": [
    "## Create the full Hamiltonian"
   ],
   "cell_type": "markdown",
   "metadata": {}
  },
  {
   "cell_type": "code",
   "execution_count": 100,
   "metadata": {},
   "outputs": [],
   "source": [
    "from qiskit.opflow.list_ops import SummedOp"
   ]
  },
  {
   "cell_type": "code",
   "execution_count": 101,
   "metadata": {},
   "outputs": [],
   "source": [
    "H_zero = 0.5*Nmat*i_tensor"
   ]
  },
  {
   "cell_type": "code",
   "execution_count": 102,
   "metadata": {},
   "outputs": [
    {
     "output_type": "stream",
     "name": "stdout",
     "text": [
      "3.0 * TensoredOp([\n  I,\n  I,\n  I,\n  I,\n  I,\n  I\n])\n"
     ]
    }
   ],
   "source": [
    "print(H_zero)"
   ]
  },
  {
   "cell_type": "code",
   "execution_count": 103,
   "metadata": {},
   "outputs": [
    {
     "output_type": "execute_result",
     "data": {
      "text/plain": [
       "<2x2 sparse matrix of type '<class 'numpy.complex128'>'\n",
       "\twith 2 stored elements in Compressed Sparse Row format>"
      ]
     },
     "metadata": {},
     "execution_count": 103
    }
   ],
   "source": [
    "H_zero.to_spmatrix()"
   ]
  },
  {
   "cell_type": "code",
   "execution_count": 104,
   "metadata": {},
   "outputs": [],
   "source": [
    "### Harmonic oscillator\n",
    "# this should be summed over all the bosons (Nmat)\n",
    "H_list = [H_zero]\n",
    "for op in a_tensor:\n",
    "    H_list.append((~op @ op))\n",
    "H_osc = SummedOp(H_list)\n"
   ]
  },
  {
   "cell_type": "code",
   "execution_count": 105,
   "metadata": {},
   "outputs": [
    {
     "output_type": "stream",
     "name": "stdout",
     "text": [
      "SummedOp([\n  3.0 * TensoredOp([\n    I,\n    I,\n    I,\n    I,\n    I,\n    I\n  ]),\n  ComposedOp([\n    TensoredOp([\n      SummedOp([\n        0.5 * X,\n        -0.5j * Y\n      ]),\n      I,\n      I,\n      I,\n      I,\n      I\n    ]),\n    TensoredOp([\n      SummedOp([\n        0.5 * X,\n        0.5j * Y\n      ]),\n      I,\n      I,\n      I,\n      I,\n      I\n    ])\n  ]),\n  ComposedOp([\n    TensoredOp([\n      I,\n      SummedOp([\n        0.5 * X,\n        -0.5j * Y\n      ]),\n      I,\n      I,\n      I,\n      I\n    ]),\n    TensoredOp([\n      I,\n      SummedOp([\n        0.5 * X,\n        0.5j * Y\n      ]),\n      I,\n      I,\n      I,\n      I\n    ])\n  ]),\n  ComposedOp([\n    TensoredOp([\n      I,\n      I,\n      SummedOp([\n        0.5 * X,\n        -0.5j * Y\n      ]),\n      I,\n      I,\n      I\n    ]),\n    TensoredOp([\n      I,\n      I,\n      SummedOp([\n        0.5 * X,\n        0.5j * Y\n      ]),\n      I,\n      I,\n      I\n    ])\n  ]),\n  ComposedOp([\n    TensoredOp([\n      I,\n      I,\n      I,\n      SummedOp([\n        0.5 * X,\n        -0.5j * Y\n      ]),\n      I,\n      I\n    ]),\n    TensoredOp([\n      I,\n      I,\n      I,\n      SummedOp([\n        0.5 * X,\n        0.5j * Y\n      ]),\n      I,\n      I\n    ])\n  ]),\n  ComposedOp([\n    TensoredOp([\n      I,\n      I,\n      I,\n      I,\n      SummedOp([\n        0.5 * X,\n        -0.5j * Y\n      ]),\n      I\n    ]),\n    TensoredOp([\n      I,\n      I,\n      I,\n      I,\n      SummedOp([\n        0.5 * X,\n        0.5j * Y\n      ]),\n      I\n    ])\n  ]),\n  ComposedOp([\n    TensoredOp([\n      I,\n      I,\n      I,\n      I,\n      I,\n      SummedOp([\n        0.5 * X,\n        -0.5j * Y\n      ])\n    ]),\n    TensoredOp([\n      I,\n      I,\n      I,\n      I,\n      I,\n      SummedOp([\n        0.5 * X,\n        0.5j * Y\n      ])\n    ])\n  ])\n])\n"
     ]
    }
   ],
   "source": [
    "print(H_osc)"
   ]
  },
  {
   "cell_type": "code",
   "execution_count": 106,
   "metadata": {},
   "outputs": [
    {
     "output_type": "execute_result",
     "data": {
      "text/plain": [
       "qiskit.opflow.list_ops.summed_op.SummedOp"
      ]
     },
     "metadata": {},
     "execution_count": 106
    }
   ],
   "source": [
    "type(H_osc)"
   ]
  },
  {
   "cell_type": "code",
   "execution_count": 107,
   "metadata": {},
   "outputs": [
    {
     "output_type": "execute_result",
     "data": {
      "text/plain": [
       "{'Pauli'}"
      ]
     },
     "metadata": {},
     "execution_count": 107
    }
   ],
   "source": [
    "H_osc.primitive_strings()"
   ]
  },
  {
   "source": [
    "The entire Pauli string representation can be obtained with"
   ],
   "cell_type": "markdown",
   "metadata": {}
  },
  {
   "cell_type": "code",
   "execution_count": 108,
   "metadata": {},
   "outputs": [
    {
     "output_type": "execute_result",
     "data": {
      "text/plain": [
       "SummedOp([PauliOp(Pauli('IIIIII'), coeff=6.0), PauliOp(Pauli('ZIIIII'), coeff=-0.5), PauliOp(Pauli('IZIIII'), coeff=-0.5), PauliOp(Pauli('IIZIII'), coeff=-0.5), PauliOp(Pauli('IIIZII'), coeff=-0.5), PauliOp(Pauli('IIIIZI'), coeff=-0.5), PauliOp(Pauli('IIIIIZ'), coeff=-0.5)], coeff=1.0, abelian=False)"
      ]
     },
     "metadata": {},
     "execution_count": 108
    }
   ],
   "source": [
    "H_osc.to_pauli_op()"
   ]
  },
  {
   "source": [
    "It looks like a sum of 7 different Pauli terms is what makes a simple harmonic oscillator"
   ],
   "cell_type": "markdown",
   "metadata": {}
  },
  {
   "cell_type": "code",
   "execution_count": 109,
   "metadata": {},
   "outputs": [
    {
     "output_type": "execute_result",
     "data": {
      "text/plain": [
       "6"
      ]
     },
     "metadata": {},
     "execution_count": 109
    }
   ],
   "source": [
    "H_osc.num_qubits"
   ]
  },
  {
   "cell_type": "code",
   "execution_count": 70,
   "metadata": {},
   "outputs": [
    {
     "output_type": "execute_result",
     "data": {
      "text/plain": [
       "<2x2 sparse matrix of type '<class 'numpy.complex128'>'\n",
       "\twith 2 stored elements in Compressed Sparse Row format>"
      ]
     },
     "metadata": {},
     "execution_count": 70
    }
   ],
   "source": [
    "H_osc.to_spmatrix()"
   ]
  },
  {
   "source": [
    "We can write it as a matrix operator using the same expressions we used before for the single operators:"
   ],
   "cell_type": "markdown",
   "metadata": {}
  },
  {
   "cell_type": "code",
   "execution_count": 71,
   "metadata": {},
   "outputs": [
    {
     "output_type": "stream",
     "name": "stdout",
     "text": [
      "Operator([[729.+0.j,   0.+0.j,   0.+0.j, ...,   0.+0.j,   0.+0.j,\n             0.+0.j],\n          [  0.+0.j, 730.+0.j,   0.+0.j, ...,   0.+0.j,   0.+0.j,\n             0.+0.j],\n          [  0.+0.j,   0.+0.j, 730.+0.j, ...,   0.+0.j,   0.+0.j,\n             0.+0.j],\n          ...,\n          [  0.+0.j,   0.+0.j,   0.+0.j, ..., 734.+0.j,   0.+0.j,\n             0.+0.j],\n          [  0.+0.j,   0.+0.j,   0.+0.j, ...,   0.+0.j, 734.+0.j,\n             0.+0.j],\n          [  0.+0.j,   0.+0.j,   0.+0.j, ...,   0.+0.j,   0.+0.j,\n           735.+0.j]],\n         input_dims=(2, 2, 2, 2, 2, 2), output_dims=(2, 2, 2, 2, 2, 2))\n"
     ]
    }
   ],
   "source": [
    "H0_op = Operator(H_osc)\n",
    "print(H0_op)"
   ]
  },
  {
   "source": [
    "### Test `SparsePauliOp`\n",
    "\n",
    "We can try this [object](https://qiskit.org/documentation/stubs/qiskit.quantum_info.SparsePauliOp.html#qiskit.quantum_info.SparsePauliOp.from_list)"
   ],
   "cell_type": "markdown",
   "metadata": {}
  },
  {
   "cell_type": "code",
   "execution_count": 72,
   "metadata": {},
   "outputs": [],
   "source": [
    "from qiskit.quantum_info import SparsePauliOp"
   ]
  },
  {
   "cell_type": "code",
   "execution_count": 73,
   "metadata": {},
   "outputs": [
    {
     "output_type": "stream",
     "name": "stdout",
     "text": [
      "SparsePauliOp([[False, False, False, False, False, False, False, False,\n                False, False, False, False],\n               [False, False, False, False, False, False,  True, False,\n                False, False, False, False],\n               [False, False, False, False, False, False, False,  True,\n                False, False, False, False],\n               [False, False, False, False, False, False, False, False,\n                 True, False, False, False],\n               [False, False, False, False, False, False, False, False,\n                False,  True, False, False],\n               [False, False, False, False, False, False, False, False,\n                False, False,  True, False],\n               [False, False, False, False, False, False, False, False,\n                False, False, False,  True]],\n              coeffs=[ 7.32e+02+0.j, -5.00e-01+0.j, -5.00e-01+0.j, -5.00e-01+0.j, -5.00e-01+0.j,\n -5.00e-01+0.j, -5.00e-01+0.j])\n"
     ]
    }
   ],
   "source": [
    "H0_sp = SparsePauliOp.from_operator(H0_op)\n",
    "print(H0_sp)"
   ]
  },
  {
   "source": [
    "It is saved as a table of Pauli matrices"
   ],
   "cell_type": "markdown",
   "metadata": {}
  },
  {
   "cell_type": "code",
   "execution_count": 74,
   "metadata": {},
   "outputs": [
    {
     "output_type": "execute_result",
     "data": {
      "text/plain": [
       "PauliTable([[False,False,False,False,False,False,False,False,False,False,\n",
       "             False,False],\n",
       "            [False,False,False,False,False,False, True,False,False,False,\n",
       "             False,False],\n",
       "            [False,False,False,False,False,False,False, True,False,False,\n",
       "             False,False],\n",
       "            [False,False,False,False,False,False,False,False, True,False,\n",
       "             False,False],\n",
       "            [False,False,False,False,False,False,False,False,False, True,\n",
       "             False,False],\n",
       "            [False,False,False,False,False,False,False,False,False,False,\n",
       "              True,False],\n",
       "            [False,False,False,False,False,False,False,False,False,False,\n",
       "             False, True]])"
      ]
     },
     "metadata": {},
     "execution_count": 74
    }
   ],
   "source": [
    "H0_sp.table"
   ]
  },
  {
   "cell_type": "code",
   "execution_count": 75,
   "metadata": {},
   "outputs": [
    {
     "output_type": "execute_result",
     "data": {
      "text/plain": [
       "6"
      ]
     },
     "metadata": {},
     "execution_count": 75
    }
   ],
   "source": [
    "H0_sp.num_qubits"
   ]
  },
  {
   "cell_type": "code",
   "execution_count": 76,
   "metadata": {},
   "outputs": [
    {
     "output_type": "execute_result",
     "data": {
      "text/plain": [
       "(64, 64)"
      ]
     },
     "metadata": {},
     "execution_count": 76
    }
   ],
   "source": [
    "H0_sp.dim"
   ]
  },
  {
   "cell_type": "code",
   "execution_count": 77,
   "metadata": {},
   "outputs": [
    {
     "output_type": "execute_result",
     "data": {
      "text/plain": [
       "(2, 2, 2, 2, 2, 2)"
      ]
     },
     "metadata": {},
     "execution_count": 77
    }
   ],
   "source": [
    "H0_sp.input_dims()"
   ]
  },
  {
   "source": [
    "Can it be created from a `SummedOp` object?"
   ],
   "cell_type": "markdown",
   "metadata": {}
  },
  {
   "cell_type": "code",
   "execution_count": 78,
   "metadata": {},
   "outputs": [
    {
     "output_type": "stream",
     "name": "stdout",
     "text": [
      "SparsePauliOp([[False, False, False, False, False, False, False, False,\n                False, False, False, False],\n               [False, False, False, False, False, False,  True, False,\n                False, False, False, False],\n               [False, False, False, False, False, False, False,  True,\n                False, False, False, False],\n               [False, False, False, False, False, False, False, False,\n                 True, False, False, False],\n               [False, False, False, False, False, False, False, False,\n                False,  True, False, False],\n               [False, False, False, False, False, False, False, False,\n                False, False,  True, False],\n               [False, False, False, False, False, False, False, False,\n                False, False, False,  True]],\n              coeffs=[ 7.32e+02+0.j, -5.00e-01+0.j, -5.00e-01+0.j, -5.00e-01+0.j, -5.00e-01+0.j,\n -5.00e-01+0.j, -5.00e-01+0.j])\n"
     ]
    }
   ],
   "source": [
    "H0_sp = SparsePauliOp.from_operator(H_osc)\n",
    "print(H0_sp)"
   ]
  },
  {
   "source": [
    "Yes, because they are basically equivalent."
   ],
   "cell_type": "markdown",
   "metadata": {}
  },
  {
   "source": [
    "### Find minimum (classical) eigenvalue"
   ],
   "cell_type": "markdown",
   "metadata": {}
  },
  {
   "cell_type": "code",
   "execution_count": 79,
   "metadata": {},
   "outputs": [
    {
     "output_type": "stream",
     "name": "stdout",
     "text": [
      "(3+0j)\n"
     ]
    }
   ],
   "source": [
    "from qiskit.algorithms import NumPyMinimumEigensolver\n",
    "\n",
    "mes = NumPyMinimumEigensolver()\n",
    "\n",
    "# we need to use the Pauli representation and not the Operator representation\n",
    "result = mes.compute_minimum_eigenvalue(H_osc)\n",
    "print(result.eigenvalue)"
   ]
  },
  {
   "source": [
    "## Interaction terms: quartic potential"
   ],
   "cell_type": "markdown",
   "metadata": {}
  },
  {
   "cell_type": "code",
   "execution_count": 110,
   "metadata": {},
   "outputs": [],
   "source": [
    "quartic1 = SummedOp([x_tensor[2]@x_tensor[2]@x_tensor[3]@x_tensor[3], \\\n",
    "                    x_tensor[2]@x_tensor[2]@x_tensor[4]@x_tensor[4], \\\n",
    "                    x_tensor[1]@x_tensor[1]@x_tensor[3]@x_tensor[3], \\\n",
    "                    x_tensor[1]@x_tensor[1]@x_tensor[5]@x_tensor[5], \\\n",
    "                    x_tensor[0]@x_tensor[0]@x_tensor[4]@x_tensor[4], \\\n",
    "                    x_tensor[0]@x_tensor[0]@x_tensor[5]@x_tensor[5]])\n",
    "                    "
   ]
  },
  {
   "cell_type": "code",
   "execution_count": 111,
   "metadata": {},
   "outputs": [],
   "source": [
    "quartic2 = SummedOp([x_tensor[0]@x_tensor[2]@x_tensor[3]@x_tensor[5],\\\n",
    "                    x_tensor[0]@x_tensor[1]@x_tensor[3]@x_tensor[4],\\\n",
    "                    x_tensor[1]@x_tensor[2]@x_tensor[4]@x_tensor[5]], coeff = -2.0)"
   ]
  },
  {
   "cell_type": "code",
   "execution_count": 82,
   "metadata": {
    "tags": []
   },
   "outputs": [
    {
     "output_type": "stream",
     "name": "stdout",
     "text": [
      "-2.0 * SummedOp([\n  ComposedOp([\n    0.7071067811865475 * SummedOp([\n      TensoredOp([\n        SummedOp([\n          0.5 * X,\n          -0.5j * Y\n        ]),\n        I,\n        I,\n        I,\n        I,\n        I\n      ]),\n      -1.0 * TensoredOp([\n        SummedOp([\n          0.5 * X,\n          0.5j * Y\n        ]),\n        I,\n        I,\n        I,\n        I,\n        I\n      ])\n    ]),\n    0.7071067811865475 * SummedOp([\n      TensoredOp([\n        I,\n        I,\n        SummedOp([\n          0.5 * X,\n          -0.5j * Y\n        ]),\n        I,\n        I,\n        I\n      ]),\n      -1.0 * TensoredOp([\n        I,\n        I,\n        SummedOp([\n          0.5 * X,\n          0.5j * Y\n        ]),\n        I,\n        I,\n        I\n      ])\n    ]),\n    0.7071067811865475 * SummedOp([\n      TensoredOp([\n        I,\n        I,\n        I,\n        SummedOp([\n          0.5 * X,\n          -0.5j * Y\n        ]),\n        I,\n        I\n      ]),\n      -1.0 * TensoredOp([\n        I,\n        I,\n        I,\n        SummedOp([\n          0.5 * X,\n          0.5j * Y\n        ]),\n        I,\n        I\n      ])\n    ]),\n    0.7071067811865475 * SummedOp([\n      TensoredOp([\n        I,\n        I,\n        I,\n        I,\n        I,\n        SummedOp([\n          0.5 * X,\n          -0.5j * Y\n        ])\n      ]),\n      -1.0 * TensoredOp([\n        I,\n        I,\n        I,\n        I,\n        I,\n        SummedOp([\n          0.5 * X,\n          0.5j * Y\n        ])\n      ])\n    ])\n  ]),\n  ComposedOp([\n    0.7071067811865475 * SummedOp([\n      TensoredOp([\n        SummedOp([\n          0.5 * X,\n          -0.5j * Y\n        ]),\n        I,\n        I,\n        I,\n        I,\n        I\n      ]),\n      -1.0 * TensoredOp([\n        SummedOp([\n          0.5 * X,\n          0.5j * Y\n        ]),\n        I,\n        I,\n        I,\n        I,\n        I\n      ])\n    ]),\n    0.7071067811865475 * SummedOp([\n      TensoredOp([\n        I,\n        SummedOp([\n          0.5 * X,\n          -0.5j * Y\n        ]),\n        I,\n        I,\n        I,\n        I\n      ]),\n      -1.0 * TensoredOp([\n        I,\n        SummedOp([\n          0.5 * X,\n          0.5j * Y\n        ]),\n        I,\n        I,\n        I,\n        I\n      ])\n    ]),\n    0.7071067811865475 * SummedOp([\n      TensoredOp([\n        I,\n        I,\n        I,\n        SummedOp([\n          0.5 * X,\n          -0.5j * Y\n        ]),\n        I,\n        I\n      ]),\n      -1.0 * TensoredOp([\n        I,\n        I,\n        I,\n        SummedOp([\n          0.5 * X,\n          0.5j * Y\n        ]),\n        I,\n        I\n      ])\n    ]),\n    0.7071067811865475 * SummedOp([\n      TensoredOp([\n        I,\n        I,\n        I,\n        I,\n        SummedOp([\n          0.5 * X,\n          -0.5j * Y\n        ]),\n        I\n      ]),\n      -1.0 * TensoredOp([\n        I,\n        I,\n        I,\n        I,\n        SummedOp([\n          0.5 * X,\n          0.5j * Y\n        ]),\n        I\n      ])\n    ])\n  ]),\n  ComposedOp([\n    0.7071067811865475 * SummedOp([\n      TensoredOp([\n        I,\n        SummedOp([\n          0.5 * X,\n          -0.5j * Y\n        ]),\n        I,\n        I,\n        I,\n        I\n      ]),\n      -1.0 * TensoredOp([\n        I,\n        SummedOp([\n          0.5 * X,\n          0.5j * Y\n        ]),\n        I,\n        I,\n        I,\n        I\n      ])\n    ]),\n    0.7071067811865475 * SummedOp([\n      TensoredOp([\n        I,\n        I,\n        SummedOp([\n          0.5 * X,\n          -0.5j * Y\n        ]),\n        I,\n        I,\n        I\n      ]),\n      -1.0 * TensoredOp([\n        I,\n        I,\n        SummedOp([\n          0.5 * X,\n          0.5j * Y\n        ]),\n        I,\n        I,\n        I\n      ])\n    ]),\n    0.7071067811865475 * SummedOp([\n      TensoredOp([\n        I,\n        I,\n        I,\n        I,\n        SummedOp([\n          0.5 * X,\n          -0.5j * Y\n        ]),\n        I\n      ]),\n      -1.0 * TensoredOp([\n        I,\n        I,\n        I,\n        I,\n        SummedOp([\n          0.5 * X,\n          0.5j * Y\n        ]),\n        I\n      ])\n    ]),\n    0.7071067811865475 * SummedOp([\n      TensoredOp([\n        I,\n        I,\n        I,\n        I,\n        I,\n        SummedOp([\n          0.5 * X,\n          -0.5j * Y\n        ])\n      ]),\n      -1.0 * TensoredOp([\n        I,\n        I,\n        I,\n        I,\n        I,\n        SummedOp([\n          0.5 * X,\n          0.5j * Y\n        ])\n      ])\n    ])\n  ])\n])\n"
     ]
    }
   ],
   "source": [
    "print(quartic2)"
   ]
  },
  {
   "cell_type": "code",
   "execution_count": 83,
   "metadata": {},
   "outputs": [
    {
     "output_type": "execute_result",
     "data": {
      "text/plain": [
       "qiskit.opflow.list_ops.summed_op.SummedOp"
      ]
     },
     "metadata": {},
     "execution_count": 83
    }
   ],
   "source": [
    "type(quartic2)"
   ]
  },
  {
   "cell_type": "code",
   "execution_count": 84,
   "metadata": {},
   "outputs": [
    {
     "output_type": "execute_result",
     "data": {
      "text/plain": [
       "{'Pauli'}"
      ]
     },
     "metadata": {},
     "execution_count": 84
    }
   ],
   "source": [
    "quartic2.primitive_strings()"
   ]
  },
  {
   "source": [
    "The full potential is the sum of those two terms:"
   ],
   "cell_type": "markdown",
   "metadata": {}
  },
  {
   "cell_type": "code",
   "execution_count": 112,
   "metadata": {},
   "outputs": [],
   "source": [
    "### Quartic Interaction\n",
    "V =  quartic1 + quartic2"
   ]
  },
  {
   "cell_type": "code",
   "execution_count": 113,
   "metadata": {},
   "outputs": [
    {
     "output_type": "execute_result",
     "data": {
      "text/plain": [
       "6"
      ]
     },
     "metadata": {},
     "execution_count": 113
    }
   ],
   "source": [
    "V.num_qubits"
   ]
  },
  {
   "cell_type": "code",
   "execution_count": 114,
   "metadata": {},
   "outputs": [
    {
     "output_type": "execute_result",
     "data": {
      "text/plain": [
       "<2x2 sparse matrix of type '<class 'numpy.complex128'>'\n",
       "\twith 2 stored elements in Compressed Sparse Row format>"
      ]
     },
     "metadata": {},
     "execution_count": 114
    }
   ],
   "source": [
    "V.to_spmatrix()"
   ]
  },
  {
   "source": [
    "We can make an operator with this"
   ],
   "cell_type": "markdown",
   "metadata": {}
  },
  {
   "cell_type": "code",
   "execution_count": 88,
   "metadata": {},
   "outputs": [
    {
     "output_type": "stream",
     "name": "stdout",
     "text": [
      "Operator([[1.5+0.j, 0. +0.j, 0. +0.j, ..., 0. +0.j, 0. +0.j, 0. +0.j],\n          [0. +0.j, 1.5+0.j, 0. +0.j, ..., 0. +0.j, 0. +0.j, 0. +0.j],\n          [0. +0.j, 0. +0.j, 1.5+0.j, ..., 0. +0.j, 0. +0.j, 0. +0.j],\n          ...,\n          [0. +0.j, 0. +0.j, 0. +0.j, ..., 1.5+0.j, 0. +0.j, 0. +0.j],\n          [0. +0.j, 0. +0.j, 0. +0.j, ..., 0. +0.j, 1.5+0.j, 0. +0.j],\n          [0. +0.j, 0. +0.j, 0. +0.j, ..., 0. +0.j, 0. +0.j, 1.5+0.j]],\n         input_dims=(2, 2, 2, 2, 2, 2), output_dims=(2, 2, 2, 2, 2, 2))\n"
     ]
    }
   ],
   "source": [
    "V_op = Operator(V)\n",
    "print(V_op)"
   ]
  },
  {
   "source": [
    "## Define the 'tHooft coupling and the Full Hamiltonian"
   ],
   "cell_type": "markdown",
   "metadata": {}
  },
  {
   "cell_type": "code",
   "execution_count": 115,
   "metadata": {},
   "outputs": [],
   "source": [
    "g2 = 0.2"
   ]
  },
  {
   "cell_type": "code",
   "execution_count": 116,
   "metadata": {},
   "outputs": [],
   "source": [
    "### Full Hamiltonian\n",
    "H = H_osc + 0.5*g2*V"
   ]
  },
  {
   "cell_type": "code",
   "execution_count": 91,
   "metadata": {},
   "outputs": [
    {
     "output_type": "execute_result",
     "data": {
      "text/plain": [
       "qiskit.opflow.list_ops.summed_op.SummedOp"
      ]
     },
     "metadata": {},
     "execution_count": 91
    }
   ],
   "source": [
    "type(H)"
   ]
  },
  {
   "cell_type": "code",
   "execution_count": 117,
   "metadata": {},
   "outputs": [
    {
     "output_type": "execute_result",
     "data": {
      "text/plain": [
       "SummedOp([PauliOp(Pauli('IIIIII'), coeff=6.150000000000002), PauliOp(Pauli('ZIIIII'), coeff=-0.5), PauliOp(Pauli('IZIIII'), coeff=-0.5), PauliOp(Pauli('IIZIII'), coeff=-0.5), PauliOp(Pauli('IIIZII'), coeff=-0.5), PauliOp(Pauli('IIIIZI'), coeff=-0.5), PauliOp(Pauli('IIIIIZ'), coeff=-0.5), PauliOp(Pauli('XXIXXI'), coeff=-0.04999999999999999), PauliOp(Pauli('XIXXIX'), coeff=-0.04999999999999999), PauliOp(Pauli('IXXIXX'), coeff=-0.04999999999999999)], coeff=1.0, abelian=False)"
      ]
     },
     "metadata": {},
     "execution_count": 117
    }
   ],
   "source": [
    "H.to_pauli_op()"
   ]
  },
  {
   "cell_type": "code",
   "execution_count": 93,
   "metadata": {},
   "outputs": [
    {
     "output_type": "execute_result",
     "data": {
      "text/plain": [
       "6"
      ]
     },
     "metadata": {},
     "execution_count": 93
    }
   ],
   "source": [
    "H.num_qubits"
   ]
  },
  {
   "source": [
    "# Diagonalize the Hamiltonian to find the groundstate"
   ],
   "cell_type": "markdown",
   "metadata": {}
  },
  {
   "cell_type": "code",
   "execution_count": 118,
   "metadata": {},
   "outputs": [
    {
     "output_type": "stream",
     "name": "stdout",
     "text": [
      "(3+0j)\n"
     ]
    }
   ],
   "source": [
    "from qiskit.algorithms import NumPyMinimumEigensolver\n",
    "\n",
    "mes = NumPyMinimumEigensolver()\n",
    "\n",
    "result = mes.compute_minimum_eigenvalue(H)\n",
    "print(result.eigenvalue)"
   ]
  },
  {
   "cell_type": "code",
   "execution_count": 95,
   "metadata": {},
   "outputs": [
    {
     "output_type": "stream",
     "name": "stdout",
     "text": [
      "Ground state energy value: 3.00000\n"
     ]
    }
   ],
   "source": [
    "ref_value = result.eigenvalue.real\n",
    "print(f'Ground state energy value: {ref_value:.5f}')"
   ]
  },
  {
   "source": [
    "I can not get anything different from 3.000 even if I have the interactions turned on..."
   ],
   "cell_type": "markdown",
   "metadata": {}
  },
  {
   "cell_type": "code",
   "execution_count": 119,
   "metadata": {},
   "outputs": [
    {
     "output_type": "stream",
     "name": "stdout",
     "text": [
      "Operator([[729.00015+0.j,   0.     +0.j,   0.     +0.j, ...,\n             0.     +0.j,   0.     +0.j,   0.     +0.j],\n          [  0.     +0.j, 730.00015+0.j,   0.     +0.j, ...,\n             0.     +0.j,   0.     +0.j,   0.     +0.j],\n          [  0.     +0.j,   0.     +0.j, 730.00015+0.j, ...,\n             0.     +0.j,   0.     +0.j,   0.     +0.j],\n          ...,\n          [  0.     +0.j,   0.     +0.j,   0.     +0.j, ...,\n           734.00015+0.j,   0.     +0.j,   0.     +0.j],\n          [  0.     +0.j,   0.     +0.j,   0.     +0.j, ...,\n             0.     +0.j, 734.00015+0.j,   0.     +0.j],\n          [  0.     +0.j,   0.     +0.j,   0.     +0.j, ...,\n             0.     +0.j,   0.     +0.j, 735.00015+0.j]],\n         input_dims=(2, 2, 2, 2, 2, 2), output_dims=(2, 2, 2, 2, 2, 2))\n"
     ]
    }
   ],
   "source": [
    "H_op = Operator(H)\n",
    "print(H_op)"
   ]
  },
  {
   "cell_type": "code",
   "execution_count": 122,
   "metadata": {},
   "outputs": [
    {
     "output_type": "execute_result",
     "data": {
      "text/plain": [
       "qiskit.quantum_info.operators.operator.Operator"
      ]
     },
     "metadata": {},
     "execution_count": 122
    }
   ],
   "source": [
    "type(H_op)"
   ]
  },
  {
   "cell_type": "code",
   "execution_count": 120,
   "metadata": {},
   "outputs": [
    {
     "output_type": "stream",
     "name": "stdout",
     "text": [
      "Operator([[729.00015+0.j,   0.     +0.j,   0.     +0.j, ...,\n             0.     +0.j,   0.     +0.j,   0.     +0.j],\n          [  0.     +0.j, 730.00015+0.j,   0.     +0.j, ...,\n             0.     +0.j,   0.     +0.j,   0.     +0.j],\n          [  0.     +0.j,   0.     +0.j, 730.00015+0.j, ...,\n             0.     +0.j,   0.     +0.j,   0.     +0.j],\n          ...,\n          [  0.     +0.j,   0.     +0.j,   0.     +0.j, ...,\n           734.00015+0.j,   0.     +0.j,   0.     +0.j],\n          [  0.     +0.j,   0.     +0.j,   0.     +0.j, ...,\n             0.     +0.j, 734.00015+0.j,   0.     +0.j],\n          [  0.     +0.j,   0.     +0.j,   0.     +0.j, ...,\n             0.     +0.j,   0.     +0.j, 735.00015+0.j]],\n         input_dims=(2, 2, 2, 2, 2, 2), output_dims=(2, 2, 2, 2, 2, 2))\n"
     ]
    }
   ],
   "source": [
    "H_qop = MatrixOp(H_op)\n",
    "print(H_qop)"
   ]
  },
  {
   "cell_type": "code",
   "execution_count": 121,
   "metadata": {},
   "outputs": [
    {
     "output_type": "execute_result",
     "data": {
      "text/plain": [
       "qiskit.opflow.primitive_ops.matrix_op.MatrixOp"
      ]
     },
     "metadata": {},
     "execution_count": 121
    }
   ],
   "source": [
    "type(H_qop)"
   ]
  },
  {
   "cell_type": "code",
   "execution_count": 124,
   "metadata": {},
   "outputs": [
    {
     "output_type": "stream",
     "name": "stdout",
     "text": [
      "(729.0001498800242-2.8362595049852713e-16j)\n"
     ]
    }
   ],
   "source": [
    "result = mes.compute_minimum_eigenvalue(H_qop)\n",
    "print(result.eigenvalue)"
   ]
  },
  {
   "cell_type": "code",
   "execution_count": 126,
   "metadata": {},
   "outputs": [
    {
     "output_type": "stream",
     "name": "stdout",
     "text": [
      "(3+0j)\n"
     ]
    }
   ],
   "source": [
    "result = mes.compute_minimum_eigenvalue(H_osc)\n",
    "print(result.eigenvalue)"
   ]
  },
  {
   "cell_type": "code",
   "execution_count": 128,
   "metadata": {},
   "outputs": [
    {
     "output_type": "stream",
     "name": "stdout",
     "text": [
      "Operator([[729.+0.j,   0.+0.j,   0.+0.j, ...,   0.+0.j,   0.+0.j,\n             0.+0.j],\n          [  0.+0.j, 730.+0.j,   0.+0.j, ...,   0.+0.j,   0.+0.j,\n             0.+0.j],\n          [  0.+0.j,   0.+0.j, 730.+0.j, ...,   0.+0.j,   0.+0.j,\n             0.+0.j],\n          ...,\n          [  0.+0.j,   0.+0.j,   0.+0.j, ..., 734.+0.j,   0.+0.j,\n             0.+0.j],\n          [  0.+0.j,   0.+0.j,   0.+0.j, ...,   0.+0.j, 734.+0.j,\n             0.+0.j],\n          [  0.+0.j,   0.+0.j,   0.+0.j, ...,   0.+0.j,   0.+0.j,\n           735.+0.j]],\n         input_dims=(2, 2, 2, 2, 2, 2), output_dims=(2, 2, 2, 2, 2, 2))\n"
     ]
    }
   ],
   "source": [
    "H0_qop = MatrixOp(Operator(H_osc))\n",
    "print(H0_qop)"
   ]
  },
  {
   "cell_type": "code",
   "execution_count": 129,
   "metadata": {},
   "outputs": [
    {
     "output_type": "stream",
     "name": "stdout",
     "text": [
      "(729+0j)\n"
     ]
    }
   ],
   "source": [
    "result = mes.compute_minimum_eigenvalue(H0_qop)\n",
    "print(result.eigenvalue)"
   ]
  },
  {
   "cell_type": "code",
   "execution_count": null,
   "metadata": {},
   "outputs": [],
   "source": []
  }
 ]
}