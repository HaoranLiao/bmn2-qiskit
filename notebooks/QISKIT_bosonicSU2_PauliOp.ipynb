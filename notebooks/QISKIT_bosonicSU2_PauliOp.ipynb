{
 "cells": [
  {
   "cell_type": "markdown",
   "metadata": {},
   "source": [
    "# Annihilation operator for a single boson"
   ]
  },
  {
   "cell_type": "markdown",
   "metadata": {},
   "source": [
    "The cutoff L needs to be a power of 2 because we want to use qubit operators."
   ]
  },
  {
   "cell_type": "code",
   "execution_count": 1,
   "metadata": {},
   "outputs": [],
   "source": [
    "import numpy as np\n",
    "from scipy.sparse import diags\n",
    "L = 8  # cutoff for Fock space\n",
    "a = diags(np.sqrt(np.linspace(1,L-1,L-1)),offsets=1)"
   ]
  },
  {
   "cell_type": "code",
   "execution_count": 2,
   "metadata": {},
   "outputs": [
    {
     "name": "stdout",
     "output_type": "stream",
     "text": [
      "[[0.         1.         0.         0.         0.         0.\n",
      "  0.         0.        ]\n",
      " [0.         0.         1.41421356 0.         0.         0.\n",
      "  0.         0.        ]\n",
      " [0.         0.         0.         1.73205081 0.         0.\n",
      "  0.         0.        ]\n",
      " [0.         0.         0.         0.         2.         0.\n",
      "  0.         0.        ]\n",
      " [0.         0.         0.         0.         0.         2.23606798\n",
      "  0.         0.        ]\n",
      " [0.         0.         0.         0.         0.         0.\n",
      "  2.44948974 0.        ]\n",
      " [0.         0.         0.         0.         0.         0.\n",
      "  0.         2.64575131]\n",
      " [0.         0.         0.         0.         0.         0.\n",
      "  0.         0.        ]]\n"
     ]
    }
   ],
   "source": [
    "print(a.toarray())"
   ]
  },
  {
   "cell_type": "markdown",
   "metadata": {},
   "source": [
    "## Representation in QISKIT"
   ]
  },
  {
   "cell_type": "code",
   "execution_count": 3,
   "metadata": {},
   "outputs": [
    {
     "name": "stdout",
     "output_type": "stream",
     "text": [
      "3\n"
     ]
    }
   ],
   "source": [
    "from qiskit.opflow import MatrixOp\n",
    "\n",
    "qubitOp = MatrixOp(primitive=a)\n",
    "print(qubitOp.num_qubits)"
   ]
  },
  {
   "cell_type": "code",
   "execution_count": 4,
   "metadata": {},
   "outputs": [
    {
     "data": {
      "text/plain": [
       "qiskit.opflow.primitive_ops.matrix_op.MatrixOp"
      ]
     },
     "execution_count": 4,
     "metadata": {},
     "output_type": "execute_result"
    }
   ],
   "source": [
    "type(qubitOp)"
   ]
  },
  {
   "cell_type": "code",
   "execution_count": 5,
   "metadata": {},
   "outputs": [
    {
     "name": "stdout",
     "output_type": "stream",
     "text": [
      "Operator([[0.        +0.j, 1.        +0.j, 0.        +0.j, 0.        +0.j,\n",
      "           0.        +0.j, 0.        +0.j, 0.        +0.j, 0.        +0.j],\n",
      "          [0.        +0.j, 0.        +0.j, 1.41421356+0.j, 0.        +0.j,\n",
      "           0.        +0.j, 0.        +0.j, 0.        +0.j, 0.        +0.j],\n",
      "          [0.        +0.j, 0.        +0.j, 0.        +0.j, 1.73205081+0.j,\n",
      "           0.        +0.j, 0.        +0.j, 0.        +0.j, 0.        +0.j],\n",
      "          [0.        +0.j, 0.        +0.j, 0.        +0.j, 0.        +0.j,\n",
      "           2.        +0.j, 0.        +0.j, 0.        +0.j, 0.        +0.j],\n",
      "          [0.        +0.j, 0.        +0.j, 0.        +0.j, 0.        +0.j,\n",
      "           0.        +0.j, 2.23606798+0.j, 0.        +0.j, 0.        +0.j],\n",
      "          [0.        +0.j, 0.        +0.j, 0.        +0.j, 0.        +0.j,\n",
      "           0.        +0.j, 0.        +0.j, 2.44948974+0.j, 0.        +0.j],\n",
      "          [0.        +0.j, 0.        +0.j, 0.        +0.j, 0.        +0.j,\n",
      "           0.        +0.j, 0.        +0.j, 0.        +0.j, 2.64575131+0.j],\n",
      "          [0.        +0.j, 0.        +0.j, 0.        +0.j, 0.        +0.j,\n",
      "           0.        +0.j, 0.        +0.j, 0.        +0.j, 0.        +0.j]],\n",
      "         input_dims=(2, 2, 2), output_dims=(2, 2, 2))\n"
     ]
    }
   ],
   "source": [
    "print(qubitOp)"
   ]
  },
  {
   "cell_type": "markdown",
   "metadata": {},
   "source": [
    "Express the annihilation operator of a single boson in terms of N-qubit operators represented by Pauli matrices (2x2)"
   ]
  },
  {
   "cell_type": "code",
   "execution_count": 6,
   "metadata": {},
   "outputs": [
    {
     "name": "stdout",
     "output_type": "stream",
     "text": [
      "SummedOp([\n",
      "  0.9517337620166573 * IIX,\n",
      "  0.9517337620166573j * IIY,\n",
      "  0.4829629131445341 * IXX,\n",
      "  -0.4829629131445341j * IXY,\n",
      "  0.4829629131445341j * IYX,\n",
      "  0.4829629131445341 * IYY,\n",
      "  -0.14271676764170982 * IZX,\n",
      "  -0.14271676764170982j * IZY,\n",
      "  0.25 * XXX,\n",
      "  -0.25j * XXY,\n",
      "  -0.25j * XYX,\n",
      "  -0.25 * XYY,\n",
      "  0.25j * YXX,\n",
      "  0.25 * YXY,\n",
      "  0.25 * YYX,\n",
      "  -0.25j * YYY,\n",
      "  -0.2687210601244379 * ZIX,\n",
      "  -0.2687210601244379j * ZIY,\n",
      "  -0.12940952255126034 * ZXX,\n",
      "  0.12940952255126034j * ZXY,\n",
      "  -0.12940952255126034j * ZYX,\n",
      "  -0.12940952255126034 * ZYY,\n",
      "  -0.040295934250509535 * ZZX,\n",
      "  -0.040295934250509535j * ZZY\n",
      "])\n"
     ]
    }
   ],
   "source": [
    "a_pauli = qubitOp.to_pauli_op()\n",
    "print(a_pauli)"
   ]
  },
  {
   "cell_type": "code",
   "execution_count": 7,
   "metadata": {},
   "outputs": [
    {
     "data": {
      "text/plain": [
       "qiskit.opflow.list_ops.summed_op.SummedOp"
      ]
     },
     "execution_count": 7,
     "metadata": {},
     "output_type": "execute_result"
    }
   ],
   "source": [
    "type(a_pauli)"
   ]
  },
  {
   "cell_type": "code",
   "execution_count": 8,
   "metadata": {},
   "outputs": [
    {
     "data": {
      "text/plain": [
       "array([[0.        +0.j, 1.        +0.j, 0.        +0.j, 0.        +0.j,\n",
       "        0.        +0.j, 0.        +0.j, 0.        +0.j, 0.        +0.j],\n",
       "       [0.        +0.j, 0.        +0.j, 1.41421356+0.j, 0.        +0.j,\n",
       "        0.        +0.j, 0.        +0.j, 0.        +0.j, 0.        +0.j],\n",
       "       [0.        +0.j, 0.        +0.j, 0.        +0.j, 1.73205081+0.j,\n",
       "        0.        +0.j, 0.        +0.j, 0.        +0.j, 0.        +0.j],\n",
       "       [0.        +0.j, 0.        +0.j, 0.        +0.j, 0.        +0.j,\n",
       "        2.        +0.j, 0.        +0.j, 0.        +0.j, 0.        +0.j],\n",
       "       [0.        +0.j, 0.        +0.j, 0.        +0.j, 0.        +0.j,\n",
       "        0.        +0.j, 2.23606798+0.j, 0.        +0.j, 0.        +0.j],\n",
       "       [0.        +0.j, 0.        +0.j, 0.        +0.j, 0.        +0.j,\n",
       "        0.        +0.j, 0.        +0.j, 2.44948974+0.j, 0.        +0.j],\n",
       "       [0.        +0.j, 0.        +0.j, 0.        +0.j, 0.        +0.j,\n",
       "        0.        +0.j, 0.        +0.j, 0.        +0.j, 2.64575131+0.j],\n",
       "       [0.        +0.j, 0.        +0.j, 0.        +0.j, 0.        +0.j,\n",
       "        0.        +0.j, 0.        +0.j, 0.        +0.j, 0.        +0.j]])"
      ]
     },
     "execution_count": 8,
     "metadata": {},
     "output_type": "execute_result"
    }
   ],
   "source": [
    "a_pauli.to_matrix()"
   ]
  },
  {
   "cell_type": "markdown",
   "metadata": {},
   "source": [
    "# Identity operator for a single boson"
   ]
  },
  {
   "cell_type": "code",
   "execution_count": 9,
   "metadata": {},
   "outputs": [],
   "source": [
    "from scipy.sparse import identity\n",
    "iden = identity(L)"
   ]
  },
  {
   "cell_type": "code",
   "execution_count": 10,
   "metadata": {},
   "outputs": [
    {
     "name": "stdout",
     "output_type": "stream",
     "text": [
      "3\n"
     ]
    }
   ],
   "source": [
    "qubitOp = MatrixOp(primitive=iden)\n",
    "print(qubitOp.num_qubits)"
   ]
  },
  {
   "cell_type": "code",
   "execution_count": 11,
   "metadata": {},
   "outputs": [
    {
     "name": "stdout",
     "output_type": "stream",
     "text": [
      "III\n"
     ]
    }
   ],
   "source": [
    "i_pauli = qubitOp.to_pauli_op()\n",
    "print(i_pauli)"
   ]
  },
  {
   "cell_type": "code",
   "execution_count": 12,
   "metadata": {},
   "outputs": [
    {
     "data": {
      "text/plain": [
       "array([[1.+0.j, 0.+0.j, 0.+0.j, 0.+0.j, 0.+0.j, 0.+0.j, 0.+0.j, 0.+0.j],\n",
       "       [0.+0.j, 1.+0.j, 0.+0.j, 0.+0.j, 0.+0.j, 0.+0.j, 0.+0.j, 0.+0.j],\n",
       "       [0.+0.j, 0.+0.j, 1.+0.j, 0.+0.j, 0.+0.j, 0.+0.j, 0.+0.j, 0.+0.j],\n",
       "       [0.+0.j, 0.+0.j, 0.+0.j, 1.+0.j, 0.+0.j, 0.+0.j, 0.+0.j, 0.+0.j],\n",
       "       [0.+0.j, 0.+0.j, 0.+0.j, 0.+0.j, 1.+0.j, 0.+0.j, 0.+0.j, 0.+0.j],\n",
       "       [0.+0.j, 0.+0.j, 0.+0.j, 0.+0.j, 0.+0.j, 1.+0.j, 0.+0.j, 0.+0.j],\n",
       "       [0.+0.j, 0.+0.j, 0.+0.j, 0.+0.j, 0.+0.j, 0.+0.j, 1.+0.j, 0.+0.j],\n",
       "       [0.+0.j, 0.+0.j, 0.+0.j, 0.+0.j, 0.+0.j, 0.+0.j, 0.+0.j, 1.+0.j]])"
      ]
     },
     "execution_count": 12,
     "metadata": {},
     "output_type": "execute_result"
    }
   ],
   "source": [
    "i_pauli.to_matrix()"
   ]
  },
  {
   "cell_type": "markdown",
   "metadata": {},
   "source": [
    "# Create the Hamiltonian for 6 interacting bosons"
   ]
  },
  {
   "cell_type": "markdown",
   "metadata": {},
   "source": [
    "Try to use the information in [this QISKIT tutorial](https://qiskit.org/documentation/tutorials/operators/01_operator_flow.html)"
   ]
  },
  {
   "cell_type": "code",
   "execution_count": 13,
   "metadata": {},
   "outputs": [],
   "source": [
    "Nmat = 6  # BMN2 for SU(2) has 6 bosonic matrices"
   ]
  },
  {
   "cell_type": "code",
   "execution_count": 14,
   "metadata": {},
   "outputs": [
    {
     "name": "stdout",
     "output_type": "stream",
     "text": [
      "ListOp([\n",
      "  III,\n",
      "  III,\n",
      "  III,\n",
      "  III,\n",
      "  III,\n",
      "  III\n",
      "])\n"
     ]
    }
   ],
   "source": [
    "from qiskit.opflow import ListOp, TensoredOp\n",
    "\n",
    "boson = ListOp([i_pauli]*6)\n",
    "print(boson)"
   ]
  },
  {
   "cell_type": "code",
   "execution_count": 15,
   "metadata": {},
   "outputs": [
    {
     "name": "stdout",
     "output_type": "stream",
     "text": [
      "III\n"
     ]
    }
   ],
   "source": [
    "print(boson[0])"
   ]
  },
  {
   "cell_type": "code",
   "execution_count": 16,
   "metadata": {},
   "outputs": [
    {
     "data": {
      "text/plain": [
       "qiskit.opflow.primitive_ops.pauli_op.PauliOp"
      ]
     },
     "execution_count": 16,
     "metadata": {},
     "output_type": "execute_result"
    }
   ],
   "source": [
    "type(boson[0])"
   ]
  },
  {
   "cell_type": "markdown",
   "metadata": {},
   "source": [
    "We can use a list of `ListOp` and then perform the tensor product using `TensoredOp`"
   ]
  },
  {
   "cell_type": "code",
   "execution_count": 17,
   "metadata": {},
   "outputs": [],
   "source": [
    "# generically speaking, we construct the list of bosons and then take the outer product\n",
    "a_list = []  # this will contain a1...a6 as a list of ListOp\n",
    "for i in np.arange(0,Nmat):  # loop over all operators\n",
    "    operator_list = [i_pauli] * Nmat  # only the identity repeated Nmat times\n",
    "    operator_list[i] = a_pauli  # the i^th element is now the annihilation operator for a single boson\n",
    "    a_list.append(ListOp(operator_list))\n"
   ]
  },
  {
   "cell_type": "code",
   "execution_count": 18,
   "metadata": {},
   "outputs": [
    {
     "name": "stdout",
     "output_type": "stream",
     "text": [
      "ListOp([\n",
      "  SummedOp([\n",
      "    0.9517337620166573 * IIX,\n",
      "    0.9517337620166573j * IIY,\n",
      "    0.4829629131445341 * IXX,\n",
      "    -0.4829629131445341j * IXY,\n",
      "    0.4829629131445341j * IYX,\n",
      "    0.4829629131445341 * IYY,\n",
      "    -0.14271676764170982 * IZX,\n",
      "    -0.14271676764170982j * IZY,\n",
      "    0.25 * XXX,\n",
      "    -0.25j * XXY,\n",
      "    -0.25j * XYX,\n",
      "    -0.25 * XYY,\n",
      "    0.25j * YXX,\n",
      "    0.25 * YXY,\n",
      "    0.25 * YYX,\n",
      "    -0.25j * YYY,\n",
      "    -0.2687210601244379 * ZIX,\n",
      "    -0.2687210601244379j * ZIY,\n",
      "    -0.12940952255126034 * ZXX,\n",
      "    0.12940952255126034j * ZXY,\n",
      "    -0.12940952255126034j * ZYX,\n",
      "    -0.12940952255126034 * ZYY,\n",
      "    -0.040295934250509535 * ZZX,\n",
      "    -0.040295934250509535j * ZZY\n",
      "  ]),\n",
      "  III,\n",
      "  III,\n",
      "  III,\n",
      "  III,\n",
      "  III\n",
      "])\n"
     ]
    }
   ],
   "source": [
    "print(a_list[0])"
   ]
  },
  {
   "cell_type": "code",
   "execution_count": 19,
   "metadata": {},
   "outputs": [
    {
     "data": {
      "text/plain": [
       "qiskit.opflow.list_ops.list_op.ListOp"
      ]
     },
     "execution_count": 19,
     "metadata": {},
     "output_type": "execute_result"
    }
   ],
   "source": [
    "type(a_list[0])"
   ]
  },
  {
   "cell_type": "code",
   "execution_count": 20,
   "metadata": {},
   "outputs": [],
   "source": [
    "# here we create a list of operators which are the tensor products...\n",
    "a_tensor = [TensoredOp(x) for x in a_list]\n"
   ]
  },
  {
   "cell_type": "code",
   "execution_count": 21,
   "metadata": {},
   "outputs": [
    {
     "name": "stdout",
     "output_type": "stream",
     "text": [
      "TensoredOp([\n",
      "  SummedOp([\n",
      "    0.9517337620166573 * IIX,\n",
      "    0.9517337620166573j * IIY,\n",
      "    0.4829629131445341 * IXX,\n",
      "    -0.4829629131445341j * IXY,\n",
      "    0.4829629131445341j * IYX,\n",
      "    0.4829629131445341 * IYY,\n",
      "    -0.14271676764170982 * IZX,\n",
      "    -0.14271676764170982j * IZY,\n",
      "    0.25 * XXX,\n",
      "    -0.25j * XXY,\n",
      "    -0.25j * XYX,\n",
      "    -0.25 * XYY,\n",
      "    0.25j * YXX,\n",
      "    0.25 * YXY,\n",
      "    0.25 * YYX,\n",
      "    -0.25j * YYY,\n",
      "    -0.2687210601244379 * ZIX,\n",
      "    -0.2687210601244379j * ZIY,\n",
      "    -0.12940952255126034 * ZXX,\n",
      "    0.12940952255126034j * ZXY,\n",
      "    -0.12940952255126034j * ZYX,\n",
      "    -0.12940952255126034 * ZYY,\n",
      "    -0.040295934250509535 * ZZX,\n",
      "    -0.040295934250509535j * ZZY\n",
      "  ]),\n",
      "  III,\n",
      "  III,\n",
      "  III,\n",
      "  III,\n",
      "  III\n",
      "])\n"
     ]
    }
   ],
   "source": [
    "print(a_tensor[0])"
   ]
  },
  {
   "cell_type": "code",
   "execution_count": 22,
   "metadata": {},
   "outputs": [
    {
     "name": "stdout",
     "output_type": "stream",
     "text": [
      "0.9517337620166573 * IIXIIIIIIIIIIIIIII\n",
      "- 0.2687210601244379 * ZIXIIIIIIIIIIIIIII\n",
      "- 0.14271676764170982 * IZXIIIIIIIIIIIIIII\n",
      "- 0.040295934250509535 * ZZXIIIIIIIIIIIIIII\n",
      "+ 0.9517337620166573j * IIYIIIIIIIIIIIIIII\n",
      "+ -0.2687210601244379j * ZIYIIIIIIIIIIIIIII\n",
      "+ -0.14271676764170982j * IZYIIIIIIIIIIIIIII\n",
      "+ -0.040295934250509535j * ZZYIIIIIIIIIIIIIII\n",
      "+ 0.4829629131445341 * IXXIIIIIIIIIIIIIII\n",
      "- 0.12940952255126034 * ZXXIIIIIIIIIIIIIII\n",
      "+ 0.4829629131445341j * IYXIIIIIIIIIIIIIII\n",
      "+ -0.12940952255126034j * ZYXIIIIIIIIIIIIIII\n",
      "+ -0.4829629131445341j * IXYIIIIIIIIIIIIIII\n",
      "+ 0.12940952255126034j * ZXYIIIIIIIIIIIIIII\n",
      "+ 0.4829629131445341 * IYYIIIIIIIIIIIIIII\n",
      "- 0.12940952255126034 * ZYYIIIIIIIIIIIIIII\n",
      "+ 0.25 * XXXIIIIIIIIIIIIIII\n",
      "+ 0.25j * YXXIIIIIIIIIIIIIII\n",
      "+ -0.25j * XYXIIIIIIIIIIIIIII\n",
      "+ 0.25 * YYXIIIIIIIIIIIIIII\n",
      "+ -0.25j * XXYIIIIIIIIIIIIIII\n",
      "+ 0.25 * YXYIIIIIIIIIIIIIII\n",
      "- 0.25 * XYYIIIIIIIIIIIIIII\n",
      "+ -0.25j * YYYIIIIIIIIIIIIIII\n"
     ]
    }
   ],
   "source": [
    "print(a_tensor[0].to_pauli_op())"
   ]
  },
  {
   "cell_type": "markdown",
   "metadata": {},
   "source": [
    "The representation is already in terms of Pauli operators."
   ]
  },
  {
   "cell_type": "code",
   "execution_count": 23,
   "metadata": {},
   "outputs": [
    {
     "data": {
      "text/plain": [
       "18"
      ]
     },
     "execution_count": 23,
     "metadata": {},
     "output_type": "execute_result"
    }
   ],
   "source": [
    "a_tensor[0].num_qubits"
   ]
  },
  {
   "cell_type": "code",
   "execution_count": 24,
   "metadata": {},
   "outputs": [
    {
     "data": {
      "text/plain": [
       "scipy.sparse.csr.csr_matrix"
      ]
     },
     "execution_count": 24,
     "metadata": {},
     "output_type": "execute_result"
    }
   ],
   "source": [
    "sparse = a_tensor[0].to_spmatrix()\n",
    "type(sparse)"
   ]
  },
  {
   "cell_type": "code",
   "execution_count": 25,
   "metadata": {},
   "outputs": [
    {
     "data": {
      "text/plain": [
       "(8, 8)"
      ]
     },
     "execution_count": 25,
     "metadata": {},
     "output_type": "execute_result"
    }
   ],
   "source": [
    "sparse.shape"
   ]
  },
  {
   "cell_type": "code",
   "execution_count": 26,
   "metadata": {},
   "outputs": [
    {
     "ename": "ValueError",
     "evalue": "'to_matrix' will return an exponentially large matrix, in this case '262144x262144' elements. Set algorithm_globals.massive=True or the method argument massive=True if you want to proceed.",
     "output_type": "error",
     "traceback": [
      "\u001b[0;31m---------------------------------------------------------------------------\u001b[0m",
      "\u001b[0;31mValueError\u001b[0m                                Traceback (most recent call last)",
      "\u001b[0;32m/tmp/ipykernel_72959/1111705262.py\u001b[0m in \u001b[0;36m<module>\u001b[0;34m\u001b[0m\n\u001b[0;32m----> 1\u001b[0;31m \u001b[0mfull\u001b[0m \u001b[0;34m=\u001b[0m \u001b[0ma_tensor\u001b[0m\u001b[0;34m[\u001b[0m\u001b[0;36m0\u001b[0m\u001b[0;34m]\u001b[0m\u001b[0;34m.\u001b[0m\u001b[0mto_matrix\u001b[0m\u001b[0;34m(\u001b[0m\u001b[0;34m)\u001b[0m\u001b[0;34m\u001b[0m\u001b[0;34m\u001b[0m\u001b[0m\n\u001b[0m\u001b[1;32m      2\u001b[0m \u001b[0mlen\u001b[0m\u001b[0;34m(\u001b[0m\u001b[0mfull\u001b[0m\u001b[0;34m)\u001b[0m\u001b[0;34m\u001b[0m\u001b[0;34m\u001b[0m\u001b[0m\n",
      "\u001b[0;32m~/miniconda3/envs/qiskit-env/lib/python3.9/site-packages/qiskit/opflow/list_ops/list_op.py\u001b[0m in \u001b[0;36mto_matrix\u001b[0;34m(self, massive)\u001b[0m\n\u001b[1;32m    346\u001b[0m \u001b[0;34m\u001b[0m\u001b[0m\n\u001b[1;32m    347\u001b[0m     \u001b[0;32mdef\u001b[0m \u001b[0mto_matrix\u001b[0m\u001b[0;34m(\u001b[0m\u001b[0mself\u001b[0m\u001b[0;34m,\u001b[0m \u001b[0mmassive\u001b[0m\u001b[0;34m:\u001b[0m \u001b[0mbool\u001b[0m \u001b[0;34m=\u001b[0m \u001b[0;32mFalse\u001b[0m\u001b[0;34m)\u001b[0m \u001b[0;34m->\u001b[0m \u001b[0mnp\u001b[0m\u001b[0;34m.\u001b[0m\u001b[0mndarray\u001b[0m\u001b[0;34m:\u001b[0m\u001b[0;34m\u001b[0m\u001b[0;34m\u001b[0m\u001b[0m\n\u001b[0;32m--> 348\u001b[0;31m         \u001b[0mOperatorBase\u001b[0m\u001b[0;34m.\u001b[0m\u001b[0m_check_massive\u001b[0m\u001b[0;34m(\u001b[0m\u001b[0;34m\"to_matrix\"\u001b[0m\u001b[0;34m,\u001b[0m \u001b[0;32mTrue\u001b[0m\u001b[0;34m,\u001b[0m \u001b[0mself\u001b[0m\u001b[0;34m.\u001b[0m\u001b[0mnum_qubits\u001b[0m\u001b[0;34m,\u001b[0m \u001b[0mmassive\u001b[0m\u001b[0;34m)\u001b[0m\u001b[0;34m\u001b[0m\u001b[0;34m\u001b[0m\u001b[0m\n\u001b[0m\u001b[1;32m    349\u001b[0m \u001b[0;34m\u001b[0m\u001b[0m\n\u001b[1;32m    350\u001b[0m         \u001b[0;31m# Combination function must be able to handle classical values.\u001b[0m\u001b[0;34m\u001b[0m\u001b[0;34m\u001b[0m\u001b[0;34m\u001b[0m\u001b[0m\n",
      "\u001b[0;32m~/miniconda3/envs/qiskit-env/lib/python3.9/site-packages/qiskit/opflow/operator_base.py\u001b[0m in \u001b[0;36m_check_massive\u001b[0;34m(method, matrix, num_qubits, massive)\u001b[0m\n\u001b[1;32m    488\u001b[0m                 \u001b[0mobj_type\u001b[0m \u001b[0;34m=\u001b[0m \u001b[0;34m\"vector\"\u001b[0m\u001b[0;34m\u001b[0m\u001b[0;34m\u001b[0m\u001b[0m\n\u001b[1;32m    489\u001b[0m                 \u001b[0mdimensions\u001b[0m \u001b[0;34m=\u001b[0m \u001b[0;34mf\"{dim}\"\u001b[0m\u001b[0;34m\u001b[0m\u001b[0;34m\u001b[0m\u001b[0m\n\u001b[0;32m--> 490\u001b[0;31m             raise ValueError(\n\u001b[0m\u001b[1;32m    491\u001b[0m                 \u001b[0;34mf\"'{method}' will return an exponentially large {obj_type}, \"\u001b[0m\u001b[0;34m\u001b[0m\u001b[0;34m\u001b[0m\u001b[0m\n\u001b[1;32m    492\u001b[0m                 \u001b[0;34mf\"in this case '{dimensions}' elements. \"\u001b[0m\u001b[0;34m\u001b[0m\u001b[0;34m\u001b[0m\u001b[0m\n",
      "\u001b[0;31mValueError\u001b[0m: 'to_matrix' will return an exponentially large matrix, in this case '262144x262144' elements. Set algorithm_globals.massive=True or the method argument massive=True if you want to proceed."
     ]
    }
   ],
   "source": [
    "# from qiskit.utils import algorithm_globals\n",
    "# algorithm_globals.massive=True  # needed to big matrices...\n",
    "# full = a_tensor[0].to_matrix()\n",
    "# len(full)"
   ]
  },
  {
   "cell_type": "code",
   "execution_count": null,
   "metadata": {},
   "outputs": [
    {
     "data": {
      "text/plain": [
       "(4096, 4096)"
      ]
     },
     "execution_count": 26,
     "metadata": {},
     "output_type": "execute_result"
    }
   ],
   "source": [
    "# full.shape"
   ]
  },
  {
   "cell_type": "markdown",
   "metadata": {},
   "source": [
    "We also create the identity in this new tensor space of 6 bosons"
   ]
  },
  {
   "cell_type": "code",
   "execution_count": 27,
   "metadata": {},
   "outputs": [],
   "source": [
    "i_tensor = TensoredOp(ListOp([i_pauli] * Nmat))"
   ]
  },
  {
   "cell_type": "code",
   "execution_count": 28,
   "metadata": {},
   "outputs": [
    {
     "data": {
      "text/plain": [
       "qiskit.opflow.list_ops.tensored_op.TensoredOp"
      ]
     },
     "execution_count": 28,
     "metadata": {},
     "output_type": "execute_result"
    }
   ],
   "source": [
    "type(i_tensor)"
   ]
  },
  {
   "cell_type": "code",
   "execution_count": 29,
   "metadata": {},
   "outputs": [
    {
     "name": "stdout",
     "output_type": "stream",
     "text": [
      "TensoredOp([\n",
      "  III,\n",
      "  III,\n",
      "  III,\n",
      "  III,\n",
      "  III,\n",
      "  III\n",
      "])\n"
     ]
    }
   ],
   "source": [
    "print(i_tensor)"
   ]
  },
  {
   "cell_type": "code",
   "execution_count": 30,
   "metadata": {},
   "outputs": [
    {
     "data": {
      "text/plain": [
       "PauliOp(Pauli('IIIIIIIIIIIIIIIIII'), coeff=1.0)"
      ]
     },
     "execution_count": 30,
     "metadata": {},
     "output_type": "execute_result"
    }
   ],
   "source": [
    "i_tensor.to_pauli_op()"
   ]
  },
  {
   "cell_type": "code",
   "execution_count": 31,
   "metadata": {},
   "outputs": [
    {
     "data": {
      "text/plain": [
       "PauliOp(Pauli('IIIIII'), coeff=1.0)"
      ]
     },
     "execution_count": 31,
     "metadata": {},
     "output_type": "execute_result"
    }
   ],
   "source": [
    "from qiskit.opflow import I\n",
    "\n",
    "I^Nmat"
   ]
  },
  {
   "cell_type": "code",
   "execution_count": null,
   "metadata": {},
   "outputs": [
    {
     "data": {
      "text/plain": [
       "6"
      ]
     },
     "execution_count": 44,
     "metadata": {},
     "output_type": "execute_result"
    }
   ],
   "source": [
    "i_tensor.num_qubits"
   ]
  },
  {
   "cell_type": "code",
   "execution_count": null,
   "metadata": {},
   "outputs": [
    {
     "data": {
      "text/plain": [
       "4096"
      ]
     },
     "execution_count": 30,
     "metadata": {},
     "output_type": "execute_result"
    }
   ],
   "source": [
    "# full = i_tensor.to_matrix()\n",
    "# len(full)"
   ]
  },
  {
   "cell_type": "code",
   "execution_count": 32,
   "metadata": {},
   "outputs": [
    {
     "name": "stdout",
     "output_type": "stream",
     "text": [
      "  (0, 0)\t(1+0j)\n",
      "  (1, 1)\t(1+0j)\n",
      "  (2, 2)\t(1+0j)\n",
      "  (3, 3)\t(1+0j)\n",
      "  (4, 4)\t(1+0j)\n",
      "  (5, 5)\t(1+0j)\n",
      "  (6, 6)\t(1+0j)\n",
      "  (7, 7)\t(1+0j)\n"
     ]
    }
   ],
   "source": [
    "print(i_tensor.to_spmatrix())"
   ]
  },
  {
   "cell_type": "markdown",
   "metadata": {},
   "source": [
    "## Create the position operators"
   ]
  },
  {
   "cell_type": "code",
   "execution_count": 33,
   "metadata": {},
   "outputs": [],
   "source": [
    "# for each boson they are constructed using a and adag\n",
    "x_tensor = [1/np.sqrt(2)*(~x + x) for x in a_tensor]"
   ]
  },
  {
   "cell_type": "code",
   "execution_count": 34,
   "metadata": {},
   "outputs": [
    {
     "name": "stdout",
     "output_type": "stream",
     "text": [
      "0.7071067811865475 * SummedOp([\n",
      "  TensoredOp([\n",
      "    SummedOp([\n",
      "      0.9517337620166573 * IIX,\n",
      "      -0.9517337620166573j * IIY,\n",
      "      0.4829629131445341 * IXX,\n",
      "      0.4829629131445341j * IXY,\n",
      "      -0.4829629131445341j * IYX,\n",
      "      0.4829629131445341 * IYY,\n",
      "      -0.14271676764170982 * IZX,\n",
      "      0.14271676764170982j * IZY,\n",
      "      0.25 * XXX,\n",
      "      0.25j * XXY,\n",
      "      0.25j * XYX,\n",
      "      -0.25 * XYY,\n",
      "      -0.25j * YXX,\n",
      "      0.25 * YXY,\n",
      "      0.25 * YYX,\n",
      "      0.25j * YYY,\n",
      "      -0.2687210601244379 * ZIX,\n",
      "      0.2687210601244379j * ZIY,\n",
      "      -0.12940952255126034 * ZXX,\n",
      "      -0.12940952255126034j * ZXY,\n",
      "      0.12940952255126034j * ZYX,\n",
      "      -0.12940952255126034 * ZYY,\n",
      "      -0.040295934250509535 * ZZX,\n",
      "      0.040295934250509535j * ZZY\n",
      "    ]),\n",
      "    III,\n",
      "    III,\n",
      "    III,\n",
      "    III,\n",
      "    III\n",
      "  ]),\n",
      "  TensoredOp([\n",
      "    SummedOp([\n",
      "      0.9517337620166573 * IIX,\n",
      "      0.9517337620166573j * IIY,\n",
      "      0.4829629131445341 * IXX,\n",
      "      -0.4829629131445341j * IXY,\n",
      "      0.4829629131445341j * IYX,\n",
      "      0.4829629131445341 * IYY,\n",
      "      -0.14271676764170982 * IZX,\n",
      "      -0.14271676764170982j * IZY,\n",
      "      0.25 * XXX,\n",
      "      -0.25j * XXY,\n",
      "      -0.25j * XYX,\n",
      "      -0.25 * XYY,\n",
      "      0.25j * YXX,\n",
      "      0.25 * YXY,\n",
      "      0.25 * YYX,\n",
      "      -0.25j * YYY,\n",
      "      -0.2687210601244379 * ZIX,\n",
      "      -0.2687210601244379j * ZIY,\n",
      "      -0.12940952255126034 * ZXX,\n",
      "      0.12940952255126034j * ZXY,\n",
      "      -0.12940952255126034j * ZYX,\n",
      "      -0.12940952255126034 * ZYY,\n",
      "      -0.040295934250509535 * ZZX,\n",
      "      -0.040295934250509535j * ZZY\n",
      "    ]),\n",
      "    III,\n",
      "    III,\n",
      "    III,\n",
      "    III,\n",
      "    III\n",
      "  ])\n",
      "])\n"
     ]
    }
   ],
   "source": [
    "print(x_tensor[0])"
   ]
  },
  {
   "cell_type": "code",
   "execution_count": 35,
   "metadata": {},
   "outputs": [
    {
     "name": "stdout",
     "output_type": "stream",
     "text": [
      "SummedOp([\n",
      "  1.3459547940123242 * IIXIIIIIIIIIIIIIII,\n",
      "  -0.38002896772325595 * ZIXIIIIIIIIIIIIIII,\n",
      "  -0.20183198837695568 * IZXIIIIIIIIIIIIIII,\n",
      "  -0.056987056725565095 * ZZXIIIIIIIIIIIIIII,\n",
      "  0.6830127018922192 * IXXIIIIIIIIIIIIIII,\n",
      "  -0.18301270189221924 * ZXXIIIIIIIIIIIIIII,\n",
      "  0.6830127018922192 * IYYIIIIIIIIIIIIIII,\n",
      "  -0.18301270189221924 * ZYYIIIIIIIIIIIIIII,\n",
      "  0.35355339059327373 * XXXIIIIIIIIIIIIIII,\n",
      "  0.35355339059327373 * YYXIIIIIIIIIIIIIII,\n",
      "  0.35355339059327373 * YXYIIIIIIIIIIIIIII,\n",
      "  -0.35355339059327373 * XYYIIIIIIIIIIIIIII\n",
      "])\n"
     ]
    }
   ],
   "source": [
    "print(x_tensor[0].to_pauli_op())"
   ]
  },
  {
   "cell_type": "code",
   "execution_count": 36,
   "metadata": {},
   "outputs": [
    {
     "name": "stdout",
     "output_type": "stream",
     "text": [
      "  (0, 1)\t(0.7071067811865475+0j)\n",
      "  (1, 0)\t(0.7071067811865475+0j)\n",
      "  (1, 2)\t(0.9999999999999998+0j)\n",
      "  (2, 1)\t(0.9999999999999998+0j)\n",
      "  (2, 3)\t(1.2247448713915892+0j)\n",
      "  (3, 2)\t(1.2247448713915892+0j)\n",
      "  (3, 4)\t(1.414213562373095+0j)\n",
      "  (4, 3)\t(1.414213562373095+0j)\n",
      "  (4, 5)\t(1.5811388300841893+0j)\n",
      "  (5, 4)\t(1.5811388300841893+0j)\n",
      "  (5, 6)\t(1.732050807568877+0j)\n",
      "  (6, 5)\t(1.732050807568877+0j)\n",
      "  (6, 7)\t(1.8708286933869713+0j)\n",
      "  (7, 6)\t(1.8708286933869713+0j)\n"
     ]
    }
   ],
   "source": [
    "print(x_tensor[0].to_spmatrix())"
   ]
  },
  {
   "cell_type": "markdown",
   "metadata": {},
   "source": [
    "## Create the full Hamiltonian"
   ]
  },
  {
   "cell_type": "code",
   "execution_count": 37,
   "metadata": {},
   "outputs": [],
   "source": [
    "from qiskit.opflow import SummedOp"
   ]
  },
  {
   "cell_type": "code",
   "execution_count": 38,
   "metadata": {},
   "outputs": [],
   "source": [
    "H_zero = 0.5*Nmat*i_tensor"
   ]
  },
  {
   "cell_type": "code",
   "execution_count": 39,
   "metadata": {},
   "outputs": [
    {
     "name": "stdout",
     "output_type": "stream",
     "text": [
      "3.0 * TensoredOp([\n",
      "  III,\n",
      "  III,\n",
      "  III,\n",
      "  III,\n",
      "  III,\n",
      "  III\n",
      "])\n"
     ]
    }
   ],
   "source": [
    "print(H_zero)"
   ]
  },
  {
   "cell_type": "code",
   "execution_count": 40,
   "metadata": {},
   "outputs": [],
   "source": [
    "H_zero_pauli = 0.5*Nmat*(I^Nmat)"
   ]
  },
  {
   "cell_type": "code",
   "execution_count": 41,
   "metadata": {},
   "outputs": [
    {
     "name": "stdout",
     "output_type": "stream",
     "text": [
      "3.0 * IIIIIIIIIIIIIIIIII\n"
     ]
    }
   ],
   "source": [
    "print(H_zero.to_pauli_op())"
   ]
  },
  {
   "cell_type": "code",
   "execution_count": 42,
   "metadata": {},
   "outputs": [
    {
     "name": "stdout",
     "output_type": "stream",
     "text": [
      "3.0 * IIIIII\n"
     ]
    }
   ],
   "source": [
    "print(H_zero_pauli)"
   ]
  },
  {
   "cell_type": "code",
   "execution_count": 43,
   "metadata": {},
   "outputs": [
    {
     "data": {
      "text/plain": [
       "<8x8 sparse matrix of type '<class 'numpy.complex128'>'\n",
       "\twith 8 stored elements in Compressed Sparse Row format>"
      ]
     },
     "execution_count": 43,
     "metadata": {},
     "output_type": "execute_result"
    }
   ],
   "source": [
    "H_zero.to_spmatrix()"
   ]
  },
  {
   "cell_type": "code",
   "execution_count": 44,
   "metadata": {},
   "outputs": [
    {
     "data": {
      "text/plain": [
       "PauliOp(Pauli('IIIIIIIIIIIIIIIIII'), coeff=3.0)"
      ]
     },
     "execution_count": 44,
     "metadata": {},
     "output_type": "execute_result"
    }
   ],
   "source": [
    "H_zero.to_pauli_op()"
   ]
  },
  {
   "cell_type": "code",
   "execution_count": 45,
   "metadata": {},
   "outputs": [],
   "source": [
    "### Harmonic oscillator\n",
    "# this should be summed over all the bosons (Nmat)\n",
    "H_list = [H_zero]\n",
    "for op in a_tensor:\n",
    "    H_list.append((~op @ op))\n",
    "H_osc = SummedOp(H_list)\n"
   ]
  },
  {
   "cell_type": "code",
   "execution_count": 46,
   "metadata": {},
   "outputs": [
    {
     "name": "stdout",
     "output_type": "stream",
     "text": [
      "SummedOp([\n",
      "  3.0 * TensoredOp([\n",
      "    III,\n",
      "    III,\n",
      "    III,\n",
      "    III,\n",
      "    III,\n",
      "    III\n",
      "  ]),\n",
      "  ComposedOp([\n",
      "    TensoredOp([\n",
      "      SummedOp([\n",
      "        0.9517337620166573 * IIX,\n",
      "        -0.9517337620166573j * IIY,\n",
      "        0.4829629131445341 * IXX,\n",
      "        0.4829629131445341j * IXY,\n",
      "        -0.4829629131445341j * IYX,\n",
      "        0.4829629131445341 * IYY,\n",
      "        -0.14271676764170982 * IZX,\n",
      "        0.14271676764170982j * IZY,\n",
      "        0.25 * XXX,\n",
      "        0.25j * XXY,\n",
      "        0.25j * XYX,\n",
      "        -0.25 * XYY,\n",
      "        -0.25j * YXX,\n",
      "        0.25 * YXY,\n",
      "        0.25 * YYX,\n",
      "        0.25j * YYY,\n",
      "        -0.2687210601244379 * ZIX,\n",
      "        0.2687210601244379j * ZIY,\n",
      "        -0.12940952255126034 * ZXX,\n",
      "        -0.12940952255126034j * ZXY,\n",
      "        0.12940952255126034j * ZYX,\n",
      "        -0.12940952255126034 * ZYY,\n",
      "        -0.040295934250509535 * ZZX,\n",
      "        0.040295934250509535j * ZZY\n",
      "      ]),\n",
      "      III,\n",
      "      III,\n",
      "      III,\n",
      "      III,\n",
      "      III\n",
      "    ]),\n",
      "    TensoredOp([\n",
      "      SummedOp([\n",
      "        0.9517337620166573 * IIX,\n",
      "        0.9517337620166573j * IIY,\n",
      "        0.4829629131445341 * IXX,\n",
      "        -0.4829629131445341j * IXY,\n",
      "        0.4829629131445341j * IYX,\n",
      "        0.4829629131445341 * IYY,\n",
      "        -0.14271676764170982 * IZX,\n",
      "        -0.14271676764170982j * IZY,\n",
      "        0.25 * XXX,\n",
      "        -0.25j * XXY,\n",
      "        -0.25j * XYX,\n",
      "        -0.25 * XYY,\n",
      "        0.25j * YXX,\n",
      "        0.25 * YXY,\n",
      "        0.25 * YYX,\n",
      "        -0.25j * YYY,\n",
      "        -0.2687210601244379 * ZIX,\n",
      "        -0.2687210601244379j * ZIY,\n",
      "        -0.12940952255126034 * ZXX,\n",
      "        0.12940952255126034j * ZXY,\n",
      "        -0.12940952255126034j * ZYX,\n",
      "        -0.12940952255126034 * ZYY,\n",
      "        -0.040295934250509535 * ZZX,\n",
      "        -0.040295934250509535j * ZZY\n",
      "      ]),\n",
      "      III,\n",
      "      III,\n",
      "      III,\n",
      "      III,\n",
      "      III\n",
      "    ])\n",
      "  ]),\n",
      "  ComposedOp([\n",
      "    TensoredOp([\n",
      "      III,\n",
      "      SummedOp([\n",
      "        0.9517337620166573 * IIX,\n",
      "        -0.9517337620166573j * IIY,\n",
      "        0.4829629131445341 * IXX,\n",
      "        0.4829629131445341j * IXY,\n",
      "        -0.4829629131445341j * IYX,\n",
      "        0.4829629131445341 * IYY,\n",
      "        -0.14271676764170982 * IZX,\n",
      "        0.14271676764170982j * IZY,\n",
      "        0.25 * XXX,\n",
      "        0.25j * XXY,\n",
      "        0.25j * XYX,\n",
      "        -0.25 * XYY,\n",
      "        -0.25j * YXX,\n",
      "        0.25 * YXY,\n",
      "        0.25 * YYX,\n",
      "        0.25j * YYY,\n",
      "        -0.2687210601244379 * ZIX,\n",
      "        0.2687210601244379j * ZIY,\n",
      "        -0.12940952255126034 * ZXX,\n",
      "        -0.12940952255126034j * ZXY,\n",
      "        0.12940952255126034j * ZYX,\n",
      "        -0.12940952255126034 * ZYY,\n",
      "        -0.040295934250509535 * ZZX,\n",
      "        0.040295934250509535j * ZZY\n",
      "      ]),\n",
      "      III,\n",
      "      III,\n",
      "      III,\n",
      "      III\n",
      "    ]),\n",
      "    TensoredOp([\n",
      "      III,\n",
      "      SummedOp([\n",
      "        0.9517337620166573 * IIX,\n",
      "        0.9517337620166573j * IIY,\n",
      "        0.4829629131445341 * IXX,\n",
      "        -0.4829629131445341j * IXY,\n",
      "        0.4829629131445341j * IYX,\n",
      "        0.4829629131445341 * IYY,\n",
      "        -0.14271676764170982 * IZX,\n",
      "        -0.14271676764170982j * IZY,\n",
      "        0.25 * XXX,\n",
      "        -0.25j * XXY,\n",
      "        -0.25j * XYX,\n",
      "        -0.25 * XYY,\n",
      "        0.25j * YXX,\n",
      "        0.25 * YXY,\n",
      "        0.25 * YYX,\n",
      "        -0.25j * YYY,\n",
      "        -0.2687210601244379 * ZIX,\n",
      "        -0.2687210601244379j * ZIY,\n",
      "        -0.12940952255126034 * ZXX,\n",
      "        0.12940952255126034j * ZXY,\n",
      "        -0.12940952255126034j * ZYX,\n",
      "        -0.12940952255126034 * ZYY,\n",
      "        -0.040295934250509535 * ZZX,\n",
      "        -0.040295934250509535j * ZZY\n",
      "      ]),\n",
      "      III,\n",
      "      III,\n",
      "      III,\n",
      "      III\n",
      "    ])\n",
      "  ]),\n",
      "  ComposedOp([\n",
      "    TensoredOp([\n",
      "      III,\n",
      "      III,\n",
      "      SummedOp([\n",
      "        0.9517337620166573 * IIX,\n",
      "        -0.9517337620166573j * IIY,\n",
      "        0.4829629131445341 * IXX,\n",
      "        0.4829629131445341j * IXY,\n",
      "        -0.4829629131445341j * IYX,\n",
      "        0.4829629131445341 * IYY,\n",
      "        -0.14271676764170982 * IZX,\n",
      "        0.14271676764170982j * IZY,\n",
      "        0.25 * XXX,\n",
      "        0.25j * XXY,\n",
      "        0.25j * XYX,\n",
      "        -0.25 * XYY,\n",
      "        -0.25j * YXX,\n",
      "        0.25 * YXY,\n",
      "        0.25 * YYX,\n",
      "        0.25j * YYY,\n",
      "        -0.2687210601244379 * ZIX,\n",
      "        0.2687210601244379j * ZIY,\n",
      "        -0.12940952255126034 * ZXX,\n",
      "        -0.12940952255126034j * ZXY,\n",
      "        0.12940952255126034j * ZYX,\n",
      "        -0.12940952255126034 * ZYY,\n",
      "        -0.040295934250509535 * ZZX,\n",
      "        0.040295934250509535j * ZZY\n",
      "      ]),\n",
      "      III,\n",
      "      III,\n",
      "      III\n",
      "    ]),\n",
      "    TensoredOp([\n",
      "      III,\n",
      "      III,\n",
      "      SummedOp([\n",
      "        0.9517337620166573 * IIX,\n",
      "        0.9517337620166573j * IIY,\n",
      "        0.4829629131445341 * IXX,\n",
      "        -0.4829629131445341j * IXY,\n",
      "        0.4829629131445341j * IYX,\n",
      "        0.4829629131445341 * IYY,\n",
      "        -0.14271676764170982 * IZX,\n",
      "        -0.14271676764170982j * IZY,\n",
      "        0.25 * XXX,\n",
      "        -0.25j * XXY,\n",
      "        -0.25j * XYX,\n",
      "        -0.25 * XYY,\n",
      "        0.25j * YXX,\n",
      "        0.25 * YXY,\n",
      "        0.25 * YYX,\n",
      "        -0.25j * YYY,\n",
      "        -0.2687210601244379 * ZIX,\n",
      "        -0.2687210601244379j * ZIY,\n",
      "        -0.12940952255126034 * ZXX,\n",
      "        0.12940952255126034j * ZXY,\n",
      "        -0.12940952255126034j * ZYX,\n",
      "        -0.12940952255126034 * ZYY,\n",
      "        -0.040295934250509535 * ZZX,\n",
      "        -0.040295934250509535j * ZZY\n",
      "      ]),\n",
      "      III,\n",
      "      III,\n",
      "      III\n",
      "    ])\n",
      "  ]),\n",
      "  ComposedOp([\n",
      "    TensoredOp([\n",
      "      III,\n",
      "      III,\n",
      "      III,\n",
      "      SummedOp([\n",
      "        0.9517337620166573 * IIX,\n",
      "        -0.9517337620166573j * IIY,\n",
      "        0.4829629131445341 * IXX,\n",
      "        0.4829629131445341j * IXY,\n",
      "        -0.4829629131445341j * IYX,\n",
      "        0.4829629131445341 * IYY,\n",
      "        -0.14271676764170982 * IZX,\n",
      "        0.14271676764170982j * IZY,\n",
      "        0.25 * XXX,\n",
      "        0.25j * XXY,\n",
      "        0.25j * XYX,\n",
      "        -0.25 * XYY,\n",
      "        -0.25j * YXX,\n",
      "        0.25 * YXY,\n",
      "        0.25 * YYX,\n",
      "        0.25j * YYY,\n",
      "        -0.2687210601244379 * ZIX,\n",
      "        0.2687210601244379j * ZIY,\n",
      "        -0.12940952255126034 * ZXX,\n",
      "        -0.12940952255126034j * ZXY,\n",
      "        0.12940952255126034j * ZYX,\n",
      "        -0.12940952255126034 * ZYY,\n",
      "        -0.040295934250509535 * ZZX,\n",
      "        0.040295934250509535j * ZZY\n",
      "      ]),\n",
      "      III,\n",
      "      III\n",
      "    ]),\n",
      "    TensoredOp([\n",
      "      III,\n",
      "      III,\n",
      "      III,\n",
      "      SummedOp([\n",
      "        0.9517337620166573 * IIX,\n",
      "        0.9517337620166573j * IIY,\n",
      "        0.4829629131445341 * IXX,\n",
      "        -0.4829629131445341j * IXY,\n",
      "        0.4829629131445341j * IYX,\n",
      "        0.4829629131445341 * IYY,\n",
      "        -0.14271676764170982 * IZX,\n",
      "        -0.14271676764170982j * IZY,\n",
      "        0.25 * XXX,\n",
      "        -0.25j * XXY,\n",
      "        -0.25j * XYX,\n",
      "        -0.25 * XYY,\n",
      "        0.25j * YXX,\n",
      "        0.25 * YXY,\n",
      "        0.25 * YYX,\n",
      "        -0.25j * YYY,\n",
      "        -0.2687210601244379 * ZIX,\n",
      "        -0.2687210601244379j * ZIY,\n",
      "        -0.12940952255126034 * ZXX,\n",
      "        0.12940952255126034j * ZXY,\n",
      "        -0.12940952255126034j * ZYX,\n",
      "        -0.12940952255126034 * ZYY,\n",
      "        -0.040295934250509535 * ZZX,\n",
      "        -0.040295934250509535j * ZZY\n",
      "      ]),\n",
      "      III,\n",
      "      III\n",
      "    ])\n",
      "  ]),\n",
      "  ComposedOp([\n",
      "    TensoredOp([\n",
      "      III,\n",
      "      III,\n",
      "      III,\n",
      "      III,\n",
      "      SummedOp([\n",
      "        0.9517337620166573 * IIX,\n",
      "        -0.9517337620166573j * IIY,\n",
      "        0.4829629131445341 * IXX,\n",
      "        0.4829629131445341j * IXY,\n",
      "        -0.4829629131445341j * IYX,\n",
      "        0.4829629131445341 * IYY,\n",
      "        -0.14271676764170982 * IZX,\n",
      "        0.14271676764170982j * IZY,\n",
      "        0.25 * XXX,\n",
      "        0.25j * XXY,\n",
      "        0.25j * XYX,\n",
      "        -0.25 * XYY,\n",
      "        -0.25j * YXX,\n",
      "        0.25 * YXY,\n",
      "        0.25 * YYX,\n",
      "        0.25j * YYY,\n",
      "        -0.2687210601244379 * ZIX,\n",
      "        0.2687210601244379j * ZIY,\n",
      "        -0.12940952255126034 * ZXX,\n",
      "        -0.12940952255126034j * ZXY,\n",
      "        0.12940952255126034j * ZYX,\n",
      "        -0.12940952255126034 * ZYY,\n",
      "        -0.040295934250509535 * ZZX,\n",
      "        0.040295934250509535j * ZZY\n",
      "      ]),\n",
      "      III\n",
      "    ]),\n",
      "    TensoredOp([\n",
      "      III,\n",
      "      III,\n",
      "      III,\n",
      "      III,\n",
      "      SummedOp([\n",
      "        0.9517337620166573 * IIX,\n",
      "        0.9517337620166573j * IIY,\n",
      "        0.4829629131445341 * IXX,\n",
      "        -0.4829629131445341j * IXY,\n",
      "        0.4829629131445341j * IYX,\n",
      "        0.4829629131445341 * IYY,\n",
      "        -0.14271676764170982 * IZX,\n",
      "        -0.14271676764170982j * IZY,\n",
      "        0.25 * XXX,\n",
      "        -0.25j * XXY,\n",
      "        -0.25j * XYX,\n",
      "        -0.25 * XYY,\n",
      "        0.25j * YXX,\n",
      "        0.25 * YXY,\n",
      "        0.25 * YYX,\n",
      "        -0.25j * YYY,\n",
      "        -0.2687210601244379 * ZIX,\n",
      "        -0.2687210601244379j * ZIY,\n",
      "        -0.12940952255126034 * ZXX,\n",
      "        0.12940952255126034j * ZXY,\n",
      "        -0.12940952255126034j * ZYX,\n",
      "        -0.12940952255126034 * ZYY,\n",
      "        -0.040295934250509535 * ZZX,\n",
      "        -0.040295934250509535j * ZZY\n",
      "      ]),\n",
      "      III\n",
      "    ])\n",
      "  ]),\n",
      "  ComposedOp([\n",
      "    TensoredOp([\n",
      "      III,\n",
      "      III,\n",
      "      III,\n",
      "      III,\n",
      "      III,\n",
      "      SummedOp([\n",
      "        0.9517337620166573 * IIX,\n",
      "        -0.9517337620166573j * IIY,\n",
      "        0.4829629131445341 * IXX,\n",
      "        0.4829629131445341j * IXY,\n",
      "        -0.4829629131445341j * IYX,\n",
      "        0.4829629131445341 * IYY,\n",
      "        -0.14271676764170982 * IZX,\n",
      "        0.14271676764170982j * IZY,\n",
      "        0.25 * XXX,\n",
      "        0.25j * XXY,\n",
      "        0.25j * XYX,\n",
      "        -0.25 * XYY,\n",
      "        -0.25j * YXX,\n",
      "        0.25 * YXY,\n",
      "        0.25 * YYX,\n",
      "        0.25j * YYY,\n",
      "        -0.2687210601244379 * ZIX,\n",
      "        0.2687210601244379j * ZIY,\n",
      "        -0.12940952255126034 * ZXX,\n",
      "        -0.12940952255126034j * ZXY,\n",
      "        0.12940952255126034j * ZYX,\n",
      "        -0.12940952255126034 * ZYY,\n",
      "        -0.040295934250509535 * ZZX,\n",
      "        0.040295934250509535j * ZZY\n",
      "      ])\n",
      "    ]),\n",
      "    TensoredOp([\n",
      "      III,\n",
      "      III,\n",
      "      III,\n",
      "      III,\n",
      "      III,\n",
      "      SummedOp([\n",
      "        0.9517337620166573 * IIX,\n",
      "        0.9517337620166573j * IIY,\n",
      "        0.4829629131445341 * IXX,\n",
      "        -0.4829629131445341j * IXY,\n",
      "        0.4829629131445341j * IYX,\n",
      "        0.4829629131445341 * IYY,\n",
      "        -0.14271676764170982 * IZX,\n",
      "        -0.14271676764170982j * IZY,\n",
      "        0.25 * XXX,\n",
      "        -0.25j * XXY,\n",
      "        -0.25j * XYX,\n",
      "        -0.25 * XYY,\n",
      "        0.25j * YXX,\n",
      "        0.25 * YXY,\n",
      "        0.25 * YYX,\n",
      "        -0.25j * YYY,\n",
      "        -0.2687210601244379 * ZIX,\n",
      "        -0.2687210601244379j * ZIY,\n",
      "        -0.12940952255126034 * ZXX,\n",
      "        0.12940952255126034j * ZXY,\n",
      "        -0.12940952255126034j * ZYX,\n",
      "        -0.12940952255126034 * ZYY,\n",
      "        -0.040295934250509535 * ZZX,\n",
      "        -0.040295934250509535j * ZZY\n",
      "      ])\n",
      "    ])\n",
      "  ])\n",
      "])\n"
     ]
    }
   ],
   "source": [
    "print(H_osc)"
   ]
  },
  {
   "cell_type": "code",
   "execution_count": 47,
   "metadata": {},
   "outputs": [
    {
     "data": {
      "text/plain": [
       "qiskit.opflow.list_ops.summed_op.SummedOp"
      ]
     },
     "execution_count": 47,
     "metadata": {},
     "output_type": "execute_result"
    }
   ],
   "source": [
    "type(H_osc)"
   ]
  },
  {
   "cell_type": "code",
   "execution_count": 48,
   "metadata": {},
   "outputs": [],
   "source": [
    "H_osc_pauli = H_osc.to_pauli_op()"
   ]
  },
  {
   "cell_type": "code",
   "execution_count": 49,
   "metadata": {},
   "outputs": [
    {
     "data": {
      "text/plain": [
       "qiskit.opflow.list_ops.summed_op.SummedOp"
      ]
     },
     "execution_count": 49,
     "metadata": {},
     "output_type": "execute_result"
    }
   ],
   "source": [
    "type(H_osc_pauli)"
   ]
  },
  {
   "cell_type": "code",
   "execution_count": 50,
   "metadata": {},
   "outputs": [
    {
     "data": {
      "text/plain": [
       "18"
      ]
     },
     "execution_count": 50,
     "metadata": {},
     "output_type": "execute_result"
    }
   ],
   "source": [
    "H_osc_pauli.num_qubits"
   ]
  },
  {
   "cell_type": "code",
   "execution_count": 51,
   "metadata": {},
   "outputs": [
    {
     "data": {
      "text/plain": [
       "<8x8 sparse matrix of type '<class 'numpy.complex128'>'\n",
       "\twith 8 stored elements in Compressed Sparse Row format>"
      ]
     },
     "execution_count": 51,
     "metadata": {},
     "output_type": "execute_result"
    }
   ],
   "source": [
    "H_osc.to_spmatrix()"
   ]
  },
  {
   "cell_type": "code",
   "execution_count": 52,
   "metadata": {},
   "outputs": [],
   "source": [
    "quartic1 = SummedOp([x_tensor[2]@x_tensor[2]@x_tensor[3]@x_tensor[3], \\\n",
    "                    x_tensor[2]@x_tensor[2]@x_tensor[4]@x_tensor[4], \\\n",
    "                    x_tensor[1]@x_tensor[1]@x_tensor[3]@x_tensor[3], \\\n",
    "                    x_tensor[1]@x_tensor[1]@x_tensor[5]@x_tensor[5], \\\n",
    "                    x_tensor[0]@x_tensor[0]@x_tensor[4]@x_tensor[4], \\\n",
    "                    x_tensor[0]@x_tensor[0]@x_tensor[5]@x_tensor[5]])\n",
    "                    "
   ]
  },
  {
   "cell_type": "code",
   "execution_count": null,
   "metadata": {},
   "outputs": [
    {
     "name": "stdout",
     "output_type": "stream",
     "text": [
      "SummedOp([\n",
      "  13.499999999999998 * IIIIIIIIIIII,\n",
      "  -1.4999999999999993 * ZIIIIIIIIIII,\n",
      "  -1.4999999999999998 * ZZIIIIIIIIII,\n",
      "  -1.4999999999999993 * IIZIIIIIIIII,\n",
      "  -1.4999999999999998 * IIZZIIIIIIII,\n",
      "  -1.4999999999999993 * IIIIZIIIIIII,\n",
      "  -1.4999999999999998 * IIIIZZIIIIII,\n",
      "  -1.4999999999999993 * IIIIIIZIIIII,\n",
      "  0.24999999999999978 * IIZIIIZIIIII,\n",
      "  0.2499999999999999 * IIZZIIZIIIII,\n",
      "  0.24999999999999978 * IIIIZIZIIIII,\n",
      "  0.2499999999999999 * IIIIZZZIIIII,\n",
      "  -1.4999999999999998 * IIIIIIZZIIII,\n",
      "  0.2499999999999999 * IIZIIIZZIIII,\n",
      "  0.25 * IIZZIIZZIIII,\n",
      "  0.2499999999999999 * IIIIZIZZIIII,\n",
      "  0.25 * IIIIZZZZIIII,\n",
      "  -1.4999999999999993 * IIIIIIIIZIII,\n",
      "  0.24999999999999978 * ZIIIIIIIZIII,\n",
      "  0.2499999999999999 * ZZIIIIIIZIII,\n",
      "  0.24999999999999978 * IIIIZIIIZIII,\n",
      "  0.2499999999999999 * IIIIZZIIZIII,\n",
      "  -1.4999999999999998 * IIIIIIIIZZII,\n",
      "  0.2499999999999999 * ZIIIIIIIZZII,\n",
      "  0.25 * ZZIIIIIIZZII,\n",
      "  0.2499999999999999 * IIIIZIIIZZII,\n",
      "  0.25 * IIIIZZIIZZII,\n",
      "  -1.4999999999999993 * IIIIIIIIIIZI,\n",
      "  0.24999999999999978 * ZIIIIIIIIIZI,\n",
      "  0.2499999999999999 * ZZIIIIIIIIZI,\n",
      "  0.24999999999999978 * IIZIIIIIIIZI,\n",
      "  0.2499999999999999 * IIZZIIIIIIZI,\n",
      "  -1.4999999999999998 * IIIIIIIIIIZZ,\n",
      "  0.2499999999999999 * ZIIIIIIIIIZZ,\n",
      "  0.25 * ZZIIIIIIIIZZ,\n",
      "  0.2499999999999999 * IIZIIIIIIIZZ,\n",
      "  0.25 * IIZZIIIIIIZZ,\n",
      "  2.8977774788672037 * XIIIIIIIIIII,\n",
      "  -0.776457135307562 * XZIIIIIIIIII,\n",
      "  -0.4829629131445339 * XIIIIIIIZIII,\n",
      "  0.1294095225512603 * XZIIIIIIZIII,\n",
      "  -0.4829629131445341 * XIIIIIIIZZII,\n",
      "  0.12940952255126034 * XZIIIIIIZZII,\n",
      "  -0.4829629131445339 * XIIIIIIIIIZI,\n",
      "  0.1294095225512603 * XZIIIIIIIIZI,\n",
      "  -0.4829629131445341 * XIIIIIIIIIZZ,\n",
      "  0.12940952255126034 * XZIIIIIIIIZZ,\n",
      "  2.8977774788672037 * IIXIIIIIIIII,\n",
      "  -0.776457135307562 * IIXZIIIIIIII,\n",
      "  -0.4829629131445339 * IIXIIIZIIIII,\n",
      "  0.1294095225512603 * IIXZIIZIIIII,\n",
      "  -0.4829629131445341 * IIXIIIZZIIII,\n",
      "  0.12940952255126034 * IIXZIIZZIIII,\n",
      "  -0.4829629131445339 * IIXIIIIIIIZI,\n",
      "  0.1294095225512603 * IIXZIIIIIIZI,\n",
      "  -0.4829629131445341 * IIXIIIIIIIZZ,\n",
      "  0.12940952255126034 * IIXZIIIIIIZZ,\n",
      "  2.8977774788672037 * IIIIXIIIIIII,\n",
      "  -0.776457135307562 * IIIIXZIIIIII,\n",
      "  -0.4829629131445339 * IIIIXIZIIIII,\n",
      "  0.1294095225512603 * IIIIXZZIIIII,\n",
      "  -0.4829629131445341 * IIIIXIZZIIII,\n",
      "  0.12940952255126034 * IIIIXZZZIIII,\n",
      "  -0.4829629131445339 * IIIIXIIIZIII,\n",
      "  0.1294095225512603 * IIIIXZIIZIII,\n",
      "  -0.4829629131445341 * IIIIXIIIZZII,\n",
      "  0.12940952255126034 * IIIIXZIIZZII,\n",
      "  2.897777478867204 * IIIIIIXIIIII,\n",
      "  -0.4829629131445339 * IIZIIIXIIIII,\n",
      "  -0.4829629131445341 * IIZZIIXIIIII,\n",
      "  -0.4829629131445339 * IIIIZIXIIIII,\n",
      "  -0.4829629131445341 * IIIIZZXIIIII,\n",
      "  -0.776457135307562 * IIIIIIXZIIII,\n",
      "  0.1294095225512603 * IIZIIIXZIIII,\n",
      "  0.12940952255126034 * IIZZIIXZIIII,\n",
      "  0.1294095225512603 * IIIIZIXZIIII,\n",
      "  0.12940952255126034 * IIIIZZXZIIII,\n",
      "  0.9330127018922192 * IIXIIIXIIIII,\n",
      "  -0.2499999999999999 * IIXZIIXIIIII,\n",
      "  -0.2499999999999999 * IIXIIIXZIIII,\n",
      "  0.06698729810778063 * IIXZIIXZIIII,\n",
      "  0.9330127018922192 * IIIIXIXIIIII,\n",
      "  -0.2499999999999999 * IIIIXZXIIIII,\n",
      "  -0.2499999999999999 * IIIIXIXZIIII,\n",
      "  0.06698729810778063 * IIIIXZXZIIII,\n",
      "  2.897777478867204 * IIIIIIIIXIII,\n",
      "  -0.4829629131445339 * ZIIIIIIIXIII,\n",
      "  -0.4829629131445341 * ZZIIIIIIXIII,\n",
      "  -0.4829629131445339 * IIIIZIIIXIII,\n",
      "  -0.4829629131445341 * IIIIZZIIXIII,\n",
      "  -0.776457135307562 * IIIIIIIIXZII,\n",
      "  0.1294095225512603 * ZIIIIIIIXZII,\n",
      "  0.12940952255126034 * ZZIIIIIIXZII,\n",
      "  0.1294095225512603 * IIIIZIIIXZII,\n",
      "  0.12940952255126034 * IIIIZZIIXZII,\n",
      "  0.9330127018922192 * XIIIIIIIXIII,\n",
      "  -0.2499999999999999 * XZIIIIIIXIII,\n",
      "  -0.2499999999999999 * XIIIIIIIXZII,\n",
      "  0.06698729810778063 * XZIIIIIIXZII,\n",
      "  0.9330127018922192 * IIIIXIIIXIII,\n",
      "  -0.2499999999999999 * IIIIXZIIXIII,\n",
      "  -0.2499999999999999 * IIIIXIIIXZII,\n",
      "  0.06698729810778063 * IIIIXZIIXZII,\n",
      "  2.897777478867204 * IIIIIIIIIIXI,\n",
      "  -0.4829629131445339 * ZIIIIIIIIIXI,\n",
      "  -0.4829629131445341 * ZZIIIIIIIIXI,\n",
      "  -0.4829629131445339 * IIZIIIIIIIXI,\n",
      "  -0.4829629131445341 * IIZZIIIIIIXI,\n",
      "  -0.776457135307562 * IIIIIIIIIIXZ,\n",
      "  0.1294095225512603 * ZIIIIIIIIIXZ,\n",
      "  0.12940952255126034 * ZZIIIIIIIIXZ,\n",
      "  0.1294095225512603 * IIZIIIIIIIXZ,\n",
      "  0.12940952255126034 * IIZZIIIIIIXZ,\n",
      "  0.9330127018922192 * XIIIIIIIIIXI,\n",
      "  -0.2499999999999999 * XZIIIIIIIIXI,\n",
      "  -0.2499999999999999 * XIIIIIIIIIXZ,\n",
      "  0.06698729810778063 * XZIIIIIIIIXZ,\n",
      "  0.9330127018922192 * IIXIIIIIIIXI,\n",
      "  -0.2499999999999999 * IIXZIIIIIIXI,\n",
      "  -0.2499999999999999 * IIXIIIIIIIXZ,\n",
      "  0.06698729810778063 * IIXZIIIIIIXZ\n",
      "])\n"
     ]
    }
   ],
   "source": [
    "print(quartic1.to_pauli_op())"
   ]
  },
  {
   "cell_type": "code",
   "execution_count": 53,
   "metadata": {},
   "outputs": [],
   "source": [
    "quartic2 = SummedOp([x_tensor[0]@x_tensor[2]@x_tensor[3]@x_tensor[5],\\\n",
    "                    x_tensor[0]@x_tensor[1]@x_tensor[3]@x_tensor[4],\\\n",
    "                    x_tensor[1]@x_tensor[2]@x_tensor[4]@x_tensor[5]], coeff = -2.0)"
   ]
  },
  {
   "cell_type": "code",
   "execution_count": null,
   "metadata": {
    "tags": []
   },
   "outputs": [
    {
     "name": "stdout",
     "output_type": "stream",
     "text": [
      "SummedOp([\n",
      "  -1.7410254037844382 * IXIXIIIXIXII,\n",
      "  0.46650635094610937 * ZXIXIIIXIXII,\n",
      "  0.46650635094610937 * IXZXIIIXIXII,\n",
      "  -0.1249999999999999 * ZXZXIIIXIXII,\n",
      "  0.4665063509461094 * IXIXIIZXIXII,\n",
      "  -0.1249999999999999 * ZXIXIIZXIXII,\n",
      "  -0.1249999999999999 * IXZXIIZXIXII,\n",
      "  0.0334936490538903 * ZXZXIIZXIXII,\n",
      "  0.4665063509461094 * IXIXIIIXZXII,\n",
      "  -0.12499999999999989 * ZXIXIIIXZXII,\n",
      "  -0.12499999999999989 * IXZXIIIXZXII,\n",
      "  0.0334936490538903 * ZXZXIIIXZXII,\n",
      "  -0.1249999999999999 * IXIXIIZXZXII,\n",
      "  0.0334936490538903 * ZXIXIIZXZXII,\n",
      "  0.0334936490538903 * IXZXIIZXZXII,\n",
      "  -0.008974596215561343 * ZXZXIIZXZXII,\n",
      "  -0.9012210650134379 * XXIXIIIXIXII,\n",
      "  -0.9012210650134379 * YYIXIIIXIXII,\n",
      "  0.24148145657226694 * XXZXIIIXIXII,\n",
      "  0.24148145657226694 * YYZXIIIXIXII,\n",
      "  0.24148145657226694 * XXIXIIZXIXII,\n",
      "  0.24148145657226694 * YYIXIIZXIXII,\n",
      "  -0.06470476127563014 * XXZXIIZXIXII,\n",
      "  -0.06470476127563014 * YYZXIIZXIXII,\n",
      "  0.24148145657226697 * XXIXIIIXZXII,\n",
      "  0.24148145657226697 * YYIXIIIXZXII,\n",
      "  -0.06470476127563014 * XXZXIIIXZXII,\n",
      "  -0.06470476127563014 * YYZXIIIXZXII,\n",
      "  -0.06470476127563014 * XXIXIIZXZXII,\n",
      "  -0.06470476127563014 * YYIXIIZXZXII,\n",
      "  0.017337588530253675 * XXZXIIZXZXII,\n",
      "  0.017337588530253675 * YYZXIIZXZXII,\n",
      "  -0.9012210650134379 * IXXXIIIXIXII,\n",
      "  0.24148145657226694 * ZXXXIIIXIXII,\n",
      "  -0.9012210650134379 * IXYYIIIXIXII,\n",
      "  0.24148145657226694 * ZXYYIIIXIXII,\n",
      "  0.24148145657226694 * IXXXIIZXIXII,\n",
      "  -0.06470476127563014 * ZXXXIIZXIXII,\n",
      "  0.24148145657226694 * IXYYIIZXIXII,\n",
      "  -0.06470476127563014 * ZXYYIIZXIXII,\n",
      "  0.24148145657226697 * IXXXIIIXZXII,\n",
      "  -0.06470476127563014 * ZXXXIIIXZXII,\n",
      "  0.24148145657226697 * IXYYIIIXZXII,\n",
      "  -0.06470476127563014 * ZXYYIIIXZXII,\n",
      "  -0.06470476127563014 * IXXXIIZXZXII,\n",
      "  0.017337588530253675 * ZXXXIIZXZXII,\n",
      "  -0.06470476127563014 * IXYYIIZXZXII,\n",
      "  0.017337588530253675 * ZXYYIIZXZXII,\n",
      "  -0.4665063509461096 * XXXXIIIXIXII,\n",
      "  -0.4665063509461096 * YYXXIIIXIXII,\n",
      "  -0.4665063509461096 * XXYYIIIXIXII,\n",
      "  -0.4665063509461096 * YYYYIIIXIXII,\n",
      "  0.12499999999999994 * XXXXIIZXIXII,\n",
      "  0.12499999999999994 * YYXXIIZXIXII,\n",
      "  0.12499999999999994 * XXYYIIZXIXII,\n",
      "  0.12499999999999994 * YYYYIIZXIXII,\n",
      "  0.12499999999999994 * XXXXIIIXZXII,\n",
      "  0.12499999999999994 * YYXXIIIXZXII,\n",
      "  0.12499999999999994 * XXYYIIIXZXII,\n",
      "  0.12499999999999994 * YYYYIIIXZXII,\n",
      "  -0.033493649053890316 * XXXXIIZXZXII,\n",
      "  -0.033493649053890316 * YYXXIIZXZXII,\n",
      "  -0.033493649053890316 * XXYYIIZXZXII,\n",
      "  -0.033493649053890316 * YYYYIIZXZXII,\n",
      "  -0.9012210650134379 * IXIXIIXXIXII,\n",
      "  0.24148145657226694 * ZXIXIIXXIXII,\n",
      "  0.24148145657226694 * IXZXIIXXIXII,\n",
      "  -0.06470476127563014 * ZXZXIIXXIXII,\n",
      "  -0.9012210650134379 * IXIXIIYYIXII,\n",
      "  0.24148145657226694 * ZXIXIIYYIXII,\n",
      "  0.24148145657226694 * IXZXIIYYIXII,\n",
      "  -0.06470476127563014 * ZXZXIIYYIXII,\n",
      "  0.24148145657226697 * IXIXIIXXZXII,\n",
      "  -0.06470476127563014 * ZXIXIIXXZXII,\n",
      "  -0.06470476127563014 * IXZXIIXXZXII,\n",
      "  0.017337588530253675 * ZXZXIIXXZXII,\n",
      "  0.24148145657226697 * IXIXIIYYZXII,\n",
      "  -0.06470476127563014 * ZXIXIIYYZXII,\n",
      "  -0.06470476127563014 * IXZXIIYYZXII,\n",
      "  0.017337588530253675 * ZXZXIIYYZXII,\n",
      "  -0.4665063509461096 * XXIXIIXXIXII,\n",
      "  -0.4665063509461096 * YYIXIIXXIXII,\n",
      "  0.12499999999999994 * XXZXIIXXIXII,\n",
      "  0.12499999999999994 * YYZXIIXXIXII,\n",
      "  -0.4665063509461096 * XXIXIIYYIXII,\n",
      "  -0.4665063509461096 * YYIXIIYYIXII,\n",
      "  0.12499999999999994 * XXZXIIYYIXII,\n",
      "  0.12499999999999994 * YYZXIIYYIXII,\n",
      "  0.12499999999999994 * XXIXIIXXZXII,\n",
      "  0.12499999999999994 * YYIXIIXXZXII,\n",
      "  -0.033493649053890316 * XXZXIIXXZXII,\n",
      "  -0.033493649053890316 * YYZXIIXXZXII,\n",
      "  0.12499999999999994 * XXIXIIYYZXII,\n",
      "  0.12499999999999994 * YYIXIIYYZXII,\n",
      "  -0.033493649053890316 * XXZXIIYYZXII,\n",
      "  -0.033493649053890316 * YYZXIIYYZXII,\n",
      "  -0.4665063509461096 * IXXXIIXXIXII,\n",
      "  0.12499999999999994 * ZXXXIIXXIXII,\n",
      "  -0.4665063509461096 * IXYYIIXXIXII,\n",
      "  0.12499999999999994 * ZXYYIIXXIXII,\n",
      "  -0.4665063509461096 * IXXXIIYYIXII,\n",
      "  0.12499999999999994 * ZXXXIIYYIXII,\n",
      "  -0.4665063509461096 * IXYYIIYYIXII,\n",
      "  0.12499999999999994 * ZXYYIIYYIXII,\n",
      "  0.12499999999999994 * IXXXIIXXZXII,\n",
      "  -0.033493649053890316 * ZXXXIIXXZXII,\n",
      "  0.12499999999999994 * IXYYIIXXZXII,\n",
      "  -0.033493649053890316 * ZXYYIIXXZXII,\n",
      "  0.12499999999999994 * IXXXIIYYZXII,\n",
      "  -0.033493649053890316 * ZXXXIIYYZXII,\n",
      "  0.12499999999999994 * IXYYIIYYZXII,\n",
      "  -0.033493649053890316 * ZXYYIIYYZXII,\n",
      "  -0.24148145657226705 * XXXXIIXXIXII,\n",
      "  -0.24148145657226705 * YYXXIIXXIXII,\n",
      "  -0.24148145657226705 * XXYYIIXXIXII,\n",
      "  -0.24148145657226705 * YYYYIIXXIXII,\n",
      "  -0.24148145657226705 * XXXXIIYYIXII,\n",
      "  -0.24148145657226705 * YYXXIIYYIXII,\n",
      "  -0.24148145657226705 * XXYYIIYYIXII,\n",
      "  -0.24148145657226705 * YYYYIIYYIXII,\n",
      "  0.06470476127563017 * XXXXIIXXZXII,\n",
      "  0.06470476127563017 * YYXXIIXXZXII,\n",
      "  0.06470476127563017 * XXYYIIXXZXII,\n",
      "  0.06470476127563017 * YYYYIIXXZXII,\n",
      "  0.06470476127563017 * XXXXIIYYZXII,\n",
      "  0.06470476127563017 * YYXXIIYYZXII,\n",
      "  0.06470476127563017 * XXYYIIYYZXII,\n",
      "  0.06470476127563017 * YYYYIIYYZXII,\n",
      "  -0.9012210650134379 * IXIXIIIXXXII,\n",
      "  0.24148145657226694 * ZXIXIIIXXXII,\n",
      "  0.24148145657226694 * IXZXIIIXXXII,\n",
      "  -0.06470476127563014 * ZXZXIIIXXXII,\n",
      "  0.24148145657226697 * IXIXIIZXXXII,\n",
      "  -0.06470476127563014 * ZXIXIIZXXXII,\n",
      "  -0.06470476127563014 * IXZXIIZXXXII,\n",
      "  0.017337588530253675 * ZXZXIIZXXXII,\n",
      "  -0.9012210650134379 * IXIXIIIXYYII,\n",
      "  0.24148145657226694 * ZXIXIIIXYYII,\n",
      "  0.24148145657226694 * IXZXIIIXYYII,\n",
      "  -0.06470476127563014 * ZXZXIIIXYYII,\n",
      "  0.24148145657226697 * IXIXIIZXYYII,\n",
      "  -0.06470476127563014 * ZXIXIIZXYYII,\n",
      "  -0.06470476127563014 * IXZXIIZXYYII,\n",
      "  0.017337588530253675 * ZXZXIIZXYYII,\n",
      "  -0.4665063509461096 * XXIXIIIXXXII,\n",
      "  -0.4665063509461096 * YYIXIIIXXXII,\n",
      "  0.12499999999999994 * XXZXIIIXXXII,\n",
      "  0.12499999999999994 * YYZXIIIXXXII,\n",
      "  0.12499999999999994 * XXIXIIZXXXII,\n",
      "  0.12499999999999994 * YYIXIIZXXXII,\n",
      "  -0.033493649053890316 * XXZXIIZXXXII,\n",
      "  -0.033493649053890316 * YYZXIIZXXXII,\n",
      "  -0.4665063509461096 * XXIXIIIXYYII,\n",
      "  -0.4665063509461096 * YYIXIIIXYYII,\n",
      "  0.12499999999999994 * XXZXIIIXYYII,\n",
      "  0.12499999999999994 * YYZXIIIXYYII,\n",
      "  0.12499999999999994 * XXIXIIZXYYII,\n",
      "  0.12499999999999994 * YYIXIIZXYYII,\n",
      "  -0.033493649053890316 * XXZXIIZXYYII,\n",
      "  -0.033493649053890316 * YYZXIIZXYYII,\n",
      "  -0.4665063509461096 * IXXXIIIXXXII,\n",
      "  0.12499999999999994 * ZXXXIIIXXXII,\n",
      "  -0.4665063509461096 * IXYYIIIXXXII,\n",
      "  0.12499999999999994 * ZXYYIIIXXXII,\n",
      "  0.12499999999999994 * IXXXIIZXXXII,\n",
      "  -0.033493649053890316 * ZXXXIIZXXXII,\n",
      "  0.12499999999999994 * IXYYIIZXXXII,\n",
      "  -0.033493649053890316 * ZXYYIIZXXXII,\n",
      "  -0.4665063509461096 * IXXXIIIXYYII,\n",
      "  0.12499999999999994 * ZXXXIIIXYYII,\n",
      "  -0.4665063509461096 * IXYYIIIXYYII,\n",
      "  0.12499999999999994 * ZXYYIIIXYYII,\n",
      "  0.12499999999999994 * IXXXIIZXYYII,\n",
      "  -0.033493649053890316 * ZXXXIIZXYYII,\n",
      "  0.12499999999999994 * IXYYIIZXYYII,\n",
      "  -0.033493649053890316 * ZXYYIIZXYYII,\n",
      "  -0.24148145657226705 * XXXXIIIXXXII,\n",
      "  -0.24148145657226705 * YYXXIIIXXXII,\n",
      "  -0.24148145657226705 * XXYYIIIXXXII,\n",
      "  -0.24148145657226705 * YYYYIIIXXXII,\n",
      "  0.06470476127563017 * XXXXIIZXXXII,\n",
      "  0.06470476127563017 * YYXXIIZXXXII,\n",
      "  0.06470476127563017 * XXYYIIZXXXII,\n",
      "  0.06470476127563017 * YYYYIIZXXXII,\n",
      "  -0.24148145657226705 * XXXXIIIXYYII,\n",
      "  -0.24148145657226705 * YYXXIIIXYYII,\n",
      "  -0.24148145657226705 * XXYYIIIXYYII,\n",
      "  -0.24148145657226705 * YYYYIIIXYYII,\n",
      "  0.06470476127563017 * XXXXIIZXYYII,\n",
      "  0.06470476127563017 * YYXXIIZXYYII,\n",
      "  0.06470476127563017 * XXYYIIZXYYII,\n",
      "  0.06470476127563017 * YYYYIIZXYYII,\n",
      "  -0.4665063509461096 * IXIXIIXXXXII,\n",
      "  0.12499999999999994 * ZXIXIIXXXXII,\n",
      "  0.12499999999999994 * IXZXIIXXXXII,\n",
      "  -0.033493649053890316 * ZXZXIIXXXXII,\n",
      "  -0.4665063509461096 * IXIXIIYYXXII,\n",
      "  0.12499999999999994 * ZXIXIIYYXXII,\n",
      "  0.12499999999999994 * IXZXIIYYXXII,\n",
      "  -0.033493649053890316 * ZXZXIIYYXXII,\n",
      "  -0.4665063509461096 * IXIXIIXXYYII,\n",
      "  0.12499999999999994 * ZXIXIIXXYYII,\n",
      "  0.12499999999999994 * IXZXIIXXYYII,\n",
      "  -0.033493649053890316 * ZXZXIIXXYYII,\n",
      "  -0.4665063509461096 * IXIXIIYYYYII,\n",
      "  0.12499999999999994 * ZXIXIIYYYYII,\n",
      "  0.12499999999999994 * IXZXIIYYYYII,\n",
      "  -0.033493649053890316 * ZXZXIIYYYYII,\n",
      "  -0.24148145657226705 * XXIXIIXXXXII,\n",
      "  -0.24148145657226705 * YYIXIIXXXXII,\n",
      "  0.06470476127563017 * XXZXIIXXXXII,\n",
      "  0.06470476127563017 * YYZXIIXXXXII,\n",
      "  -0.24148145657226705 * XXIXIIYYXXII,\n",
      "  -0.24148145657226705 * YYIXIIYYXXII,\n",
      "  0.06470476127563017 * XXZXIIYYXXII,\n",
      "  0.06470476127563017 * YYZXIIYYXXII,\n",
      "  -0.24148145657226705 * XXIXIIXXYYII,\n",
      "  -0.24148145657226705 * YYIXIIXXYYII,\n",
      "  0.06470476127563017 * XXZXIIXXYYII,\n",
      "  0.06470476127563017 * YYZXIIXXYYII,\n",
      "  -0.24148145657226705 * XXIXIIYYYYII,\n",
      "  -0.24148145657226705 * YYIXIIYYYYII,\n",
      "  0.06470476127563017 * XXZXIIYYYYII,\n",
      "  0.06470476127563017 * YYZXIIYYYYII,\n",
      "  -0.24148145657226705 * IXXXIIXXXXII,\n",
      "  0.06470476127563017 * ZXXXIIXXXXII,\n",
      "  -0.24148145657226705 * IXYYIIXXXXII,\n",
      "  0.06470476127563017 * ZXYYIIXXXXII,\n",
      "  -0.24148145657226705 * IXXXIIYYXXII,\n",
      "  0.06470476127563017 * ZXXXIIYYXXII,\n",
      "  -0.24148145657226705 * IXYYIIYYXXII,\n",
      "  0.06470476127563017 * ZXYYIIYYXXII,\n",
      "  -0.24148145657226705 * IXXXIIXXYYII,\n",
      "  0.06470476127563017 * ZXXXIIXXYYII,\n",
      "  -0.24148145657226705 * IXYYIIXXYYII,\n",
      "  0.06470476127563017 * ZXYYIIXXYYII,\n",
      "  -0.24148145657226705 * IXXXIIYYYYII,\n",
      "  0.06470476127563017 * ZXXXIIYYYYII,\n",
      "  -0.24148145657226705 * IXYYIIYYYYII,\n",
      "  0.06470476127563017 * ZXYYIIYYYYII,\n",
      "  -0.125 * XXXXIIXXXXII,\n",
      "  -0.125 * YYXXIIXXXXII,\n",
      "  -0.125 * XXYYIIXXXXII,\n",
      "  -0.125 * YYYYIIXXXXII,\n",
      "  -0.125 * XXXXIIYYXXII,\n",
      "  -0.125 * YYXXIIYYXXII,\n",
      "  -0.125 * XXYYIIYYXXII,\n",
      "  -0.125 * YYYYIIYYXXII,\n",
      "  -0.125 * XXXXIIXXYYII,\n",
      "  -0.125 * YYXXIIXXYYII,\n",
      "  -0.125 * XXYYIIXXYYII,\n",
      "  -0.125 * YYYYIIXXYYII,\n",
      "  -0.125 * XXXXIIYYYYII,\n",
      "  -0.125 * YYXXIIYYYYII,\n",
      "  -0.125 * XXYYIIYYYYII,\n",
      "  -0.125 * YYYYIIYYYYII,\n",
      "  -1.7410254037844382 * IXIIIXIXIIIX,\n",
      "  0.46650635094610937 * ZXIIIXIXIIIX,\n",
      "  0.46650635094610937 * IXIIZXIXIIIX,\n",
      "  -0.1249999999999999 * ZXIIZXIXIIIX,\n",
      "  0.4665063509461094 * IXIIIXZXIIIX,\n",
      "  -0.1249999999999999 * ZXIIIXZXIIIX,\n",
      "  -0.1249999999999999 * IXIIZXZXIIIX,\n",
      "  0.0334936490538903 * ZXIIZXZXIIIX,\n",
      "  0.4665063509461094 * IXIIIXIXIIZX,\n",
      "  -0.12499999999999989 * ZXIIIXIXIIZX,\n",
      "  -0.12499999999999989 * IXIIZXIXIIZX,\n",
      "  0.0334936490538903 * ZXIIZXIXIIZX,\n",
      "  -0.1249999999999999 * IXIIIXZXIIZX,\n",
      "  0.0334936490538903 * ZXIIIXZXIIZX,\n",
      "  0.0334936490538903 * IXIIZXZXIIZX,\n",
      "  -0.008974596215561343 * ZXIIZXZXIIZX,\n",
      "  -0.9012210650134379 * XXIIIXIXIIIX,\n",
      "  -0.9012210650134379 * YYIIIXIXIIIX,\n",
      "  0.24148145657226694 * XXIIZXIXIIIX,\n",
      "  0.24148145657226694 * YYIIZXIXIIIX,\n",
      "  0.24148145657226694 * XXIIIXZXIIIX,\n",
      "  0.24148145657226694 * YYIIIXZXIIIX,\n",
      "  -0.06470476127563014 * XXIIZXZXIIIX,\n",
      "  -0.06470476127563014 * YYIIZXZXIIIX,\n",
      "  0.24148145657226697 * XXIIIXIXIIZX,\n",
      "  0.24148145657226697 * YYIIIXIXIIZX,\n",
      "  -0.06470476127563014 * XXIIZXIXIIZX,\n",
      "  -0.06470476127563014 * YYIIZXIXIIZX,\n",
      "  -0.06470476127563014 * XXIIIXZXIIZX,\n",
      "  -0.06470476127563014 * YYIIIXZXIIZX,\n",
      "  0.017337588530253675 * XXIIZXZXIIZX,\n",
      "  0.017337588530253675 * YYIIZXZXIIZX,\n",
      "  -0.9012210650134379 * IXIIXXIXIIIX,\n",
      "  0.24148145657226694 * ZXIIXXIXIIIX,\n",
      "  -0.9012210650134379 * IXIIYYIXIIIX,\n",
      "  0.24148145657226694 * ZXIIYYIXIIIX,\n",
      "  0.24148145657226694 * IXIIXXZXIIIX,\n",
      "  -0.06470476127563014 * ZXIIXXZXIIIX,\n",
      "  0.24148145657226694 * IXIIYYZXIIIX,\n",
      "  -0.06470476127563014 * ZXIIYYZXIIIX,\n",
      "  0.24148145657226697 * IXIIXXIXIIZX,\n",
      "  -0.06470476127563014 * ZXIIXXIXIIZX,\n",
      "  0.24148145657226697 * IXIIYYIXIIZX,\n",
      "  -0.06470476127563014 * ZXIIYYIXIIZX,\n",
      "  -0.06470476127563014 * IXIIXXZXIIZX,\n",
      "  0.017337588530253675 * ZXIIXXZXIIZX,\n",
      "  -0.06470476127563014 * IXIIYYZXIIZX,\n",
      "  0.017337588530253675 * ZXIIYYZXIIZX,\n",
      "  -0.4665063509461096 * XXIIXXIXIIIX,\n",
      "  -0.4665063509461096 * YYIIXXIXIIIX,\n",
      "  -0.4665063509461096 * XXIIYYIXIIIX,\n",
      "  -0.4665063509461096 * YYIIYYIXIIIX,\n",
      "  0.12499999999999994 * XXIIXXZXIIIX,\n",
      "  0.12499999999999994 * YYIIXXZXIIIX,\n",
      "  0.12499999999999994 * XXIIYYZXIIIX,\n",
      "  0.12499999999999994 * YYIIYYZXIIIX,\n",
      "  0.12499999999999994 * XXIIXXIXIIZX,\n",
      "  0.12499999999999994 * YYIIXXIXIIZX,\n",
      "  0.12499999999999994 * XXIIYYIXIIZX,\n",
      "  0.12499999999999994 * YYIIYYIXIIZX,\n",
      "  -0.033493649053890316 * XXIIXXZXIIZX,\n",
      "  -0.033493649053890316 * YYIIXXZXIIZX,\n",
      "  -0.033493649053890316 * XXIIYYZXIIZX,\n",
      "  -0.033493649053890316 * YYIIYYZXIIZX,\n",
      "  -0.9012210650134379 * IXIIIXXXIIIX,\n",
      "  0.24148145657226694 * ZXIIIXXXIIIX,\n",
      "  0.24148145657226694 * IXIIZXXXIIIX,\n",
      "  -0.06470476127563014 * ZXIIZXXXIIIX,\n",
      "  -0.9012210650134379 * IXIIIXYYIIIX,\n",
      "  0.24148145657226694 * ZXIIIXYYIIIX,\n",
      "  0.24148145657226694 * IXIIZXYYIIIX,\n",
      "  -0.06470476127563014 * ZXIIZXYYIIIX,\n",
      "  0.24148145657226697 * IXIIIXXXIIZX,\n",
      "  -0.06470476127563014 * ZXIIIXXXIIZX,\n",
      "  -0.06470476127563014 * IXIIZXXXIIZX,\n",
      "  0.017337588530253675 * ZXIIZXXXIIZX,\n",
      "  0.24148145657226697 * IXIIIXYYIIZX,\n",
      "  -0.06470476127563014 * ZXIIIXYYIIZX,\n",
      "  -0.06470476127563014 * IXIIZXYYIIZX,\n",
      "  0.017337588530253675 * ZXIIZXYYIIZX,\n",
      "  -0.4665063509461096 * XXIIIXXXIIIX,\n",
      "  -0.4665063509461096 * YYIIIXXXIIIX,\n",
      "  0.12499999999999994 * XXIIZXXXIIIX,\n",
      "  0.12499999999999994 * YYIIZXXXIIIX,\n",
      "  -0.4665063509461096 * XXIIIXYYIIIX,\n",
      "  -0.4665063509461096 * YYIIIXYYIIIX,\n",
      "  0.12499999999999994 * XXIIZXYYIIIX,\n",
      "  0.12499999999999994 * YYIIZXYYIIIX,\n",
      "  0.12499999999999994 * XXIIIXXXIIZX,\n",
      "  0.12499999999999994 * YYIIIXXXIIZX,\n",
      "  -0.033493649053890316 * XXIIZXXXIIZX,\n",
      "  -0.033493649053890316 * YYIIZXXXIIZX,\n",
      "  0.12499999999999994 * XXIIIXYYIIZX,\n",
      "  0.12499999999999994 * YYIIIXYYIIZX,\n",
      "  -0.033493649053890316 * XXIIZXYYIIZX,\n",
      "  -0.033493649053890316 * YYIIZXYYIIZX,\n",
      "  -0.4665063509461096 * IXIIXXXXIIIX,\n",
      "  0.12499999999999994 * ZXIIXXXXIIIX,\n",
      "  -0.4665063509461096 * IXIIYYXXIIIX,\n",
      "  0.12499999999999994 * ZXIIYYXXIIIX,\n",
      "  -0.4665063509461096 * IXIIXXYYIIIX,\n",
      "  0.12499999999999994 * ZXIIXXYYIIIX,\n",
      "  -0.4665063509461096 * IXIIYYYYIIIX,\n",
      "  0.12499999999999994 * ZXIIYYYYIIIX,\n",
      "  0.12499999999999994 * IXIIXXXXIIZX,\n",
      "  -0.033493649053890316 * ZXIIXXXXIIZX,\n",
      "  0.12499999999999994 * IXIIYYXXIIZX,\n",
      "  -0.033493649053890316 * ZXIIYYXXIIZX,\n",
      "  0.12499999999999994 * IXIIXXYYIIZX,\n",
      "  -0.033493649053890316 * ZXIIXXYYIIZX,\n",
      "  0.12499999999999994 * IXIIYYYYIIZX,\n",
      "  -0.033493649053890316 * ZXIIYYYYIIZX,\n",
      "  -0.24148145657226705 * XXIIXXXXIIIX,\n",
      "  -0.24148145657226705 * YYIIXXXXIIIX,\n",
      "  -0.24148145657226705 * XXIIYYXXIIIX,\n",
      "  -0.24148145657226705 * YYIIYYXXIIIX,\n",
      "  -0.24148145657226705 * XXIIXXYYIIIX,\n",
      "  -0.24148145657226705 * YYIIXXYYIIIX,\n",
      "  -0.24148145657226705 * XXIIYYYYIIIX,\n",
      "  -0.24148145657226705 * YYIIYYYYIIIX,\n",
      "  0.06470476127563017 * XXIIXXXXIIZX,\n",
      "  0.06470476127563017 * YYIIXXXXIIZX,\n",
      "  0.06470476127563017 * XXIIYYXXIIZX,\n",
      "  0.06470476127563017 * YYIIYYXXIIZX,\n",
      "  0.06470476127563017 * XXIIXXYYIIZX,\n",
      "  0.06470476127563017 * YYIIXXYYIIZX,\n",
      "  0.06470476127563017 * XXIIYYYYIIZX,\n",
      "  0.06470476127563017 * YYIIYYYYIIZX,\n",
      "  -1.7410254037844382 * IIIXIXIIIXIX,\n",
      "  0.46650635094610937 * IIZXIXIIIXIX,\n",
      "  0.46650635094610937 * IIIXZXIIIXIX,\n",
      "  -0.1249999999999999 * IIZXZXIIIXIX,\n",
      "  0.4665063509461094 * IIIXIXIIZXIX,\n",
      "  -0.1249999999999999 * IIZXIXIIZXIX,\n",
      "  -0.1249999999999999 * IIIXZXIIZXIX,\n",
      "  0.0334936490538903 * IIZXZXIIZXIX,\n",
      "  0.4665063509461094 * IIIXIXIIIXZX,\n",
      "  -0.12499999999999989 * IIZXIXIIIXZX,\n",
      "  -0.12499999999999989 * IIIXZXIIIXZX,\n",
      "  0.0334936490538903 * IIZXZXIIIXZX,\n",
      "  -0.1249999999999999 * IIIXIXIIZXZX,\n",
      "  0.0334936490538903 * IIZXIXIIZXZX,\n",
      "  0.0334936490538903 * IIIXZXIIZXZX,\n",
      "  -0.008974596215561343 * IIZXZXIIZXZX,\n",
      "  -0.9012210650134379 * IIXXIXIIIXIX,\n",
      "  -0.9012210650134379 * IIYYIXIIIXIX,\n",
      "  0.24148145657226694 * IIXXZXIIIXIX,\n",
      "  0.24148145657226694 * IIYYZXIIIXIX,\n",
      "  0.24148145657226694 * IIXXIXIIZXIX,\n",
      "  0.24148145657226694 * IIYYIXIIZXIX,\n",
      "  -0.06470476127563014 * IIXXZXIIZXIX,\n",
      "  -0.06470476127563014 * IIYYZXIIZXIX,\n",
      "  0.24148145657226697 * IIXXIXIIIXZX,\n",
      "  0.24148145657226697 * IIYYIXIIIXZX,\n",
      "  -0.06470476127563014 * IIXXZXIIIXZX,\n",
      "  -0.06470476127563014 * IIYYZXIIIXZX,\n",
      "  -0.06470476127563014 * IIXXIXIIZXZX,\n",
      "  -0.06470476127563014 * IIYYIXIIZXZX,\n",
      "  0.017337588530253675 * IIXXZXIIZXZX,\n",
      "  0.017337588530253675 * IIYYZXIIZXZX,\n",
      "  -0.9012210650134379 * IIIXXXIIIXIX,\n",
      "  0.24148145657226694 * IIZXXXIIIXIX,\n",
      "  -0.9012210650134379 * IIIXYYIIIXIX,\n",
      "  0.24148145657226694 * IIZXYYIIIXIX,\n",
      "  0.24148145657226694 * IIIXXXIIZXIX,\n",
      "  -0.06470476127563014 * IIZXXXIIZXIX,\n",
      "  0.24148145657226694 * IIIXYYIIZXIX,\n",
      "  -0.06470476127563014 * IIZXYYIIZXIX,\n",
      "  0.24148145657226697 * IIIXXXIIIXZX,\n",
      "  -0.06470476127563014 * IIZXXXIIIXZX,\n",
      "  0.24148145657226697 * IIIXYYIIIXZX,\n",
      "  -0.06470476127563014 * IIZXYYIIIXZX,\n",
      "  -0.06470476127563014 * IIIXXXIIZXZX,\n",
      "  0.017337588530253675 * IIZXXXIIZXZX,\n",
      "  -0.06470476127563014 * IIIXYYIIZXZX,\n",
      "  0.017337588530253675 * IIZXYYIIZXZX,\n",
      "  -0.4665063509461096 * IIXXXXIIIXIX,\n",
      "  -0.4665063509461096 * IIYYXXIIIXIX,\n",
      "  -0.4665063509461096 * IIXXYYIIIXIX,\n",
      "  -0.4665063509461096 * IIYYYYIIIXIX,\n",
      "  0.12499999999999994 * IIXXXXIIZXIX,\n",
      "  0.12499999999999994 * IIYYXXIIZXIX,\n",
      "  0.12499999999999994 * IIXXYYIIZXIX,\n",
      "  0.12499999999999994 * IIYYYYIIZXIX,\n",
      "  0.12499999999999994 * IIXXXXIIIXZX,\n",
      "  0.12499999999999994 * IIYYXXIIIXZX,\n",
      "  0.12499999999999994 * IIXXYYIIIXZX,\n",
      "  0.12499999999999994 * IIYYYYIIIXZX,\n",
      "  -0.033493649053890316 * IIXXXXIIZXZX,\n",
      "  -0.033493649053890316 * IIYYXXIIZXZX,\n",
      "  -0.033493649053890316 * IIXXYYIIZXZX,\n",
      "  -0.033493649053890316 * IIYYYYIIZXZX,\n",
      "  -0.9012210650134379 * IIIXIXIIXXIX,\n",
      "  0.24148145657226694 * IIZXIXIIXXIX,\n",
      "  0.24148145657226694 * IIIXZXIIXXIX,\n",
      "  -0.06470476127563014 * IIZXZXIIXXIX,\n",
      "  -0.9012210650134379 * IIIXIXIIYYIX,\n",
      "  0.24148145657226694 * IIZXIXIIYYIX,\n",
      "  0.24148145657226694 * IIIXZXIIYYIX,\n",
      "  -0.06470476127563014 * IIZXZXIIYYIX,\n",
      "  0.24148145657226697 * IIIXIXIIXXZX,\n",
      "  -0.06470476127563014 * IIZXIXIIXXZX,\n",
      "  -0.06470476127563014 * IIIXZXIIXXZX,\n",
      "  0.017337588530253675 * IIZXZXIIXXZX,\n",
      "  0.24148145657226697 * IIIXIXIIYYZX,\n",
      "  -0.06470476127563014 * IIZXIXIIYYZX,\n",
      "  -0.06470476127563014 * IIIXZXIIYYZX,\n",
      "  0.017337588530253675 * IIZXZXIIYYZX,\n",
      "  -0.4665063509461096 * IIXXIXIIXXIX,\n",
      "  -0.4665063509461096 * IIYYIXIIXXIX,\n",
      "  0.12499999999999994 * IIXXZXIIXXIX,\n",
      "  0.12499999999999994 * IIYYZXIIXXIX,\n",
      "  -0.4665063509461096 * IIXXIXIIYYIX,\n",
      "  -0.4665063509461096 * IIYYIXIIYYIX,\n",
      "  0.12499999999999994 * IIXXZXIIYYIX,\n",
      "  0.12499999999999994 * IIYYZXIIYYIX,\n",
      "  0.12499999999999994 * IIXXIXIIXXZX,\n",
      "  0.12499999999999994 * IIYYIXIIXXZX,\n",
      "  -0.033493649053890316 * IIXXZXIIXXZX,\n",
      "  -0.033493649053890316 * IIYYZXIIXXZX,\n",
      "  0.12499999999999994 * IIXXIXIIYYZX,\n",
      "  0.12499999999999994 * IIYYIXIIYYZX,\n",
      "  -0.033493649053890316 * IIXXZXIIYYZX,\n",
      "  -0.033493649053890316 * IIYYZXIIYYZX,\n",
      "  -0.4665063509461096 * IIIXXXIIXXIX,\n",
      "  0.12499999999999994 * IIZXXXIIXXIX,\n",
      "  -0.4665063509461096 * IIIXYYIIXXIX,\n",
      "  0.12499999999999994 * IIZXYYIIXXIX,\n",
      "  -0.4665063509461096 * IIIXXXIIYYIX,\n",
      "  0.12499999999999994 * IIZXXXIIYYIX,\n",
      "  -0.4665063509461096 * IIIXYYIIYYIX,\n",
      "  0.12499999999999994 * IIZXYYIIYYIX,\n",
      "  0.12499999999999994 * IIIXXXIIXXZX,\n",
      "  -0.033493649053890316 * IIZXXXIIXXZX,\n",
      "  0.12499999999999994 * IIIXYYIIXXZX,\n",
      "  -0.033493649053890316 * IIZXYYIIXXZX,\n",
      "  0.12499999999999994 * IIIXXXIIYYZX,\n",
      "  -0.033493649053890316 * IIZXXXIIYYZX,\n",
      "  0.12499999999999994 * IIIXYYIIYYZX,\n",
      "  -0.033493649053890316 * IIZXYYIIYYZX,\n",
      "  -0.24148145657226705 * IIXXXXIIXXIX,\n",
      "  -0.24148145657226705 * IIYYXXIIXXIX,\n",
      "  -0.24148145657226705 * IIXXYYIIXXIX,\n",
      "  -0.24148145657226705 * IIYYYYIIXXIX,\n",
      "  -0.24148145657226705 * IIXXXXIIYYIX,\n",
      "  -0.24148145657226705 * IIYYXXIIYYIX,\n",
      "  -0.24148145657226705 * IIXXYYIIYYIX,\n",
      "  -0.24148145657226705 * IIYYYYIIYYIX,\n",
      "  0.06470476127563017 * IIXXXXIIXXZX,\n",
      "  0.06470476127563017 * IIYYXXIIXXZX,\n",
      "  0.06470476127563017 * IIXXYYIIXXZX,\n",
      "  0.06470476127563017 * IIYYYYIIXXZX,\n",
      "  0.06470476127563017 * IIXXXXIIYYZX,\n",
      "  0.06470476127563017 * IIYYXXIIYYZX,\n",
      "  0.06470476127563017 * IIXXYYIIYYZX,\n",
      "  0.06470476127563017 * IIYYYYIIYYZX,\n",
      "  -0.9012210650134379 * IXIIIXIXIIXX,\n",
      "  0.24148145657226694 * ZXIIIXIXIIXX,\n",
      "  0.24148145657226694 * IXIIZXIXIIXX,\n",
      "  -0.06470476127563014 * ZXIIZXIXIIXX,\n",
      "  0.24148145657226697 * IXIIIXZXIIXX,\n",
      "  -0.06470476127563014 * ZXIIIXZXIIXX,\n",
      "  -0.06470476127563014 * IXIIZXZXIIXX,\n",
      "  0.017337588530253675 * ZXIIZXZXIIXX,\n",
      "  -0.9012210650134379 * IXIIIXIXIIYY,\n",
      "  0.24148145657226694 * ZXIIIXIXIIYY,\n",
      "  0.24148145657226694 * IXIIZXIXIIYY,\n",
      "  -0.06470476127563014 * ZXIIZXIXIIYY,\n",
      "  0.24148145657226697 * IXIIIXZXIIYY,\n",
      "  -0.06470476127563014 * ZXIIIXZXIIYY,\n",
      "  -0.06470476127563014 * IXIIZXZXIIYY,\n",
      "  0.017337588530253675 * ZXIIZXZXIIYY,\n",
      "  -0.4665063509461096 * XXIIIXIXIIXX,\n",
      "  -0.4665063509461096 * YYIIIXIXIIXX,\n",
      "  0.12499999999999994 * XXIIZXIXIIXX,\n",
      "  0.12499999999999994 * YYIIZXIXIIXX,\n",
      "  0.12499999999999994 * XXIIIXZXIIXX,\n",
      "  0.12499999999999994 * YYIIIXZXIIXX,\n",
      "  -0.033493649053890316 * XXIIZXZXIIXX,\n",
      "  -0.033493649053890316 * YYIIZXZXIIXX,\n",
      "  -0.4665063509461096 * XXIIIXIXIIYY,\n",
      "  -0.4665063509461096 * YYIIIXIXIIYY,\n",
      "  0.12499999999999994 * XXIIZXIXIIYY,\n",
      "  0.12499999999999994 * YYIIZXIXIIYY,\n",
      "  0.12499999999999994 * XXIIIXZXIIYY,\n",
      "  0.12499999999999994 * YYIIIXZXIIYY,\n",
      "  -0.033493649053890316 * XXIIZXZXIIYY,\n",
      "  -0.033493649053890316 * YYIIZXZXIIYY,\n",
      "  -0.4665063509461096 * IXIIXXIXIIXX,\n",
      "  0.12499999999999994 * ZXIIXXIXIIXX,\n",
      "  -0.4665063509461096 * IXIIYYIXIIXX,\n",
      "  0.12499999999999994 * ZXIIYYIXIIXX,\n",
      "  0.12499999999999994 * IXIIXXZXIIXX,\n",
      "  -0.033493649053890316 * ZXIIXXZXIIXX,\n",
      "  0.12499999999999994 * IXIIYYZXIIXX,\n",
      "  -0.033493649053890316 * ZXIIYYZXIIXX,\n",
      "  -0.4665063509461096 * IXIIXXIXIIYY,\n",
      "  0.12499999999999994 * ZXIIXXIXIIYY,\n",
      "  -0.4665063509461096 * IXIIYYIXIIYY,\n",
      "  0.12499999999999994 * ZXIIYYIXIIYY,\n",
      "  0.12499999999999994 * IXIIXXZXIIYY,\n",
      "  -0.033493649053890316 * ZXIIXXZXIIYY,\n",
      "  0.12499999999999994 * IXIIYYZXIIYY,\n",
      "  -0.033493649053890316 * ZXIIYYZXIIYY,\n",
      "  -0.24148145657226705 * XXIIXXIXIIXX,\n",
      "  -0.24148145657226705 * YYIIXXIXIIXX,\n",
      "  -0.24148145657226705 * XXIIYYIXIIXX,\n",
      "  -0.24148145657226705 * YYIIYYIXIIXX,\n",
      "  0.06470476127563017 * XXIIXXZXIIXX,\n",
      "  0.06470476127563017 * YYIIXXZXIIXX,\n",
      "  0.06470476127563017 * XXIIYYZXIIXX,\n",
      "  0.06470476127563017 * YYIIYYZXIIXX,\n",
      "  -0.24148145657226705 * XXIIXXIXIIYY,\n",
      "  -0.24148145657226705 * YYIIXXIXIIYY,\n",
      "  -0.24148145657226705 * XXIIYYIXIIYY,\n",
      "  -0.24148145657226705 * YYIIYYIXIIYY,\n",
      "  0.06470476127563017 * XXIIXXZXIIYY,\n",
      "  0.06470476127563017 * YYIIXXZXIIYY,\n",
      "  0.06470476127563017 * XXIIYYZXIIYY,\n",
      "  0.06470476127563017 * YYIIYYZXIIYY,\n",
      "  -0.4665063509461096 * IXIIIXXXIIXX,\n",
      "  0.12499999999999994 * ZXIIIXXXIIXX,\n",
      "  0.12499999999999994 * IXIIZXXXIIXX,\n",
      "  -0.033493649053890316 * ZXIIZXXXIIXX,\n",
      "  -0.4665063509461096 * IXIIIXYYIIXX,\n",
      "  0.12499999999999994 * ZXIIIXYYIIXX,\n",
      "  0.12499999999999994 * IXIIZXYYIIXX,\n",
      "  -0.033493649053890316 * ZXIIZXYYIIXX,\n",
      "  -0.4665063509461096 * IXIIIXXXIIYY,\n",
      "  0.12499999999999994 * ZXIIIXXXIIYY,\n",
      "  0.12499999999999994 * IXIIZXXXIIYY,\n",
      "  -0.033493649053890316 * ZXIIZXXXIIYY,\n",
      "  -0.4665063509461096 * IXIIIXYYIIYY,\n",
      "  0.12499999999999994 * ZXIIIXYYIIYY,\n",
      "  0.12499999999999994 * IXIIZXYYIIYY,\n",
      "  -0.033493649053890316 * ZXIIZXYYIIYY,\n",
      "  -0.24148145657226705 * XXIIIXXXIIXX,\n",
      "  -0.24148145657226705 * YYIIIXXXIIXX,\n",
      "  0.06470476127563017 * XXIIZXXXIIXX,\n",
      "  0.06470476127563017 * YYIIZXXXIIXX,\n",
      "  -0.24148145657226705 * XXIIIXYYIIXX,\n",
      "  -0.24148145657226705 * YYIIIXYYIIXX,\n",
      "  0.06470476127563017 * XXIIZXYYIIXX,\n",
      "  0.06470476127563017 * YYIIZXYYIIXX,\n",
      "  -0.24148145657226705 * XXIIIXXXIIYY,\n",
      "  -0.24148145657226705 * YYIIIXXXIIYY,\n",
      "  0.06470476127563017 * XXIIZXXXIIYY,\n",
      "  0.06470476127563017 * YYIIZXXXIIYY,\n",
      "  -0.24148145657226705 * XXIIIXYYIIYY,\n",
      "  -0.24148145657226705 * YYIIIXYYIIYY,\n",
      "  0.06470476127563017 * XXIIZXYYIIYY,\n",
      "  0.06470476127563017 * YYIIZXYYIIYY,\n",
      "  -0.24148145657226705 * IXIIXXXXIIXX,\n",
      "  0.06470476127563017 * ZXIIXXXXIIXX,\n",
      "  -0.24148145657226705 * IXIIYYXXIIXX,\n",
      "  0.06470476127563017 * ZXIIYYXXIIXX,\n",
      "  -0.24148145657226705 * IXIIXXYYIIXX,\n",
      "  0.06470476127563017 * ZXIIXXYYIIXX,\n",
      "  -0.24148145657226705 * IXIIYYYYIIXX,\n",
      "  0.06470476127563017 * ZXIIYYYYIIXX,\n",
      "  -0.24148145657226705 * IXIIXXXXIIYY,\n",
      "  0.06470476127563017 * ZXIIXXXXIIYY,\n",
      "  -0.24148145657226705 * IXIIYYXXIIYY,\n",
      "  0.06470476127563017 * ZXIIYYXXIIYY,\n",
      "  -0.24148145657226705 * IXIIXXYYIIYY,\n",
      "  0.06470476127563017 * ZXIIXXYYIIYY,\n",
      "  -0.24148145657226705 * IXIIYYYYIIYY,\n",
      "  0.06470476127563017 * ZXIIYYYYIIYY,\n",
      "  -0.125 * XXIIXXXXIIXX,\n",
      "  -0.125 * YYIIXXXXIIXX,\n",
      "  -0.125 * XXIIYYXXIIXX,\n",
      "  -0.125 * YYIIYYXXIIXX,\n",
      "  -0.125 * XXIIXXYYIIXX,\n",
      "  -0.125 * YYIIXXYYIIXX,\n",
      "  -0.125 * XXIIYYYYIIXX,\n",
      "  -0.125 * YYIIYYYYIIXX,\n",
      "  -0.125 * XXIIXXXXIIYY,\n",
      "  -0.125 * YYIIXXXXIIYY,\n",
      "  -0.125 * XXIIYYXXIIYY,\n",
      "  -0.125 * YYIIYYXXIIYY,\n",
      "  -0.125 * XXIIXXYYIIYY,\n",
      "  -0.125 * YYIIXXYYIIYY,\n",
      "  -0.125 * XXIIYYYYIIYY,\n",
      "  -0.125 * YYIIYYYYIIYY,\n",
      "  -0.9012210650134379 * IIIXIXIIIXXX,\n",
      "  0.24148145657226694 * IIZXIXIIIXXX,\n",
      "  0.24148145657226694 * IIIXZXIIIXXX,\n",
      "  -0.06470476127563014 * IIZXZXIIIXXX,\n",
      "  0.24148145657226697 * IIIXIXIIZXXX,\n",
      "  -0.06470476127563014 * IIZXIXIIZXXX,\n",
      "  -0.06470476127563014 * IIIXZXIIZXXX,\n",
      "  0.017337588530253675 * IIZXZXIIZXXX,\n",
      "  -0.9012210650134379 * IIIXIXIIIXYY,\n",
      "  0.24148145657226694 * IIZXIXIIIXYY,\n",
      "  0.24148145657226694 * IIIXZXIIIXYY,\n",
      "  -0.06470476127563014 * IIZXZXIIIXYY,\n",
      "  0.24148145657226697 * IIIXIXIIZXYY,\n",
      "  -0.06470476127563014 * IIZXIXIIZXYY,\n",
      "  -0.06470476127563014 * IIIXZXIIZXYY,\n",
      "  0.017337588530253675 * IIZXZXIIZXYY,\n",
      "  -0.4665063509461096 * IIXXIXIIIXXX,\n",
      "  -0.4665063509461096 * IIYYIXIIIXXX,\n",
      "  0.12499999999999994 * IIXXZXIIIXXX,\n",
      "  0.12499999999999994 * IIYYZXIIIXXX,\n",
      "  0.12499999999999994 * IIXXIXIIZXXX,\n",
      "  0.12499999999999994 * IIYYIXIIZXXX,\n",
      "  -0.033493649053890316 * IIXXZXIIZXXX,\n",
      "  -0.033493649053890316 * IIYYZXIIZXXX,\n",
      "  -0.4665063509461096 * IIXXIXIIIXYY,\n",
      "  -0.4665063509461096 * IIYYIXIIIXYY,\n",
      "  0.12499999999999994 * IIXXZXIIIXYY,\n",
      "  0.12499999999999994 * IIYYZXIIIXYY,\n",
      "  0.12499999999999994 * IIXXIXIIZXYY,\n",
      "  0.12499999999999994 * IIYYIXIIZXYY,\n",
      "  -0.033493649053890316 * IIXXZXIIZXYY,\n",
      "  -0.033493649053890316 * IIYYZXIIZXYY,\n",
      "  -0.4665063509461096 * IIIXXXIIIXXX,\n",
      "  0.12499999999999994 * IIZXXXIIIXXX,\n",
      "  -0.4665063509461096 * IIIXYYIIIXXX,\n",
      "  0.12499999999999994 * IIZXYYIIIXXX,\n",
      "  0.12499999999999994 * IIIXXXIIZXXX,\n",
      "  -0.033493649053890316 * IIZXXXIIZXXX,\n",
      "  0.12499999999999994 * IIIXYYIIZXXX,\n",
      "  -0.033493649053890316 * IIZXYYIIZXXX,\n",
      "  -0.4665063509461096 * IIIXXXIIIXYY,\n",
      "  0.12499999999999994 * IIZXXXIIIXYY,\n",
      "  -0.4665063509461096 * IIIXYYIIIXYY,\n",
      "  0.12499999999999994 * IIZXYYIIIXYY,\n",
      "  0.12499999999999994 * IIIXXXIIZXYY,\n",
      "  -0.033493649053890316 * IIZXXXIIZXYY,\n",
      "  0.12499999999999994 * IIIXYYIIZXYY,\n",
      "  -0.033493649053890316 * IIZXYYIIZXYY,\n",
      "  -0.24148145657226705 * IIXXXXIIIXXX,\n",
      "  -0.24148145657226705 * IIYYXXIIIXXX,\n",
      "  -0.24148145657226705 * IIXXYYIIIXXX,\n",
      "  -0.24148145657226705 * IIYYYYIIIXXX,\n",
      "  0.06470476127563017 * IIXXXXIIZXXX,\n",
      "  0.06470476127563017 * IIYYXXIIZXXX,\n",
      "  0.06470476127563017 * IIXXYYIIZXXX,\n",
      "  0.06470476127563017 * IIYYYYIIZXXX,\n",
      "  -0.24148145657226705 * IIXXXXIIIXYY,\n",
      "  -0.24148145657226705 * IIYYXXIIIXYY,\n",
      "  -0.24148145657226705 * IIXXYYIIIXYY,\n",
      "  -0.24148145657226705 * IIYYYYIIIXYY,\n",
      "  0.06470476127563017 * IIXXXXIIZXYY,\n",
      "  0.06470476127563017 * IIYYXXIIZXYY,\n",
      "  0.06470476127563017 * IIXXYYIIZXYY,\n",
      "  0.06470476127563017 * IIYYYYIIZXYY,\n",
      "  -0.4665063509461096 * IIIXIXIIXXXX,\n",
      "  0.12499999999999994 * IIZXIXIIXXXX,\n",
      "  0.12499999999999994 * IIIXZXIIXXXX,\n",
      "  -0.033493649053890316 * IIZXZXIIXXXX,\n",
      "  -0.4665063509461096 * IIIXIXIIYYXX,\n",
      "  0.12499999999999994 * IIZXIXIIYYXX,\n",
      "  0.12499999999999994 * IIIXZXIIYYXX,\n",
      "  -0.033493649053890316 * IIZXZXIIYYXX,\n",
      "  -0.4665063509461096 * IIIXIXIIXXYY,\n",
      "  0.12499999999999994 * IIZXIXIIXXYY,\n",
      "  0.12499999999999994 * IIIXZXIIXXYY,\n",
      "  -0.033493649053890316 * IIZXZXIIXXYY,\n",
      "  -0.4665063509461096 * IIIXIXIIYYYY,\n",
      "  0.12499999999999994 * IIZXIXIIYYYY,\n",
      "  0.12499999999999994 * IIIXZXIIYYYY,\n",
      "  -0.033493649053890316 * IIZXZXIIYYYY,\n",
      "  -0.24148145657226705 * IIXXIXIIXXXX,\n",
      "  -0.24148145657226705 * IIYYIXIIXXXX,\n",
      "  0.06470476127563017 * IIXXZXIIXXXX,\n",
      "  0.06470476127563017 * IIYYZXIIXXXX,\n",
      "  -0.24148145657226705 * IIXXIXIIYYXX,\n",
      "  -0.24148145657226705 * IIYYIXIIYYXX,\n",
      "  0.06470476127563017 * IIXXZXIIYYXX,\n",
      "  0.06470476127563017 * IIYYZXIIYYXX,\n",
      "  -0.24148145657226705 * IIXXIXIIXXYY,\n",
      "  -0.24148145657226705 * IIYYIXIIXXYY,\n",
      "  0.06470476127563017 * IIXXZXIIXXYY,\n",
      "  0.06470476127563017 * IIYYZXIIXXYY,\n",
      "  -0.24148145657226705 * IIXXIXIIYYYY,\n",
      "  -0.24148145657226705 * IIYYIXIIYYYY,\n",
      "  0.06470476127563017 * IIXXZXIIYYYY,\n",
      "  0.06470476127563017 * IIYYZXIIYYYY,\n",
      "  -0.24148145657226705 * IIIXXXIIXXXX,\n",
      "  0.06470476127563017 * IIZXXXIIXXXX,\n",
      "  -0.24148145657226705 * IIIXYYIIXXXX,\n",
      "  0.06470476127563017 * IIZXYYIIXXXX,\n",
      "  -0.24148145657226705 * IIIXXXIIYYXX,\n",
      "  0.06470476127563017 * IIZXXXIIYYXX,\n",
      "  -0.24148145657226705 * IIIXYYIIYYXX,\n",
      "  0.06470476127563017 * IIZXYYIIYYXX,\n",
      "  -0.24148145657226705 * IIIXXXIIXXYY,\n",
      "  0.06470476127563017 * IIZXXXIIXXYY,\n",
      "  -0.24148145657226705 * IIIXYYIIXXYY,\n",
      "  0.06470476127563017 * IIZXYYIIXXYY,\n",
      "  -0.24148145657226705 * IIIXXXIIYYYY,\n",
      "  0.06470476127563017 * IIZXXXIIYYYY,\n",
      "  -0.24148145657226705 * IIIXYYIIYYYY,\n",
      "  0.06470476127563017 * IIZXYYIIYYYY,\n",
      "  -0.125 * IIXXXXIIXXXX,\n",
      "  -0.125 * IIYYXXIIXXXX,\n",
      "  -0.125 * IIXXYYIIXXXX,\n",
      "  -0.125 * IIYYYYIIXXXX,\n",
      "  -0.125 * IIXXXXIIYYXX,\n",
      "  -0.125 * IIYYXXIIYYXX,\n",
      "  -0.125 * IIXXYYIIYYXX,\n",
      "  -0.125 * IIYYYYIIYYXX,\n",
      "  -0.125 * IIXXXXIIXXYY,\n",
      "  -0.125 * IIYYXXIIXXYY,\n",
      "  -0.125 * IIXXYYIIXXYY,\n",
      "  -0.125 * IIYYYYIIXXYY,\n",
      "  -0.125 * IIXXXXIIYYYY,\n",
      "  -0.125 * IIYYXXIIYYYY,\n",
      "  -0.125 * IIXXYYIIYYYY,\n",
      "  -0.125 * IIYYYYIIYYYY\n",
      "])\n"
     ]
    }
   ],
   "source": [
    "print(quartic2.to_pauli_op())"
   ]
  },
  {
   "cell_type": "code",
   "execution_count": null,
   "metadata": {},
   "outputs": [
    {
     "data": {
      "text/plain": [
       "qiskit.opflow.list_ops.summed_op.SummedOp"
      ]
     },
     "execution_count": 53,
     "metadata": {},
     "output_type": "execute_result"
    }
   ],
   "source": [
    "type(quartic2)"
   ]
  },
  {
   "cell_type": "code",
   "execution_count": 54,
   "metadata": {},
   "outputs": [],
   "source": [
    "### Quartic Interaction\n",
    "V =  quartic1 + quartic2"
   ]
  },
  {
   "cell_type": "code",
   "execution_count": 55,
   "metadata": {},
   "outputs": [
    {
     "data": {
      "text/plain": [
       "18"
      ]
     },
     "execution_count": 55,
     "metadata": {},
     "output_type": "execute_result"
    }
   ],
   "source": [
    "V.num_qubits"
   ]
  },
  {
   "cell_type": "code",
   "execution_count": 56,
   "metadata": {},
   "outputs": [],
   "source": [
    "V_pauli = V.to_pauli_op()"
   ]
  },
  {
   "cell_type": "markdown",
   "metadata": {},
   "source": [
    "It takes only 6 seconds to create the Pauli version of this interaction terms when $\\Lambda=8$"
   ]
  },
  {
   "cell_type": "markdown",
   "metadata": {},
   "source": [
    "## Define the 'tHooft coupling"
   ]
  },
  {
   "cell_type": "code",
   "execution_count": 57,
   "metadata": {},
   "outputs": [],
   "source": [
    "g2N = 0.2\n",
    "N = 2"
   ]
  },
  {
   "cell_type": "code",
   "execution_count": 58,
   "metadata": {},
   "outputs": [],
   "source": [
    "### Full Hamiltonian\n",
    "H = H_osc + g2N / N * V"
   ]
  },
  {
   "cell_type": "code",
   "execution_count": 59,
   "metadata": {},
   "outputs": [
    {
     "data": {
      "text/plain": [
       "qiskit.opflow.list_ops.summed_op.SummedOp"
      ]
     },
     "execution_count": 59,
     "metadata": {},
     "output_type": "execute_result"
    }
   ],
   "source": [
    "type(H)"
   ]
  },
  {
   "cell_type": "code",
   "execution_count": null,
   "metadata": {},
   "outputs": [],
   "source": [
    "H.to_pauli_op()"
   ]
  },
  {
   "cell_type": "code",
   "execution_count": null,
   "metadata": {},
   "outputs": [
    {
     "data": {
      "text/plain": [
       "qiskit.opflow.list_ops.summed_op.SummedOp"
      ]
     },
     "execution_count": 66,
     "metadata": {},
     "output_type": "execute_result"
    }
   ],
   "source": [
    "type(H.to_pauli_op())"
   ]
  },
  {
   "cell_type": "code",
   "execution_count": null,
   "metadata": {},
   "outputs": [
    {
     "data": {
      "text/plain": [
       "12"
      ]
     },
     "execution_count": 67,
     "metadata": {},
     "output_type": "execute_result"
    }
   ],
   "source": [
    "H.num_qubits"
   ]
  },
  {
   "cell_type": "code",
   "execution_count": null,
   "metadata": {},
   "outputs": [],
   "source": [
    "testH = H.to_matrix_op()\n",
    "testH"
   ]
  },
  {
   "cell_type": "markdown",
   "metadata": {},
   "source": [
    "If we do not do this conversion for each term, we do not get the correct result!"
   ]
  },
  {
   "cell_type": "code",
   "execution_count": 60,
   "metadata": {},
   "outputs": [],
   "source": [
    "Hpauli = H.to_pauli_op()\n",
    "\n",
    "# the line below is also fine...\n",
    "# Hpauli1 = H_osc.to_pauli_op() + g2N / N * V.to_pauli_op()\n",
    "# Hpauli"
   ]
  },
  {
   "cell_type": "markdown",
   "metadata": {},
   "source": [
    "It takes about 6 seconds and only 2GB of memory to store the Pauli form of the Hamiltonian when $\\Lambda = 8$."
   ]
  },
  {
   "cell_type": "code",
   "execution_count": 27,
   "metadata": {},
   "outputs": [
    {
     "ename": "NameError",
     "evalue": "name 'Hpauli' is not defined",
     "output_type": "error",
     "traceback": [
      "\u001b[0;31m---------------------------------------------------------------------------\u001b[0m",
      "\u001b[0;31mNameError\u001b[0m                                 Traceback (most recent call last)",
      "\u001b[0;32m/tmp/ipykernel_65370/3792078584.py\u001b[0m in \u001b[0;36m<module>\u001b[0;34m\u001b[0m\n\u001b[0;32m----> 1\u001b[0;31m \u001b[0mHpauli\u001b[0m\u001b[0;34m\u001b[0m\u001b[0;34m\u001b[0m\u001b[0m\n\u001b[0m",
      "\u001b[0;31mNameError\u001b[0m: name 'Hpauli' is not defined"
     ]
    }
   ],
   "source": [
    "Hpauli"
   ]
  },
  {
   "cell_type": "code",
   "execution_count": 62,
   "metadata": {},
   "outputs": [
    {
     "data": {
      "text/plain": [
       "qiskit.opflow.list_ops.summed_op.SummedOp"
      ]
     },
     "execution_count": 62,
     "metadata": {},
     "output_type": "execute_result"
    }
   ],
   "source": [
    "type(Hpauli)"
   ]
  },
  {
   "cell_type": "code",
   "execution_count": 61,
   "metadata": {},
   "outputs": [],
   "source": [
    "# write expression to disk\n",
    "with open('pauliH_L8_bos2.txt','w') as f:\n",
    "    print(Hpauli,file=f)"
   ]
  },
  {
   "cell_type": "markdown",
   "metadata": {},
   "source": [
    "# Diagonalize the Hamiltonian to find the groundstate"
   ]
  },
  {
   "cell_type": "code",
   "execution_count": 23,
   "metadata": {},
   "outputs": [],
   "source": [
    "from qiskit.algorithms import NumPyMinimumEigensolver\n",
    "\n",
    "npme = NumPyMinimumEigensolver()"
   ]
  },
  {
   "cell_type": "code",
   "execution_count": 24,
   "metadata": {},
   "outputs": [],
   "source": [
    "# result = npme.compute_minimum_eigenvalue(operator=H_osc)\n",
    "# result = npme.compute_minimum_eigenvalue(operator=H)\n",
    "result = npme.compute_minimum_eigenvalue(operator=Hpauli)\n",
    "# result = npme.compute_minimum_eigenvalue(operator=testH)"
   ]
  },
  {
   "cell_type": "code",
   "execution_count": 25,
   "metadata": {},
   "outputs": [
    {
     "name": "stdout",
     "output_type": "stream",
     "text": [
      "{   'aux_operator_eigenvalues': None,\n",
      "    'eigenstate': VectorStateFn(Statevector([-9.47620420e-01+3.18627009e-01j,\n",
      "              1.56136406e-15+6.94220991e-16j,\n",
      "             -6.22180317e-17+3.62471582e-16j,\n",
      "             -9.94443076e-18+1.36881516e-18j,\n",
      "             -2.90751075e-16+4.98240902e-16j,\n",
      "             -1.65345909e-17-3.36397420e-17j,\n",
      "              1.90365419e-17+9.85324542e-18j,\n",
      "              4.06879268e-17-7.72321349e-17j,\n",
      "              7.61188596e-16-1.36148630e-16j,\n",
      "              7.61838939e-19-1.28229029e-17j,\n",
      "              7.76694124e-18-4.11000098e-18j,\n",
      "              2.52222711e-17-1.17089097e-16j,\n",
      "              1.24015117e-17-1.86904173e-17j,\n",
      "              3.06830741e-17+1.40022570e-16j,\n",
      "              5.04204953e-17-1.39861574e-16j,\n",
      "             -8.25443523e-17+7.36772904e-17j,\n",
      "              9.51380258e-16-5.75015622e-16j,\n",
      "              2.77831646e-17-1.99751691e-18j,\n",
      "              3.38281552e-18-4.18611871e-19j,\n",
      "             -1.16077939e-16+1.08713337e-16j,\n",
      "             -1.58550095e-17-5.22166338e-17j,\n",
      "             -7.93318862e-17-6.44795361e-17j,\n",
      "             -1.24259268e-16-5.18819976e-17j,\n",
      "             -3.40195444e-17+9.42774017e-17j,\n",
      "              8.80711845e-18+5.63414302e-19j,\n",
      "             -7.95433086e-17-7.20918778e-18j,\n",
      "              3.41492158e-17-6.33227303e-17j,\n",
      "             -1.21429950e-02+4.08294935e-03j,\n",
      "             -1.25243408e-16+1.13129359e-16j,\n",
      "             -2.19270199e-17+5.66897134e-17j,\n",
      "             -1.34056831e-16-5.17703487e-17j,\n",
      "             -4.95122769e-17-3.25080770e-17j,\n",
      "              7.38762930e-16+2.28307072e-16j,\n",
      "              1.07764159e-17+1.02877087e-18j,\n",
      "             -1.11452039e-17-1.76206039e-17j,\n",
      "             -6.64579915e-17+6.78637049e-17j,\n",
      "              1.00632003e-18+2.32107760e-17j,\n",
      "             -5.64863319e-17+2.17631388e-19j,\n",
      "              1.12681677e-16-1.53585847e-16j,\n",
      "              6.12609499e-17-1.32470172e-16j,\n",
      "              1.45020007e-17+2.12573333e-17j,\n",
      "             -1.75844459e-17-1.07754870e-16j,\n",
      "             -1.23474853e-16-1.05970693e-16j,\n",
      "              1.42970817e-17-6.34751110e-17j,\n",
      "             -1.26924710e-16-1.05905108e-16j,\n",
      "             -1.21429950e-02+4.08294935e-03j,\n",
      "              4.29640355e-17+7.12653171e-17j,\n",
      "             -1.79761158e-17-6.52504296e-17j,\n",
      "             -1.00586295e-17+1.09980852e-17j,\n",
      "             -1.33601643e-17+1.24288582e-16j,\n",
      "              1.65043119e-16-1.68682399e-17j,\n",
      "              5.71289467e-17-8.05995573e-17j,\n",
      "             -6.30429642e-17+6.22917295e-17j,\n",
      "              6.45931345e-17+2.31033976e-17j,\n",
      "             -1.21429950e-02+4.08294935e-03j,\n",
      "              1.36165365e-16+1.81059089e-17j,\n",
      "             -8.32531443e-17-6.09078667e-17j,\n",
      "              4.69213862e-17+6.18277097e-17j,\n",
      "             -1.07991534e-16-5.82868551e-17j,\n",
      "              3.40318781e-17-6.23294369e-17j,\n",
      "              8.94100779e-17-8.65512155e-17j,\n",
      "              1.02112343e-16-7.17701717e-17j,\n",
      "             -3.96158977e-17-1.52041036e-17j,\n",
      "              3.52335149e-17-4.74749955e-16j],\n",
      "            dims=(2, 2, 2, 2, 2, 2)), coeff=1.0, is_measurement=False),\n",
      "    'eigenvalue': (3.1480778704056926+1.6089929456379522e-18j)}\n"
     ]
    }
   ],
   "source": [
    "print(result)"
   ]
  },
  {
   "cell_type": "code",
   "execution_count": 26,
   "metadata": {},
   "outputs": [
    {
     "name": "stdout",
     "output_type": "stream",
     "text": [
      "Ground state energy value: 3.14808\n"
     ]
    }
   ],
   "source": [
    "ref_value = result.eigenvalue.real\n",
    "print(f'Ground state energy value: {ref_value:.5f}')"
   ]
  },
  {
   "cell_type": "markdown",
   "metadata": {},
   "source": [
    "I can not get anything different from 3.000 even if I have the interactions turned on... The reason I found out is that the `MatrixOp` is interpreted differently than a `SummedOp` by the eigensolver. When using the `SummedOp` that I get from the `PauliOp` procedure, it turns out that the statevector is just living in a 2-dimensional space (1 qubit) instead of the full tensor product space of 6 qubits:\n",
    "``` \n",
    "dims=(2,)) instead of dims=(2, 2, 2, 2, 2, 2))\n",
    "```\n",
    "\n",
    "One solution is to create the Hamiltonian calling `.to_pauli_op()` on each term."
   ]
  },
  {
   "cell_type": "markdown",
   "metadata": {},
   "source": [
    "## Construct the Hamiltonian matrix as usual\n",
    "This only works for cutoffs smaller than 5 due to memory requirements in `MatrixOp`."
   ]
  },
  {
   "cell_type": "code",
   "execution_count": 27,
   "metadata": {},
   "outputs": [],
   "source": [
    "from scipy.sparse import kron \n",
    "\n",
    "def build_operators(L: int, N: int) -> list:\n",
    "    \"\"\"Generate all the annihilation operators needed to build the hamiltonian\n",
    "    Args:\n",
    "        L (int): the cutoff of the single site Fock space\n",
    "        N (int): the number of colors of gauge group SU(N)\n",
    "    Returns:\n",
    "        list: a list of annihilation operators, length=N_bos\n",
    "    \"\"\"\n",
    "    # The annihilation operator for the single boson\n",
    "    a_b = diags(np.sqrt(np.linspace(1, L - 1, L - 1)), offsets=1)\n",
    "    # The identity operator of the Fock space of a single boson\n",
    "    i_b = identity(L)\n",
    "    # Bosonic Hilbert space\n",
    "    N_bos = int(2 * (N ** 2 - 1))  # number of boson sites -> fixed for mini-BMN 2\n",
    "    product_list = [i_b] * N_bos  # only the identity for bosons repeated N_bos times\n",
    "    a_b_list = []  # this will contain a1...a6\n",
    "    for i in np.arange(0, N_bos):  # loop over all bosonic operators\n",
    "        operator_list = product_list.copy()  # all elements are the identity operator\n",
    "        operator_list[\n",
    "            i\n",
    "        ] = a_b  # the i^th element is now the annihilation operator for a single boson\n",
    "        a_b_list.append(\n",
    "            operator_list[0]\n",
    "        )  # start taking tensor products from first element\n",
    "        for a in operator_list[1:]:\n",
    "            a_b_list[i] = kron(\n",
    "                a_b_list[i], a\n",
    "            )  # do the outer product between each operator_list element\n",
    "    return a_b_list"
   ]
  },
  {
   "cell_type": "code",
   "execution_count": 28,
   "metadata": {},
   "outputs": [],
   "source": [
    "a_b_list = build_operators(L,N)\n",
    "# Build the Hamiltonian\n",
    "# Start piece by piece\n",
    "x_list = []\n",
    "# only use the bosonic operators\n",
    "for op in a_b_list:\n",
    "    x_list.append(1 / np.sqrt(2) * (op.conjugate().transpose() + op))\n",
    "# Free Hamiltonian\n",
    "H_k = 0\n",
    "for a in a_b_list:\n",
    "    H_k = H_k + a.conjugate().transpose() * a\n",
    "# vacuum energy\n",
    "H_k = H_k + 0.5 * Nmat * identity(L ** Nmat)"
   ]
  },
  {
   "cell_type": "code",
   "execution_count": 23,
   "metadata": {},
   "outputs": [],
   "source": [
    "am = MatrixOp(a_b_list[0])"
   ]
  },
  {
   "cell_type": "code",
   "execution_count": 24,
   "metadata": {},
   "outputs": [
    {
     "name": "stdout",
     "output_type": "stream",
     "text": [
      "SummedOp([\n",
      "  0.5 * XIIIII,\n",
      "  0.5j * YIIIII\n",
      "])\n"
     ]
    }
   ],
   "source": [
    "# this takes a really long time even for L=4\n",
    "print(am.to_pauli_op())"
   ]
  },
  {
   "cell_type": "markdown",
   "metadata": {},
   "source": [
    "The operation of using `PauliOp` directly to construct a single boson annihilation operator in the full space gives\n",
    "```\n",
    "0.5 * XIIIII\n",
    "+ 0.5j * YIIIII\n",
    "```\n"
   ]
  },
  {
   "cell_type": "code",
   "execution_count": 25,
   "metadata": {},
   "outputs": [],
   "source": [
    "xm = MatrixOp(x_list[0])"
   ]
  },
  {
   "cell_type": "code",
   "execution_count": 26,
   "metadata": {},
   "outputs": [
    {
     "name": "stdout",
     "output_type": "stream",
     "text": [
      "0.7071067811865477 * XIIIII\n"
     ]
    }
   ],
   "source": [
    "print(xm.to_pauli_op())"
   ]
  },
  {
   "cell_type": "markdown",
   "metadata": {},
   "source": [
    "The corresponding `PauliOp` is\n",
    "```\n",
    "0.7071067811865475 * XIIIII\n",
    "```"
   ]
  },
  {
   "cell_type": "markdown",
   "metadata": {},
   "source": [
    "### The result of computing the energy using the free Hamiltonian as a `MatrixOp`"
   ]
  },
  {
   "cell_type": "code",
   "execution_count": 33,
   "metadata": {},
   "outputs": [],
   "source": [
    "Hm = MatrixOp(H_k)\n",
    "result = npme.compute_minimum_eigenvalue(operator=Hm)"
   ]
  },
  {
   "cell_type": "code",
   "execution_count": 34,
   "metadata": {},
   "outputs": [
    {
     "name": "stdout",
     "output_type": "stream",
     "text": [
      "Ground state energy value: 3.00000\n"
     ]
    }
   ],
   "source": [
    "ref_value = result.eigenvalue.real\n",
    "print(f'Ground state energy value: {ref_value:.5f}')"
   ]
  },
  {
   "cell_type": "markdown",
   "metadata": {},
   "source": [
    "### Add interactions"
   ]
  },
  {
   "cell_type": "code",
   "execution_count": 29,
   "metadata": {},
   "outputs": [],
   "source": [
    "v_b1 = ( x_list[2] * x_list[2] * x_list[3] * x_list[3]\n",
    "    + x_list[2] * x_list[2] * x_list[4] * x_list[4]\n",
    "    + x_list[1] * x_list[1] * x_list[3] * x_list[3]\n",
    "    + x_list[1] * x_list[1] * x_list[5] * x_list[5]\n",
    "    + x_list[0] * x_list[0] * x_list[4] * x_list[4]\n",
    "    + x_list[0] * x_list[0] * x_list[5] * x_list[5]\n",
    "    )\n",
    "v_b2 = -2.0 * ( x_list[0] * x_list[2] * x_list[3] * x_list[5]\n",
    "    + x_list[0] * x_list[1] * x_list[3] * x_list[4]\n",
    "    + x_list[1] * x_list[2] * x_list[4] * x_list[5]\n",
    "    )\n",
    "V_b = v_b1 + v_b2\n"
   ]
  },
  {
   "cell_type": "code",
   "execution_count": 71,
   "metadata": {},
   "outputs": [],
   "source": [
    "vm = MatrixOp(v_b1)"
   ]
  },
  {
   "cell_type": "code",
   "execution_count": 73,
   "metadata": {},
   "outputs": [
    {
     "data": {
      "text/plain": [
       "PauliOp(Pauli('IIIIII'), coeff=1.4999999999999998)"
      ]
     },
     "execution_count": 73,
     "metadata": {},
     "output_type": "execute_result"
    }
   ],
   "source": [
    "vm.to_pauli_op()"
   ]
  },
  {
   "cell_type": "code",
   "execution_count": 74,
   "metadata": {},
   "outputs": [],
   "source": [
    "vm = MatrixOp(v_b2)"
   ]
  },
  {
   "cell_type": "code",
   "execution_count": 75,
   "metadata": {},
   "outputs": [
    {
     "data": {
      "text/plain": [
       "SummedOp([PauliOp(Pauli('IXXIXX'), coeff=-0.49999999999999994), PauliOp(Pauli('XIXXIX'), coeff=-0.49999999999999994), PauliOp(Pauli('XXIXXI'), coeff=-0.49999999999999994)], coeff=1.0, abelian=False)"
      ]
     },
     "execution_count": 75,
     "metadata": {},
     "output_type": "execute_result"
    }
   ],
   "source": [
    "vm.to_pauli_op()"
   ]
  },
  {
   "cell_type": "code",
   "execution_count": 30,
   "metadata": {},
   "outputs": [],
   "source": [
    "# full hamiltonian\n",
    "H_full = H_k + g2N / N * V_b"
   ]
  },
  {
   "cell_type": "code",
   "execution_count": 31,
   "metadata": {},
   "outputs": [
    {
     "data": {
      "text/plain": [
       "SummedOp([PauliOp(Pauli('IIIIII'), coeff=6.150000000000001), PauliOp(Pauli('IIIIIZ'), coeff=-0.5000000000000004), PauliOp(Pauli('IIIIZI'), coeff=-0.5000000000000009), PauliOp(Pauli('IIIZII'), coeff=-0.5), PauliOp(Pauli('IIZIII'), coeff=-0.5), PauliOp(Pauli('IXXIXX'), coeff=-0.05), PauliOp(Pauli('IZIIII'), coeff=-0.5), PauliOp(Pauli('XIXXIX'), coeff=-0.05), PauliOp(Pauli('XXIXXI'), coeff=-0.05), PauliOp(Pauli('ZIIIII'), coeff=-0.5)], coeff=1.0, abelian=False)"
      ]
     },
     "execution_count": 31,
     "metadata": {},
     "output_type": "execute_result"
    }
   ],
   "source": [
    "Hm = MatrixOp(H_full)\n",
    "Hm.to_pauli_op()"
   ]
  },
  {
   "cell_type": "markdown",
   "metadata": {},
   "source": [
    "Using `PauliOp` with L=2 I get\n",
    "```\n",
    "SummedOp([PauliOp(Pauli('IIIIII'), coeff=6.150000000000002), PauliOp(Pauli('ZIIIII'), coeff=-0.5), PauliOp(Pauli('IZIIII'), coeff=-0.5), PauliOp(Pauli('IIZIII'), coeff=-0.5), PauliOp(Pauli('IIIZII'), coeff=-0.5), PauliOp(Pauli('IIIIZI'), coeff=-0.5), PauliOp(Pauli('IIIIIZ'), coeff=-0.5), PauliOp(Pauli('XXIXXI'), coeff=-0.04999999999999999), PauliOp(Pauli('XIXXIX'), coeff=-0.04999999999999999), PauliOp(Pauli('IXXIXX'), coeff=-0.04999999999999999)], coeff=1.0, abelian=False)\n",
    "```\n"
   ]
  },
  {
   "cell_type": "code",
   "execution_count": 32,
   "metadata": {},
   "outputs": [
    {
     "name": "stdout",
     "output_type": "stream",
     "text": [
      "Ground state energy value: 3.14808\n"
     ]
    }
   ],
   "source": [
    "result = npme.compute_minimum_eigenvalue(operator=Hm)\n",
    "ref_value = result.eigenvalue.real\n",
    "print(f'Ground state energy value: {ref_value:.5f}')"
   ]
  },
  {
   "cell_type": "code",
   "execution_count": 33,
   "metadata": {},
   "outputs": [
    {
     "name": "stdout",
     "output_type": "stream",
     "text": [
      "Ground state energy value: 3.14808\n"
     ]
    }
   ],
   "source": [
    "result = npme.compute_minimum_eigenvalue(operator=Hm.to_pauli_op())\n",
    "ref_value = result.eigenvalue.real\n",
    "print(f'Ground state energy value: {ref_value:.5f}')"
   ]
  },
  {
   "cell_type": "code",
   "execution_count": 34,
   "metadata": {},
   "outputs": [
    {
     "name": "stdout",
     "output_type": "stream",
     "text": [
      "{   'aux_operator_eigenvalues': None,\n",
      "    'eigenstate': VectorStateFn(Statevector([-6.53152306e-01+7.56901379e-01j,\n",
      "              4.39091153e-16-2.51286056e-16j,\n",
      "             -5.47069374e-16+9.13964942e-16j,\n",
      "              2.31451472e-17-4.45336007e-17j,\n",
      "             -1.70463142e-17-5.47824537e-16j,\n",
      "              3.84882473e-17-1.01862779e-17j,\n",
      "              3.62020762e-17+5.32859159e-18j,\n",
      "             -3.40307766e-17-2.95363325e-17j,\n",
      "             -9.91365094e-16-2.26594666e-16j,\n",
      "             -2.04203158e-16+6.62687331e-18j,\n",
      "             -3.71877473e-17-7.39322672e-18j,\n",
      "             -2.85230492e-17+5.47882114e-18j,\n",
      "             -8.43919020e-17-1.02496506e-16j,\n",
      "             -1.46231434e-17+1.23676908e-19j,\n",
      "              3.05682332e-18-2.05368745e-17j,\n",
      "             -6.28212538e-18+1.24113009e-18j,\n",
      "             -7.70784566e-16+3.40654814e-16j,\n",
      "              2.99513357e-18+2.98985451e-17j,\n",
      "             -1.62555824e-16-2.72969079e-17j,\n",
      "             -3.64690913e-17+3.00817293e-18j,\n",
      "             -4.98699137e-17+1.93844155e-17j,\n",
      "              3.39036864e-18-4.90425360e-17j,\n",
      "              4.06612354e-19+5.02664752e-17j,\n",
      "              3.59049591e-18-1.24322967e-18j,\n",
      "              3.60230949e-17+2.49262535e-18j,\n",
      "             -7.12746037e-17-2.83334626e-17j,\n",
      "              1.96721333e-17+7.54413374e-17j,\n",
      "             -8.36962251e-03+9.69908360e-03j,\n",
      "             -6.43116490e-18-2.49183455e-17j,\n",
      "             -6.20667189e-18-6.23639193e-18j,\n",
      "             -2.56872858e-17+1.77949788e-18j,\n",
      "              1.44999965e-16-8.66841165e-17j,\n",
      "              1.29707767e-15-4.56422129e-16j,\n",
      "             -4.39797035e-17+1.39217840e-17j,\n",
      "              2.25019563e-17+2.96414249e-17j,\n",
      "              3.48940923e-17-1.81223451e-17j,\n",
      "             -1.45516970e-16-1.26882155e-17j,\n",
      "             -1.15225229e-17-2.78468210e-18j,\n",
      "             -3.19892329e-17+1.01815111e-17j,\n",
      "              2.53469708e-17-1.98892501e-18j,\n",
      "             -9.24741526e-17-1.32804756e-17j,\n",
      "             -3.18697779e-17-2.93871170e-17j,\n",
      "             -1.45899534e-17-1.01779487e-17j,\n",
      "             -1.87902898e-17-2.76716863e-18j,\n",
      "              1.21201143e-17+3.08078889e-17j,\n",
      "             -8.36962251e-03+9.69908360e-03j,\n",
      "              6.90263353e-18-2.63661091e-17j,\n",
      "              1.63257203e-16+1.04552417e-16j,\n",
      "             -1.10791360e-17+4.77478935e-17j,\n",
      "             -4.24947575e-17-2.20608534e-17j,\n",
      "             -3.53219090e-18-1.38075026e-17j,\n",
      "             -1.68618304e-18-4.25809196e-18j,\n",
      "             -2.03940717e-17-1.45738273e-17j,\n",
      "             -1.61118750e-17-4.61416582e-19j,\n",
      "             -8.36962251e-03+9.69908360e-03j,\n",
      "              1.72415680e-16+4.09482291e-17j,\n",
      "              8.96913810e-18-7.55605186e-18j,\n",
      "              1.02353558e-17+2.81555251e-17j,\n",
      "              6.57444540e-19-7.58735572e-18j,\n",
      "             -1.28163405e-16-1.73354199e-16j,\n",
      "             -3.50708082e-18-1.74614536e-17j,\n",
      "             -6.70121488e-17+4.61723610e-17j,\n",
      "              1.02546954e-16-1.45794943e-16j,\n",
      "              1.23461580e-16-5.30785544e-16j],\n",
      "            dims=(2, 2, 2, 2, 2, 2)), coeff=1.0, is_measurement=False),\n",
      "    'eigenvalue': (3.1480778704056815+1.318676771497426e-16j)}\n"
     ]
    }
   ],
   "source": [
    "print(result)"
   ]
  },
  {
   "cell_type": "code",
   "execution_count": null,
   "metadata": {},
   "outputs": [],
   "source": []
  }
 ],
 "metadata": {
  "interpreter": {
   "hash": "64d8ed5abcbd1db92d6ad1dee88a7ce3512b0e05c8931134de116878c16e43a8"
  },
  "kernelspec": {
   "display_name": "Python 3.9.2 64-bit ('qiskit': conda)",
   "language": "python",
   "name": "python3"
  },
  "language_info": {
   "codemirror_mode": {
    "name": "ipython",
    "version": 3
   },
   "file_extension": ".py",
   "mimetype": "text/x-python",
   "name": "python",
   "nbconvert_exporter": "python",
   "pygments_lexer": "ipython3",
   "version": "3.9.6"
  },
  "metadata": {
   "interpreter": {
    "hash": "5ef24b7070357fb8e5b617d6f2cac47635e0a99e9e0b7fbdd27214ca7963c085"
   }
  },
  "orig_nbformat": 2
 },
 "nbformat": 4,
 "nbformat_minor": 2
}
