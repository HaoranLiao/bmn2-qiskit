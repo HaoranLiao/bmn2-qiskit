{
    "cells": [
        {
            "cell_type": "markdown",
            "source": [
                "# Convergence plot. Minimal BMN"
            ],
            "metadata": {}
        },
        {
            "cell_type": "code",
            "execution_count": 1,
            "source": [
                "import pandas as pd\n",
                "import numpy as np\n",
                "import matplotlib.pyplot as plt\n",
                "# plt.rc(\"text\", usetex=True)\n",
                "plt.style.use(\"../figures/paper.mplstyle\")"
            ],
            "outputs": [],
            "metadata": {}
        },
        {
            "cell_type": "markdown",
            "source": [
                "## Read data from disk"
            ],
            "metadata": {}
        },
        {
            "cell_type": "code",
            "execution_count": 2,
            "source": [
                "# parameters\n",
                "opt_label = [\"COBYLA\",\"L-BFGS-B\",\"SLSQP\",\"NELDER-MEAD\"]\n",
                "var_label = 'ry'\n",
                "coupling = '02'\n",
                "depth = '3'\n",
                "nrep = '10'\n",
                "maxiter = '10000'"
            ],
            "outputs": [],
            "metadata": {}
        },
        {
            "cell_type": "code",
            "execution_count": 3,
            "source": [
                "def read_data(optimizer):\n",
                "    filename = f\"../data/miniBMN_l{coupling}_convergence_{optimizer}_{var_label}_depth{depth}_reps{nrep}_max{maxiter}.h5\"\n",
                "    return pd.read_hdf(filename,\"vqe\")"
            ],
            "outputs": [],
            "metadata": {}
        },
        {
            "cell_type": "code",
            "execution_count": 4,
            "source": [
                "df = read_data(opt_label[0])"
            ],
            "outputs": [],
            "metadata": {}
        },
        {
            "cell_type": "code",
            "execution_count": 5,
            "source": [
                "df.head()"
            ],
            "outputs": [
                {
                    "output_type": "execute_result",
                    "data": {
                        "text/plain": [
                            "     counts    energy\n",
                            "rep                  \n",
                            "0         1  5.273152\n",
                            "0         2  6.173391\n",
                            "0         3  5.800338\n",
                            "0         4  5.254761\n",
                            "0         5  5.712117"
                        ],
                        "text/html": [
                            "<div>\n",
                            "<style scoped>\n",
                            "    .dataframe tbody tr th:only-of-type {\n",
                            "        vertical-align: middle;\n",
                            "    }\n",
                            "\n",
                            "    .dataframe tbody tr th {\n",
                            "        vertical-align: top;\n",
                            "    }\n",
                            "\n",
                            "    .dataframe thead th {\n",
                            "        text-align: right;\n",
                            "    }\n",
                            "</style>\n",
                            "<table border=\"1\" class=\"dataframe\">\n",
                            "  <thead>\n",
                            "    <tr style=\"text-align: right;\">\n",
                            "      <th></th>\n",
                            "      <th>counts</th>\n",
                            "      <th>energy</th>\n",
                            "    </tr>\n",
                            "    <tr>\n",
                            "      <th>rep</th>\n",
                            "      <th></th>\n",
                            "      <th></th>\n",
                            "    </tr>\n",
                            "  </thead>\n",
                            "  <tbody>\n",
                            "    <tr>\n",
                            "      <th>0</th>\n",
                            "      <td>1</td>\n",
                            "      <td>5.273152</td>\n",
                            "    </tr>\n",
                            "    <tr>\n",
                            "      <th>0</th>\n",
                            "      <td>2</td>\n",
                            "      <td>6.173391</td>\n",
                            "    </tr>\n",
                            "    <tr>\n",
                            "      <th>0</th>\n",
                            "      <td>3</td>\n",
                            "      <td>5.800338</td>\n",
                            "    </tr>\n",
                            "    <tr>\n",
                            "      <th>0</th>\n",
                            "      <td>4</td>\n",
                            "      <td>5.254761</td>\n",
                            "    </tr>\n",
                            "    <tr>\n",
                            "      <th>0</th>\n",
                            "      <td>5</td>\n",
                            "      <td>5.712117</td>\n",
                            "    </tr>\n",
                            "  </tbody>\n",
                            "</table>\n",
                            "</div>"
                        ]
                    },
                    "metadata": {},
                    "execution_count": 5
                }
            ],
            "metadata": {}
        },
        {
            "cell_type": "code",
            "execution_count": 6,
            "source": [
                "best_values = df[\"energy\"].groupby(\"rep\").apply(min)"
            ],
            "outputs": [],
            "metadata": {}
        },
        {
            "cell_type": "code",
            "execution_count": 7,
            "source": [
                "best_values.sort_values()"
            ],
            "outputs": [
                {
                    "output_type": "execute_result",
                    "data": {
                        "text/plain": [
                            "rep\n",
                            "5    0.125046\n",
                            "0    0.125059\n",
                            "7    0.125154\n",
                            "3    0.125154\n",
                            "2    0.125155\n",
                            "8    0.125155\n",
                            "9    0.125155\n",
                            "4    0.149428\n",
                            "6    0.150001\n",
                            "1    0.150003\n",
                            "Name: energy, dtype: float64"
                        ]
                    },
                    "metadata": {},
                    "execution_count": 7
                }
            ],
            "metadata": {}
        },
        {
            "cell_type": "markdown",
            "source": [
                "Collect multiple data in one frame"
            ],
            "metadata": {}
        },
        {
            "cell_type": "code",
            "execution_count": 8,
            "source": [
                "frames = [read_data(o) for o in opt_label]\n",
                "result = pd.concat(frames, keys=opt_label,names=['Optimizer'])"
            ],
            "outputs": [],
            "metadata": {}
        },
        {
            "cell_type": "code",
            "execution_count": 9,
            "source": [
                "result.head()"
            ],
            "outputs": [
                {
                    "output_type": "execute_result",
                    "data": {
                        "text/plain": [
                            "               counts    energy\n",
                            "Optimizer rep                  \n",
                            "COBYLA    0         1  5.273152\n",
                            "          0         2  6.173391\n",
                            "          0         3  5.800338\n",
                            "          0         4  5.254761\n",
                            "          0         5  5.712117"
                        ],
                        "text/html": [
                            "<div>\n",
                            "<style scoped>\n",
                            "    .dataframe tbody tr th:only-of-type {\n",
                            "        vertical-align: middle;\n",
                            "    }\n",
                            "\n",
                            "    .dataframe tbody tr th {\n",
                            "        vertical-align: top;\n",
                            "    }\n",
                            "\n",
                            "    .dataframe thead th {\n",
                            "        text-align: right;\n",
                            "    }\n",
                            "</style>\n",
                            "<table border=\"1\" class=\"dataframe\">\n",
                            "  <thead>\n",
                            "    <tr style=\"text-align: right;\">\n",
                            "      <th></th>\n",
                            "      <th></th>\n",
                            "      <th>counts</th>\n",
                            "      <th>energy</th>\n",
                            "    </tr>\n",
                            "    <tr>\n",
                            "      <th>Optimizer</th>\n",
                            "      <th>rep</th>\n",
                            "      <th></th>\n",
                            "      <th></th>\n",
                            "    </tr>\n",
                            "  </thead>\n",
                            "  <tbody>\n",
                            "    <tr>\n",
                            "      <th rowspan=\"5\" valign=\"top\">COBYLA</th>\n",
                            "      <th>0</th>\n",
                            "      <td>1</td>\n",
                            "      <td>5.273152</td>\n",
                            "    </tr>\n",
                            "    <tr>\n",
                            "      <th>0</th>\n",
                            "      <td>2</td>\n",
                            "      <td>6.173391</td>\n",
                            "    </tr>\n",
                            "    <tr>\n",
                            "      <th>0</th>\n",
                            "      <td>3</td>\n",
                            "      <td>5.800338</td>\n",
                            "    </tr>\n",
                            "    <tr>\n",
                            "      <th>0</th>\n",
                            "      <td>4</td>\n",
                            "      <td>5.254761</td>\n",
                            "    </tr>\n",
                            "    <tr>\n",
                            "      <th>0</th>\n",
                            "      <td>5</td>\n",
                            "      <td>5.712117</td>\n",
                            "    </tr>\n",
                            "  </tbody>\n",
                            "</table>\n",
                            "</div>"
                        ]
                    },
                    "metadata": {},
                    "execution_count": 9
                }
            ],
            "metadata": {}
        },
        {
            "cell_type": "code",
            "execution_count": 24,
            "source": [
                "result.loc[\"NELDER-MEAD\",0].plot(x='counts',y='energy')"
            ],
            "outputs": [
                {
                    "output_type": "execute_result",
                    "data": {
                        "text/plain": [
                            "<AxesSubplot:xlabel='counts'>"
                        ]
                    },
                    "metadata": {},
                    "execution_count": 24
                },
                {
                    "output_type": "display_data",
                    "data": {
                        "text/plain": [
                            "<Figure size 720x576 with 1 Axes>"
                        ],
                        "image/png": "[encoded data removed]"
                    },
                    "metadata": {
                        "needs_background": "light"
                    }
                }
            ],
            "metadata": {}
        },
        {
            "cell_type": "markdown",
            "source": [
                "## Get stats"
            ],
            "metadata": {}
        },
        {
            "cell_type": "code",
            "execution_count": 10,
            "source": [
                "result.groupby('Optimizer').apply(min).energy"
            ],
            "outputs": [
                {
                    "output_type": "execute_result",
                    "data": {
                        "text/plain": [
                            "Optimizer\n",
                            "COBYLA         0.125046\n",
                            "L-BFGS-B       0.125028\n",
                            "SLSQP          0.124945\n",
                            "NELDER-MEAD    1.538926\n",
                            "Name: energy, dtype: float64"
                        ]
                    },
                    "metadata": {},
                    "execution_count": 10
                }
            ],
            "metadata": {}
        },
        {
            "cell_type": "code",
            "execution_count": 11,
            "source": [
                "result.loc[\"COBYLA\"].groupby('rep').apply(min).energy"
            ],
            "outputs": [
                {
                    "output_type": "execute_result",
                    "data": {
                        "text/plain": [
                            "rep\n",
                            "0    0.125059\n",
                            "1    0.150003\n",
                            "2    0.125155\n",
                            "3    0.125154\n",
                            "4    0.149428\n",
                            "5    0.125046\n",
                            "6    0.150001\n",
                            "7    0.125154\n",
                            "8    0.125155\n",
                            "9    0.125155\n",
                            "Name: energy, dtype: float64"
                        ]
                    },
                    "metadata": {},
                    "execution_count": 11
                }
            ],
            "metadata": {}
        },
        {
            "cell_type": "code",
            "execution_count": 12,
            "source": [
                "for r in opt_label:\n",
                "    print(\"Optimizer:\",r)\n",
                "    print(\"Mean: \",result.loc[r].groupby('rep').apply(min).energy.mean())\n",
                "    print(\"Std: \",result.loc[r].groupby('rep').apply(min).energy.std())\n",
                "    print(\"Min: \",result.loc[r].groupby('rep').apply(min).energy.min())\n",
                "    print(\"Max: \",result.loc[r].groupby('rep').apply(min).energy.max())"
            ],
            "outputs": [
                {
                    "output_type": "stream",
                    "name": "stdout",
                    "text": [
                        "Optimizer: COBYLA\n",
                        "Mean:  0.1325311787900969\n",
                        "Std:  0.011925196099168138\n",
                        "Min:  0.12504608349862176\n",
                        "Max:  0.15000285392411333\n",
                        "Optimizer: L-BFGS-B\n",
                        "Mean:  0.14504139482648348\n",
                        "Std:  0.010462321591099864\n",
                        "Min:  0.125028492038143\n",
                        "Max:  0.15001831544646624\n",
                        "Optimizer: SLSQP\n",
                        "Mean:  0.14500601755174797\n",
                        "Std:  0.010529627297101475\n",
                        "Min:  0.12494519100652432\n",
                        "Max:  0.15000133323102485\n",
                        "Optimizer: NELDER-MEAD\n",
                        "Mean:  2.2852936545188305\n",
                        "Std:  0.5627565296655614\n",
                        "Min:  1.5389263112252967\n",
                        "Max:  3.1822643338084475\n"
                    ]
                }
            ],
            "metadata": {}
        },
        {
            "cell_type": "code",
            "execution_count": 13,
            "source": [
                "gs = dict()\n",
                "for r in opt_label:\n",
                "    gs[r] = result.loc[r].groupby('rep').apply(min).energy\n",
                "gsdf = pd.DataFrame.from_dict(gs, dtype=float)"
            ],
            "outputs": [],
            "metadata": {}
        },
        {
            "cell_type": "code",
            "execution_count": 14,
            "source": [
                "gsdf"
            ],
            "outputs": [
                {
                    "output_type": "execute_result",
                    "data": {
                        "text/plain": [
                            "       COBYLA  L-BFGS-B     SLSQP  NELDER-MEAD\n",
                            "rep                                           \n",
                            "0    0.125059  0.150013  0.150000     2.307118\n",
                            "1    0.150003  0.150000  0.150001     2.826954\n",
                            "2    0.125155  0.125028  0.124945     2.202345\n",
                            "3    0.125154  0.150000  0.150001     1.699852\n",
                            "4    0.149428  0.150018  0.150001     3.182264\n",
                            "5    0.125046  0.150000  0.150001     1.801551\n",
                            "6    0.150001  0.125354  0.125110     1.912064\n",
                            "7    0.125154  0.150000  0.150001     2.423772\n",
                            "8    0.125155  0.150000  0.150000     2.958089\n",
                            "9    0.125155  0.150000  0.150000     1.538926"
                        ],
                        "text/html": [
                            "<div>\n",
                            "<style scoped>\n",
                            "    .dataframe tbody tr th:only-of-type {\n",
                            "        vertical-align: middle;\n",
                            "    }\n",
                            "\n",
                            "    .dataframe tbody tr th {\n",
                            "        vertical-align: top;\n",
                            "    }\n",
                            "\n",
                            "    .dataframe thead th {\n",
                            "        text-align: right;\n",
                            "    }\n",
                            "</style>\n",
                            "<table border=\"1\" class=\"dataframe\">\n",
                            "  <thead>\n",
                            "    <tr style=\"text-align: right;\">\n",
                            "      <th></th>\n",
                            "      <th>COBYLA</th>\n",
                            "      <th>L-BFGS-B</th>\n",
                            "      <th>SLSQP</th>\n",
                            "      <th>NELDER-MEAD</th>\n",
                            "    </tr>\n",
                            "    <tr>\n",
                            "      <th>rep</th>\n",
                            "      <th></th>\n",
                            "      <th></th>\n",
                            "      <th></th>\n",
                            "      <th></th>\n",
                            "    </tr>\n",
                            "  </thead>\n",
                            "  <tbody>\n",
                            "    <tr>\n",
                            "      <th>0</th>\n",
                            "      <td>0.125059</td>\n",
                            "      <td>0.150013</td>\n",
                            "      <td>0.150000</td>\n",
                            "      <td>2.307118</td>\n",
                            "    </tr>\n",
                            "    <tr>\n",
                            "      <th>1</th>\n",
                            "      <td>0.150003</td>\n",
                            "      <td>0.150000</td>\n",
                            "      <td>0.150001</td>\n",
                            "      <td>2.826954</td>\n",
                            "    </tr>\n",
                            "    <tr>\n",
                            "      <th>2</th>\n",
                            "      <td>0.125155</td>\n",
                            "      <td>0.125028</td>\n",
                            "      <td>0.124945</td>\n",
                            "      <td>2.202345</td>\n",
                            "    </tr>\n",
                            "    <tr>\n",
                            "      <th>3</th>\n",
                            "      <td>0.125154</td>\n",
                            "      <td>0.150000</td>\n",
                            "      <td>0.150001</td>\n",
                            "      <td>1.699852</td>\n",
                            "    </tr>\n",
                            "    <tr>\n",
                            "      <th>4</th>\n",
                            "      <td>0.149428</td>\n",
                            "      <td>0.150018</td>\n",
                            "      <td>0.150001</td>\n",
                            "      <td>3.182264</td>\n",
                            "    </tr>\n",
                            "    <tr>\n",
                            "      <th>5</th>\n",
                            "      <td>0.125046</td>\n",
                            "      <td>0.150000</td>\n",
                            "      <td>0.150001</td>\n",
                            "      <td>1.801551</td>\n",
                            "    </tr>\n",
                            "    <tr>\n",
                            "      <th>6</th>\n",
                            "      <td>0.150001</td>\n",
                            "      <td>0.125354</td>\n",
                            "      <td>0.125110</td>\n",
                            "      <td>1.912064</td>\n",
                            "    </tr>\n",
                            "    <tr>\n",
                            "      <th>7</th>\n",
                            "      <td>0.125154</td>\n",
                            "      <td>0.150000</td>\n",
                            "      <td>0.150001</td>\n",
                            "      <td>2.423772</td>\n",
                            "    </tr>\n",
                            "    <tr>\n",
                            "      <th>8</th>\n",
                            "      <td>0.125155</td>\n",
                            "      <td>0.150000</td>\n",
                            "      <td>0.150000</td>\n",
                            "      <td>2.958089</td>\n",
                            "    </tr>\n",
                            "    <tr>\n",
                            "      <th>9</th>\n",
                            "      <td>0.125155</td>\n",
                            "      <td>0.150000</td>\n",
                            "      <td>0.150000</td>\n",
                            "      <td>1.538926</td>\n",
                            "    </tr>\n",
                            "  </tbody>\n",
                            "</table>\n",
                            "</div>"
                        ]
                    },
                    "metadata": {},
                    "execution_count": 14
                }
            ],
            "metadata": {}
        },
        {
            "cell_type": "code",
            "execution_count": 15,
            "source": [
                "gsdf.describe().T[[\"min\",\"max\",\"mean\",\"std\"]]"
            ],
            "outputs": [
                {
                    "output_type": "execute_result",
                    "data": {
                        "text/plain": [
                            "                  min       max      mean       std\n",
                            "COBYLA       0.125046  0.150003  0.132531  0.011925\n",
                            "L-BFGS-B     0.125028  0.150018  0.145041  0.010462\n",
                            "SLSQP        0.124945  0.150001  0.145006  0.010530\n",
                            "NELDER-MEAD  1.538926  3.182264  2.285294  0.562757"
                        ],
                        "text/html": [
                            "<div>\n",
                            "<style scoped>\n",
                            "    .dataframe tbody tr th:only-of-type {\n",
                            "        vertical-align: middle;\n",
                            "    }\n",
                            "\n",
                            "    .dataframe tbody tr th {\n",
                            "        vertical-align: top;\n",
                            "    }\n",
                            "\n",
                            "    .dataframe thead th {\n",
                            "        text-align: right;\n",
                            "    }\n",
                            "</style>\n",
                            "<table border=\"1\" class=\"dataframe\">\n",
                            "  <thead>\n",
                            "    <tr style=\"text-align: right;\">\n",
                            "      <th></th>\n",
                            "      <th>min</th>\n",
                            "      <th>max</th>\n",
                            "      <th>mean</th>\n",
                            "      <th>std</th>\n",
                            "    </tr>\n",
                            "  </thead>\n",
                            "  <tbody>\n",
                            "    <tr>\n",
                            "      <th>COBYLA</th>\n",
                            "      <td>0.125046</td>\n",
                            "      <td>0.150003</td>\n",
                            "      <td>0.132531</td>\n",
                            "      <td>0.011925</td>\n",
                            "    </tr>\n",
                            "    <tr>\n",
                            "      <th>L-BFGS-B</th>\n",
                            "      <td>0.125028</td>\n",
                            "      <td>0.150018</td>\n",
                            "      <td>0.145041</td>\n",
                            "      <td>0.010462</td>\n",
                            "    </tr>\n",
                            "    <tr>\n",
                            "      <th>SLSQP</th>\n",
                            "      <td>0.124945</td>\n",
                            "      <td>0.150001</td>\n",
                            "      <td>0.145006</td>\n",
                            "      <td>0.010530</td>\n",
                            "    </tr>\n",
                            "    <tr>\n",
                            "      <th>NELDER-MEAD</th>\n",
                            "      <td>1.538926</td>\n",
                            "      <td>3.182264</td>\n",
                            "      <td>2.285294</td>\n",
                            "      <td>0.562757</td>\n",
                            "    </tr>\n",
                            "  </tbody>\n",
                            "</table>\n",
                            "</div>"
                        ]
                    },
                    "metadata": {},
                    "execution_count": 15
                }
            ],
            "metadata": {}
        },
        {
            "cell_type": "markdown",
            "source": [
                "## Plot convergence"
            ],
            "metadata": {}
        },
        {
            "cell_type": "code",
            "execution_count": 25,
            "source": [
                "# select the best runs for each optimizer\n",
                "fig, ax = plt.subplots()\n",
                "for o in opt_label:\n",
                "    result.loc[o,gsdf[o].idxmin()].plot(x='counts',y='energy', xlim=[0,10000],label=o, ax=ax)\n",
                "ax.axhline(0,c=\"k\",ls=\"--\", lw=\"2\",label=\"Exact\")\n",
                "ax.set_xlabel(\"iterations\")\n",
                "ax.set_ylabel(\"VQE energy\")"
            ],
            "outputs": [
                {
                    "output_type": "execute_result",
                    "data": {
                        "text/plain": [
                            "Text(0, 0.5, 'VQE energy')"
                        ]
                    },
                    "metadata": {},
                    "execution_count": 25
                },
                {
                    "output_type": "display_data",
                    "data": {
                        "text/plain": [
                            "<Figure size 720x576 with 1 Axes>"
                        ],
                        "image/png": "[encoded data removed]"
                    },
                    "metadata": {
                        "needs_background": "light"
                    }
                }
            ],
            "metadata": {}
        }
    ],
    "metadata": {
        "orig_nbformat": 4,
        "language_info": {
            "name": "python",
            "version": "3.9.6",
            "mimetype": "text/x-python",
            "codemirror_mode": {
                "name": "ipython",
                "version": 3
            },
            "pygments_lexer": "ipython3",
            "nbconvert_exporter": "python",
            "file_extension": ".py"
        },
        "kernelspec": {
            "name": "python3",
            "display_name": "Python 3.9.6 64-bit ('qiskit-env': conda)"
        },
        "interpreter": {
            "hash": "cba0a9903e245d180c6cf0fc7f680c314447a948093ed8b007f03f8cc0b74c3b"
        }
    },
    "nbformat": 4,
    "nbformat_minor": 2
}